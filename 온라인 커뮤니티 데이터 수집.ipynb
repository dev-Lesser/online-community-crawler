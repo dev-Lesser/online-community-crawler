{
 "cells": [
  {
   "cell_type": "code",
   "execution_count": 3,
   "metadata": {},
   "outputs": [],
   "source": [
    "import requests\n",
    "from lxml import html\n",
    "from tqdm.notebook import tqdm"
   ]
  },
  {
   "cell_type": "markdown",
   "metadata": {},
   "source": [
    "# 일베"
   ]
  },
  {
   "cell_type": "code",
   "execution_count": 55,
   "metadata": {},
   "outputs": [],
   "source": [
    "result = []\n",
    "date = []\n",
    "# for i in tqdm(range(1,10)):\n",
    "page_num = 1\n",
    "url = 'https://www.ilbe.com/search?docType=doc&searchType=title_content&page={page_num}&q=이준석'.format(page_num=1)\n",
    "res = requests.get(url)\n",
    "root = html.fromstring(res.text)\n",
    "tree = root.xpath('//div[@class=\"search-list\"]/ul/li')\n",
    "#     [''.join(i.xpath('.//a/text()')).replace('\\xa0','') for i in tree]\n",
    "result += [''.join(i.xpath('.//a/text()|.//a/strong/text()')) for i in tree]\n",
    "date += [i.xpath('.//span[@class=\"date\"]/text()')[0].split()[0] for i in tree]\n"
   ]
  },
  {
   "cell_type": "code",
   "execution_count": 80,
   "metadata": {},
   "outputs": [],
   "source": [
    "url = 'https://www.ilbe.com/view/11349325935'\n",
    "res = requests.get(url)\n",
    "root = html.fromstring(res.text)"
   ]
  },
  {
   "cell_type": "code",
   "execution_count": 81,
   "metadata": {},
   "outputs": [
    {
     "data": {
      "text/plain": [
       "\" 천도교는 죽었다깨도 민주주의가 아니다. 민주화 운동의 시작에 깔린 '사기 기망' 그리고 광주민중항쟁은 저항권을 행사하지 않은 그냥 천도교민란. 전두환 심판이 흔들리는게 아닌데 유공자 이런 문제는 근본 문제. 재판 판결이 그때부터 주문했겠지. 판결문을 이렇게 써달라. 검찰당 빼면 사회를 아무도 못 바꾸고 그냥 천도교 독재에 바지저고리임 \""
      ]
     },
     "execution_count": 81,
     "metadata": {},
     "output_type": "execute_result"
    }
   ],
   "source": [
    "' '.join([i.replace(u'\\xa0',u' ').strip() for i in root.xpath('//div[@class=\"post-content\"]/text()|.//div[@class=\"post-content\"]/*/text()')])"
   ]
  },
  {
   "cell_type": "code",
   "execution_count": 76,
   "metadata": {},
   "outputs": [
    {
     "data": {
      "text/plain": [
       "[]"
      ]
     },
     "execution_count": 76,
     "metadata": {},
     "output_type": "execute_result"
    }
   ],
   "source": [
    "tree = root.xpath('//div[@class=\"search-list\"]/ul/li')\n",
    "[i.xpath('.//a/@href')[0] for i in tree]"
   ]
  },
  {
   "cell_type": "code",
   "execution_count": 48,
   "metadata": {},
   "outputs": [
    {
     "data": {
      "text/plain": [
       "'<!doctype html>\\r\\n<html lang=\"ko\">\\r\\n<head>\\r\\n<script async src=\"//cmp.optad360.io/items/b6362e21-87f3-4490-88b1-aa4c8ff44e04.min.js\"></script>\\r\\n<!-- Global site tag (gtag.js) - Google Analytics -->\\r\\n<script async src=\"https://www.googletagmanager.com/gtag/js?id=UA-21408074-2\"></script>\\r\\n<script>\\r\\n  window.dataLayer = window.dataLayer || [];\\r\\n  function gtag(){dataLayer.push(arguments);}\\r\\n  gtag(\\'js\\', new Date());\\r\\n\\r\\n  gtag(\\'config\\', \\'UA-21408074-2\\');\\r\\n</script>\\r\\n<meta http-equiv=\"Content-Type\" content=\"text/html; charset=utf-8\">\\r\\n<meta charset=\"utf-8\">\\r\\n<title>이준석 국힘 당대표이후 다음 대선 예상 | 짤방-유머게시판 | 일베저장소</title>\\r\\n\\r\\n<link rel=\"apple-touch-icon\" href=\"/img/favicon/icon_favicon.ico\">\\r\\n<link rel=\"shortcut icon\" href=\"/img/favicon/icon_favicon.ico\">\\r\\n<meta name=\"msapplication-TileColor\" content=\"#ffffff\">\\r\\n<meta name=\"msapplication-TileImage\" content=\"/img/favicon/icon_favicon.ico\">\\r\\n<meta name=\"theme-color\" content=\"#ffffff\">\\r\\n<meta http-equiv=\"X-UA-Compatible\" content=\"IE=9,IE=10,IE=Edge,chrome=1\" />\\r\\n\\r\\n<meta property=\"og:type\" content=\"website\">\\r\\n<meta property=\"og:title\" content=\"일간베스트\">\\r\\n<meta property=\"og:image\" content=\"/images/ilbe.png\">\\r\\n<meta property=\"og:description\" content=\"일베저장소 - 일간베스트, 개드립, 짤방, 플래시 게임, 유머 게시판\">\\r\\n<meta property=\"og:url\" content=\"http://www.ilbe.com\">\\t\\t\\t\\t\\t\\r\\n\\r\\n<link href=\"/css/base.css?190820\" rel=\"stylesheet\">\\r\\n<link href=\"/css/common.css?190820\" rel=\"stylesheet\">\\r\\n<link rel=\"stylesheet\" href=\"/js/toast/toast.css?190820\">\\r\\n<link rel=\"stylesheet\" href=\"/js/popup/popup.css?190820\">\\r\\n<link href=\"/css/board.css?190820\" rel=\"stylesheet\">\\r\\n<script>\\r\\n  !function(f,b,e,v,n,t,s)\\r\\n  {if(f.fbq)return;n=f.fbq=function(){n.callMethod?\\r\\n  n.callMethod.apply(n,arguments):n.queue.push(arguments)};\\r\\n  if(!f._fbq)f._fbq=n;n.push=n;n.loaded=!0;n.version=\\'2.0\\';\\r\\n  n.queue=[];t=b.createElement(e);t.async=!0;\\r\\n  t.src=v;s=b.getElementsByTagName(e)[0];\\r\\n  s.parentNode.insertBefore(t,s)}(window, document,\\'script\\',\\r\\n  \\'https://connect.facebook.net/en_US/fbevents.js\\');\\r\\n  fbq(\\'init\\', \\'461626781012076\\');\\r\\n  fbq(\\'track\\', \\'PageView\\');\\r\\n\\r\\nwindow.keyword=\"manhwa\";\\r\\nwindow.csrf_val=\"c397d9d80ab96642134f28c27658b17f\";\\r\\nwindow.web=true;\\r\\n</script>\\r\\n\\r\\n<script src=\"/js/jquery/jquery-1.12.4.min.js\"></script>\\r\\n<!-- script src=\"/js/prefixfree.min.js?200206\"></script-->\\r\\n<!--  script src=\"/js/ib.js?200206\"></script-->\\r\\n<script src=\"/js/common.js?200206\"></script>\\r\\n<script src=\"/js/pgpopup.js?200206\"></script>\\r\\n<script src=\"/js/toast/toast.js?200206\"></script>\\r\\n<script src=\"/js/popup/popup.js?200206\"></script>\\r\\n\\r\\n<script src=\"/js/secure/jsbn.js\"></script>\\r\\n<script src=\"/js/secure/prng4.js\"></script>\\r\\n<script src=\"/js/secure/rng.js\"></script>\\r\\n<script src=\"/js/secure/rsa.js\"></script>\\r\\n<script src=\"/oa/loader.js?200206\"></script>\\r\\n\\t<script src=\"/js/board/thumb.js?200206\"></script>\\r\\n\\r\\n<!--[if lte IE 8]>\\r\\n\\t<link href=\"/css/ie8_common.css\" rel=\"stylesheet\">\\r\\n<![endif]-->\\r\\n<style type=\"text/css\">\\r\\n\\r\\n@font-face {font-family: \\'TmonMonsori\\';\\r\\nsrc: url(\\'https://cdn.jsdelivr.net/gh/projectnoonnu/noonfonts_two@1.0/TmonMonsori.woff\\') format(\\'woff\\');font-weight: normal;font-style: normal; \\r\\n}\\r\\n.tmonsori_1 { \\r\\n\\tfont-family:\\'TmonMonsori\\' !important; \\r\\n\\tfont-weight:bold;\\r\\n\\tfont-size: 1.2em;\\r\\n\\t\\r\\n\\tletter-spacing:0px;\\r\\n\\tcolor:#636363;\\r\\n}\\r\\n.tmonsori_1.date{position:relative; top:-95px; left:50px; width:120px;}\\r\\n.tmonsori_1.day{position: relative; top: -31px; right: 20px; width: 160px; text-align: right; font-size: 1.3em;}\\r\\n\\r\\n</style>\\r\\n\\r\\n<script>\\r\\n    function golink(url,id){\\r\\n    \\tdeleteNoti(id);\\r\\n    \\t\\r\\n    }\\r\\n    function deleteNotiAll(){\\r\\n    \\tToast.show(\"전체 알림을 삭제 합니다.\",{\\r\\n    \\t\\t\\tok:function(){\\r\\n    \\t\\t\\t\\tdeleteNoti(\\'noti-all\\');\\r\\n    \\t\\t\\t},\\r\\n    \\t\\t\\tcancel:function(){\\r\\n    \\t\\t\\t}\\r\\n    \\t\\t});\\r\\n    }\\r\\n    function deleteNoti(id){\\r\\n    \\tvar param={};\\r\\n    \\tparam.ckCsrfToken=window.csrf_val;\\r\\n    \\tparam.notify=id;\\r\\n    \\t$.post(\"/member/deletenotify\",param,function(res){\\r\\n    \\t\\tvar data=JSON.parse(res);\\r\\n    \\t\\t\\r\\n    \\t\\tif(data.result==\"Y\"){\\t\\t\\t\\t\\t\\t\\t\\t\\r\\n    \\t\\t\\tif(id!==\\'noti-all\\'){\\r\\n    \\t\\t\\t\\t$(\"#\"+id).remove();\\r\\n    \\t\\t\\t\\tvar count=parseInt($(\".notify-count\").text());\\r\\n    \\t\\t\\t\\tif(count==1){\\r\\n    \\t\\t\\t\\t\\t$(\"#event-notice\").html(\"\");\\r\\n    \\t\\t\\t\\t\\t$(\"#event-notice\").css(\"display\",\"none\");\\r\\n    \\t\\t\\t\\t}else{\\r\\n    \\t\\t\\t\\t\\t$(\".notify-count\").text(count-1);\\r\\n    \\t\\t\\t\\t\\tif(count-1>30){\\r\\n    \\t\\t\\t\\t\\t\\t$(\".notify-count2\").text(\"30+\");\\r\\n    \\t\\t\\t\\t\\t}else{\\r\\n    \\t\\t\\t\\t\\t\\t$(\".notify-count2\").text(count-1);\\r\\n    \\t\\t\\t\\t\\t}\\r\\n    \\t\\t\\t\\t}\\r\\n    \\t\\t\\t}else{\\r\\n    \\t\\t\\t\\t$(\".notify-count2\").text(\"0\");\\r\\n    \\t\\t\\t\\t$(\"#event-notice\").html(\"\");\\r\\n    \\t\\t\\t\\t$(\"#event-notice\").css(\"display\",\"none\");\\r\\n    \\t\\t\\t}\\t\\t\\t\\r\\n    \\t\\t}else{\\r\\n    \\t\\t\\tToast.show(data.msg,{modal:true});\\r\\n    \\t\\t}\\r\\n    \\t}).fail(function(){Toast.show(\"서버 오류.\",{modal:true});});\\r\\n    }\\r\\n    </script>\\r\\n</head>\\r\\n<body>\\r\\n<script async src=\"//get.optad360.io/sf/9933a078-d23f-452c-bfab-4c2d26749c7b/plugin.min.js\"></script>\\r\\n<script>document.write(\"<iframe src=\\'//www.mediacategory.com/servlet/iadbn?from=\"+escape(document.referrer)+\"&s=506846&psb=99\\' scrolling=\\'no\\' frameborder=0 width=0 height=0></iframe>\");</script>\\r\\n<!-- wrap -->\\r\\n<div id=\"wrap\">\\r\\n\\t<!-- header -->\\r\\n\\t<div id=\"header\">\\r\\n\\t\\t<div id=\"gnb-top\" class=\"bg-season\" style=\"display: block; background: url(\\'/logo/headerBg8.jpg\\') no-repeat center 0;\">\\r\\n\\t\\t\\t<div class=\"gnb-fix-area\">\\r\\n\\t\\t\\t\\t\\r\\n\\t\\t\\t\\t<h1 class=\"logo-link\"><a href=\"/\">일간베스트 저장소</a></h1>\\r\\n\\t\\t\\t\\t<div class=\"search-area\">\\r\\n\\t\\t\\t\\t\\t<form id=\"searchAllForm\" action=\"/search\">\\r\\n\\t\\t\\t\\t\\t<div id=\"keyowrd_wrap\" class=\"hide\">\\r\\n\\t\\t\\t\\t\\t\\t<span><strong>\\'<em id=\"keyword\"></em>\\'</strong><em id=\"josa\"></em></span>\\r\\n\\t\\t\\t\\t\\t</div>\\r\\n\\t\\t\\t\\t\\t<span class=\"search-window\">\\r\\n\\t\\t\\t\\t\\t\\t<input type=\"text\" id=\"search_q\" name=\"q\" />\\r\\n\\t\\t\\t\\t\\t</span>\\r\\n\\t\\t\\t\\t\\t<button type=\"submit\" class=\"btn-search\"><span>검색</span></button>\\r\\n\\t\\t\\t\\t\\t</form>\\r\\n\\t\\t\\t\\t</div>\\r\\n\\t\\t\\t</div>\\r\\n\\t\\t\\t<script src=\"/js/search.js?200206\"></script>\\r\\n\\t\\t\\t\\r\\n\\t\\t</div>\\t\\t\\r\\n\\t\\t<!-- GNB -->\\r\\n\\t\\t<div id=\"gnb\">\\r\\n\\t\\t\\t\\n<ul id=\\'menu\\' class=\\'gnb-list drop-menu\\'><li><a href=\\'/list/ilbe\\'>일베</a><ul class=\\'depth2\\'><li class=\\'top_menu_sub\\'><a focus-id=\\'4044bfe31de72a1de22410b74a17b58f\\' href=\\'/list/ilbe\\'>일베-일간베스트</a></li><li class=\\'top_menu_sub\\'><a focus-id=\\'4136eb1e88187ceabbe796c8bb70b3af\\' href=\\'/list/ilbe?sub=best\\'>일베-일간베스트 (인기글)</a></li><li class=\\'top_menu_sub\\'><a focus-id=\\'df71d9507f090d99357a11a77231bdd4\\' href=\\'https://www.ilbe.com/list/ilbe?category=2701083014\\'>일베-일간베스트 (정보)</a></li><li class=\\'top_menu_sub\\'><a focus-id=\\'9ab8f1fe8c734e72a8b19318767e998f\\' href=\\'https://www.ilbe.com/list/ilbe?sub=info\\'>일베-일간베스트 (정보 인기글)</a></li><li class=\\'top_menu_sub\\'><a focus-id=\\'7bc6b9af23e729332ccfe347403b5146\\' href=\\'/list/lanhist\\'>랜선역사</a></li><li class=\\'top_menu_sub\\'><a focus-id=\\'2e3c0b8578c0230a24db26db76b3e783\\' href=\\'/list/logo\\'>로고/퍼스나콘</a></li></ul></li><li><a href=\\'/list/jjal\\'>짤방</a><ul class=\\'depth2\\'><li class=\\'top_menu_sub\\'><a focus-id=\\'3c6b5f43ce232bec0fee8c4bfd1dcba3\\' href=\\'/list/jjal\\'>짤방-유머게시판</a></li><li class=\\'top_menu_sub\\'><a focus-id=\\'6b3b78585e756d3a81aaae84e15cebaa\\' href=\\'https://www.ilbe.com/list/jjal?sub=best\\'>짤방-유머게시판 (인기글)</a></li><li class=\\'top_menu_sub\\'><a focus-id=\\'9711d3aa11fdef7d624f9566ee18b48f\\' href=\\'/list/celeb\\'>걸그룹/연예인</a></li><li class=\\'top_menu_sub\\'><a focus-id=\\'54b75b4ca2edfe30005ebd29dc823e5d\\' href=\\'/list/animation\\'>애니메이션</a></li></ul></li><li><a href=\\'/list/politics\\'>정치/시사</a><ul class=\\'depth2\\'><li class=\\'top_menu_sub\\'><a focus-id=\\'47e8ffce0f798fb09201c7f472572b19\\' href=\\'/list/issue\\'>뉴스/이슈</a></li><li class=\\'top_menu_sub\\'><a focus-id=\\'146b2fec93f8778cd70652ec875fe39c\\' href=\\'https://www.ilbe.com/list/issue?sub=best\\'>뉴스/이슈 (인기글)</a></li><li class=\\'top_menu_sub\\'><a focus-id=\\'1517e535a47f1463e6b948471878abb2\\' href=\\'/list/politics\\'>정치/시사</a></li><li class=\\'top_menu_sub\\'><a focus-id=\\'b0ac19ad57ebd288083e73b62756541a\\' href=\\'https://www.ilbe.com/list/politics?sub=best\\'>정치/시사 (인기글)</a></li></ul></li><li><a href=\\'/si/popular\\'>인기</a><ul class=\\'depth2\\'><li class=\\'top_menu_sub\\'><a focus-id=\\'9711d3aa11fdef7d624f9566ee18b48f\\' href=\\'/list/celeb\\'>걸그룹/연예인</a></li><li class=\\'top_menu_sub\\'><a focus-id=\\'f338ffca9730c9a02586d7bae1545008\\' href=\\'/list/sangdam\\'>고민상담</a></li><li class=\\'top_menu_sub\\'><a focus-id=\\'ba130e47c71261aa831e8ba4749c97e3\\' href=\\'/list/university\\'>대학</a></li><li class=\\'top_menu_sub\\'><a focus-id=\\'75ed9b816c599e6e9bb0aa090236685d\\' href=\\'/list/fashion\\'>미용/패션</a></li><li class=\\'top_menu_sub\\'><a focus-id=\\'a2105a738c44047f8c7f65d7d28b2219\\' href=\\'/list/smartphone\\'>스마트폰</a></li><li class=\\'top_menu_sub\\'><a focus-id=\\'54b75b4ca2edfe30005ebd29dc823e5d\\' href=\\'/list/animation\\'>애니메이션</a></li><li class=\\'top_menu_sub\\'><a focus-id=\\'6d70d5a708e449ab15d756ee07dcb756\\' href=\\'/list/free\\'>잡담</a></li></ul></li><li><a href=\\'/si/normal\\'>일반</a><ul class=\\'depth2\\'><li class=\\'top_menu_sub\\'><a focus-id=\\'4083cf790e14d1eb2efc566a1532eb46\\' href=\\'/list/fear\\'>공포/미스터리</a></li><li class=\\'top_menu_sub\\'><a focus-id=\\'63553dcdb5d68e8add9dffa52ebeda83\\' href=\\'/list/fishing\\'>낚시</a></li><li class=\\'top_menu_sub\\'><a focus-id=\\'043a46817150c3865e8b7cfe742ee78e\\' href=\\'/list/military\\'>밀리터리</a></li><li class=\\'top_menu_sub\\'><a focus-id=\\'937b57a25f47ecf12287509c4a61fa3c\\' href=\\'/list/car\\'>자동차</a></li><li class=\\'top_menu_sub\\'><a focus-id=\\'9668bf1769fcc9be76cdafea9f927110\\' href=\\'/list/bike\\'>자전거</a></li><li class=\\'top_menu_sub\\'><a focus-id=\\'6d70d5a708e449ab15d756ee07dcb756\\' href=\\'/list/free\\'>잡담</a></li></ul></li><li><a href=\\'/si/culture\\'>문화</a><ul class=\\'depth2\\'><li class=\\'top_menu_sub\\'><a focus-id=\\'c361e0f66645cfe9f9ecc9bd15834a39\\' href=\\'/list/drama\\'>TV프로그램</a></li><li class=\\'top_menu_sub\\'><a focus-id=\\'45f82bb229ff23a00fb628988ebe9c03\\' href=\\'/list/book\\'>도서</a></li><li class=\\'top_menu_sub\\'><a focus-id=\\'c7752de78001550284f8690c92005958\\' href=\\'/list/camera\\'>사진/카메라</a></li><li class=\\'top_menu_sub\\'><a focus-id=\\'5719997e71df14a697923da3b0fa23e1\\' href=\\'/list/animal\\'>애완동물</a></li><li class=\\'top_menu_sub\\'><a focus-id=\\'ca50defd5838383311cad69597c5056d\\' href=\\'/list/travel\\'>여행/캠핑</a></li><li class=\\'top_menu_sub\\'><a focus-id=\\'2dada7ae9e910ef8814f67e15fca2965\\' href=\\'/list/movie\\'>영화</a></li><li class=\\'top_menu_sub\\'><a focus-id=\\'9749d3235ef84982f3d25414265456de\\' href=\\'/list/recipe\\'>요리/맛집</a></li><li class=\\'top_menu_sub\\'><a focus-id=\\'1c005041d9683c0b703efb36a82a5e94\\' href=\\'/list/music\\'>음악</a></li><li class=\\'top_menu_sub\\'><a focus-id=\\'c6cad4a2f8bb45563ceabef43c98f72b\\' href=\\'/list/creation\\'>창작</a></li></ul></li><li><a href=\\'https://www.ilbe.com/ctrl/svc/pagepriview/sports\\'>스포츠</a><ul class=\\'depth2\\'><li class=\\'top_menu_sub\\'><a focus-id=\\'9ed7b010109c1de36b5de10c97d34136\\' href=\\'/list/basketball\\'>농구</a></li><li class=\\'top_menu_sub\\'><a focus-id=\\'6a6a5c4517c81702781d78c08c9b9074\\' href=\\'/list/match\\'>승부</a></li><li class=\\'top_menu_sub\\'><a focus-id=\\'d8838f3b2d755a52045de91339b1cae3\\' href=\\'/list/baseball\\'>야구</a></li><li class=\\'top_menu_sub\\'><a focus-id=\\'21d976c34191971d8999c7a0872b6343\\' href=\\'/list/football\\'>축구</a></li><li class=\\'top_menu_sub\\'><a focus-id=\\'cde76d60cd8d30f34284592e3e8be8db\\' href=\\'/list/health\\'>헬스</a></li></ul></li><li><a href=\\'/si/game\\'>게임</a><ul class=\\'depth2\\'><li class=\\'top_menu_sub\\'><a focus-id=\\'e1933061252defadd5f95f02163d342d\\' href=\\'/list/gameall\\'>게임</a></li><li class=\\'top_menu_sub\\'><a focus-id=\\'334710c0a6665e0515d463c5be6739ad\\' href=\\'/list/smartgame\\'>모바일게임</a></li><li class=\\'top_menu_sub\\'><a focus-id=\\'95b8280e7cf1dd61990ffdc433dcb188\\' href=\\'/list/oldgame\\'>지난게임</a></li><li class=\\'top_menu_sub\\'><a focus-id=\\'01922941eb4d726fc9b5b6b52e9207d0\\' href=\\'/list/lol\\'>LoL</a></li><li class=\\'top_menu_sub\\'><a focus-id=\\'412fcbd1dc0b88c524b0165cde44e521\\' href=\\'/list/df\\'>던전앤파이터</a></li><li class=\\'top_menu_sub\\'><a focus-id=\\'2d6c996d4ed871a7af84b1273b815362\\' href=\\'/list/rhythm\\'>리듬게임</a></li><li class=\\'top_menu_sub\\'><a focus-id=\\'300b7d87a0442c19d1272c82ae4734e7\\' href=\\'/list/maplestory\\'>메이플스토리</a></li><li class=\\'top_menu_sub\\'><a focus-id=\\'ee3b879c64f67492944a81514f952899\\' href=\\'/list/battlegrounds\\'>배틀그라운드</a></li><li class=\\'top_menu_sub\\'><a focus-id=\\'cb8ee31d8076726e21c208dc2df4086b\\' href=\\'/list/skyrim\\'>베데스다</a></li><li class=\\'top_menu_sub\\'><a focus-id=\\'e5c5c1696bd2e94bc87809a5c76a5792\\' href=\\'/list/diablo3\\'>블리자드</a></li><li class=\\'top_menu_sub\\'><a focus-id=\\'2fed998666c356cdb256ef2f16a1e75d\\' href=\\'/list/wot\\'>워게이밍넷</a></li></ul></li><li><a href=\\'/si/economy\\'>경제</a><ul class=\\'depth2\\'><li class=\\'top_menu_sub\\'><a focus-id=\\'fb6a7c7af2ee724107c88a01cbf777ea\\' href=\\'/list/bitcoin\\'>가상화폐</a></li><li class=\\'top_menu_sub\\'><a focus-id=\\'1e1eac09302e4bfb0c6bd21a45361d88\\' href=\\'/list/investment\\'>부동산</a></li><li class=\\'top_menu_sub\\'><a focus-id=\\'771cfe59c659670e8f0cac6d2ed81739\\' href=\\'/list/stock\\'>주식</a></li><li class=\\'top_menu_sub\\'><a focus-id=\\'e6529cb52d9fb88c34dbc6e2e2088133\\' href=\\'/list/futures\\'>해외선물</a></li></ul></li></ul>\\r\\n<script>\\r\\n$(function(){\\r\\n\\tvar link=location.pathname;\\r\\n\\t\\t\\t\\t\\r\\n\\t$(\".top_menu_sub\").each(function(){\\r\\n\\t\\tvar obj=$(this);\\r\\n\\t\\tif($(this).find(\"a\").attr(\"focus-id\")==\"3c6b5f43ce232bec0fee8c4bfd1dcba3\"){\\r\\n\\t\\t\\tobj.addClass(\"on\");\\r\\n\\t\\t\\t\\t\\r\\n\\t\\t}\\r\\n\\t});\\r\\n});\\r\\n</script>\\r\\n\\t\\t\\t<ul class=\"side-list drop-menu\">\\r\\n\\t\\t\\t\\t<li class=\"btn-pulldown\"><a href=\"javascript:;\" >전체메뉴<span class=\"ico-menu-drop\"></span></a></li>\\r\\n\\t\\t\\t\\t\\t\\t\\t<li>\\r\\n\\t\\t\\t\\t\\t<a href=\"/list/notice\">공지</a>\\r\\n\\t\\t\\t\\t\\t<ul class=\"depth2\">\\r\\n\\t\\t\\t\\t\\t\\t<li><a href=\"/list/notice\">공지</a></li>\\r\\n\\t\\t\\t\\t\\t\\t<li><a href=\"/list/suggestion\">문의 (구. 건게)</a></li>\\r\\n\\t\\t\\t\\t\\t\\t\\t\\t\\t\\t</ul>\\r\\n\\t\\t\\t\\t</li>\\r\\n\\t\\t\\t\\t\\t\\t</ul>\\r\\n\\t\\t\\t<div id=\"pd-menu\" class=\"pulldown-wrap\">\\r\\n\\t\\t\\t\\t\\t\\t\\t\\t\\r\\n\\t\\t\\t</div>\\r\\n\\t\\t</div>\\r\\n\\t\\t<!-- //GNB -->\\r\\n\\r\\n\\t</div>\\r\\n\\t<!-- //header -->\\r\\n\\r\\n\\r\\n\\r\\n\\t<!-- container -->\\r\\n\\t<div id=\"container\">\\r\\n\\t\\t\\r\\n\\t\\t<!-- 본문 -->\\r\\n\\t\\t<div id=\"content-wrap\">\\r\\n\\t\\t\\t<script src=\"/js/board/view.js?200206\"></script>\\r\\n<script src=\"/js/sns_share.js?200206\"></script>\\r\\n<script src=\"/js/ZeroClipboard.js\"></script>\\r\\n<script>\\r\\n\\r\\n\\r\\n\\twindow.commentboard=11349802435;\\r\\n\\t\\t\\t\\r\\n\\tfunction gotoPage(page){\\t\\t\\r\\n\\t\\tloadInList(11349802435, page);\\t\\t\\r\\n\\t}\\r\\n\\r\\n\\t//게시물 리스트\\r\\n\\tfunction loadInList(cIdx, page, skip){\\r\\n\\t\\tvar param=\"document_srl=\"+cIdx+(page>1 ? \"&page=\"+page : \"\");\\r\\n\\t\\tparam=param+\"\";\\r\\n\\t\\t$.get(\"/listinview/jjal?\"+param,function(res){\\t\\t\\r\\n\\t\\t\\t$(\".board-list\").html(res);\\t\\r\\n\\t\\t\\tif(skip)return;\\r\\n\\t\\t\\tvar st=$(\".board-list\").offset().top-10 ;\\r\\n\\t\\t\\t$(\\'html,body\\').animate({scrollTop:st},300);\\t\\r\\n\\t\\t}).fail(function(){\\r\\n\\t\\t\\t\\r\\n\\t\\t});\\r\\n\\t\\t\\r\\n\\t}\\r\\n\\r\\n\\r\\n\\r\\n\\tfunction modform(pageNum){\\r\\n\\t\\tlocation.href=\"/modform/11349802435?\";\\r\\n\\t}\\r\\n\\t\\r\\n</script>\\r\\n\\r\\n\\r\\n\\r\\n\\t\\t\\r\\n<div class=\"board-wrap\">\\r\\n\\r\\n\\t<div class=\"board-top\">\\r\\n\\t\\t<div class=\"write-num\">글 수 <strong></strong></div>\\r\\n\\t</div>\\r\\n\\t<div class=\"top-banner\">\\r\\n\\t\\t<script>\\r\\n           (function(){var b=!1,c=\"//www.mediacategory.com/servlet/adBanner?from=\"+escape(document.referrer)+\"&s=21181&iwh=728_90&igb=60&cntad=3&cntsr=3\",d=function(){b=!0;document.getElementById(\"mobonDivBanner_21181\").innerHTML=\"<iframe name=\\'ifrad\\' width=\\'728\\' height=\\'90\\' id=\\'mobonIframe_21181\\' src=\\'\"+c+\"\\' frameBorder=\\'0\\' marginWidth=\\'0\\' marginHeight=\\'0\\' scrolling=\\'no\\' ></iframe>\"};try{document.write(\"<div id=\\'mobonDivBanner_21181\\'></div>\");var e=setTimeout(d,1E3),f=document.getElementsByTagName(\"head\").item(0),\\r\\n           a=document.createElement(\"script\");a.src=\"//cdn.megadata.co.kr/js/media/1.1/MBSHandler.js\";a.type=\"text/javascript\";a.async?a.async=!0:a.defer=!0;a.onload=function(){!0!==b&&(clearTimeout(e),enlipleMBSHandler(enlipleMBSHandler.getProductTypeCode(\"banner\"),enlipleMBSHandler.getWebCode(),21181).createBanner(c,\"728\",\"90\"))};f.appendChild(a)}catch(g){d()}})();\\r\\n        </script>\\r\\n\\t</div>\\r\\n\\t<div class=\"board-view\">\\r\\n\\t\\t<div class=\"board-header\">\\r\\n\\t\\t\\t\\t\\t<h2><a href=\"/list/jjal\">짤방-유머게시판</a><span class=\"ico-bookmark\" data-mid=\"jjal\" data-name=\"짤방-유머게시판\" onclick=\"bookmark(this)\"></span></h2>\\r\\n\\t\\t\\t\\t\\t<div class=\"board-util\">\\r\\n\\t\\t\\t\\t<a id=\\'btn_goto_list\\' href=\"/list/jjal\" class=\"btn-default\"><span>목록</span></a>\\r\\n\\t\\t\\t\\t\\r\\n\\t\\t\\t</div>\\r\\n\\t\\t</div>\\r\\n\\r\\n\\t\\t<div class=\"post-wrap\">\\r\\n\\t\\t\\t<div class=\"post-header\">\\r\\n\\t\\t\\t\\t<h3><a href=\"javascript:;\" onclick=\"location.reload();\"  >이준석 국힘 당대표이후 다음 대선 예상</a> <span id=\"sp_count\"></span></h3>\\r\\n\\t\\t\\t\\t\\r\\n\\t\\t\\t\\t<span class=\"global-nick nick\"><img src=\"/img/9.gif\" alt=\"\" /><a href=\"javascript:;\" onclick=\"userpopmenu(\\'7a6c5463712b6a72517231566747654d6a56693756417054434c347236433636533030332b79506674654d575744363546544574436b3250396149484c723359336833415679693844336c44304a2b724a6f627569773d3d\\')\" title=\"포인트 : 8,341, 잉여력 61%\">무현이네고무통</a></span>\\r\\n\\t\\t\\t\\t\\r\\n\\t\\t\\t</div>\\r\\n\\r\\n\\t\\t\\t<div class=\"post-count\">\\r\\n\\t\\t\\t\\t<div class=\"copy\"><a href=\"/view/11349802435\" >http://www.ilbe.com/view/11349802435</a><button class=\"btn-default btn-small\" id=\"copy-button\" data-clipboard-text=\"http://www.ilbe.com/view/11349802435\"><span>복사하기</span></button></div>\\r\\n\\t\\t\\t\\t<div class=\"count\">\\r\\n\\t\\t\\t\\t\\t<span class=\"comment-num\"><a><img src=\"/img/iconReply.gif\" alt=\"\" />0</a></span>\\r\\n\\t\\t\\t\\t\\t<span class=\"date\"><img src=\"/img/icon_clock.png\" alt=\"\" />2021-06-20 <em>18:00:24</em></span>\\r\\n\\t\\t\\t\\t</div>\\r\\n\\t\\t\\t</div>\\r\\n\\t\\t\\t\\t\\t\\t\\t\\t<div class=\"post-content\">\\r\\n\\t\\t\\t\\r\\n\\t\\t\\t\\t<img class=\"-up-content -lazy-image\" alt=\"\" org-width=\"720\" org-height=\"651\" src=\"/img/transparent.gif\" data=\"https://ncache.ilbe.com/files/attach/new/20210620/377678/6465042425/11349802435/5cb136042da7d00f3bdcc10cb9a90098_11349803583.jpg\"><br><br><br><br>1. 김무성 유승민계 아바타가 당대표<br><br>2. 대선 승리 하면 좋지만 지들 계파가 국회의원 의석 더 먹는게 더 중요<br><br>3. 대통령제 폐지 의원내각제가 꿈. (지들이 평생 해먹게)<br><br>4. 유석렬 안철수 거기다 김무성 유승민계 후보랑 대선후보 누가 되냐 개싸움.<br><br>5. 지들이 미는 후보가 안될 바에야 더불당이랑 딜 쳐서 대선 내주고 대신 지들 자리보존하는걸 더 선호<br><br>6. 결국 국힘당은 대선후보 결정에서 쑥대밭되고 민주당이 어부지리 로가져갈 가능성 큼<br><br><br><br><br>국가 디폴트 각오하고 젤 확실힌건 미국 달러 가지고 있는거다 게이들아.<br><br><br><br>&nbsp;\\t\\t\\r\\n\\t\\t\\t</div>\\r\\n\\t\\t\\t\\t\\t\\t\\t<div class=\"vote-wrap\">\\r\\n\\t\\t\\t\\t<button id=\"btn_vote_up\" data=\"11349802435\" class=\"btn-vote good\"><span class=\"btn__ico\"></span><span class=\"btn__txt\">일베로<em class=\"color-ibred\">1</em></span></button>\\r\\n\\t\\t\\t\\t<button id=\"btn_vote_down\" data=\"11349802435\" class=\"btn-vote notgood\"><span class=\"btn__ico\"></span><span class=\"btn__txt\">민주화</span></button>\\r\\n\\t\\t\\t</div>\\r\\n\\t\\t\\t\\r\\n\\t\\t\\t\\r\\n\\r\\n\\t\\t\\t<div class=\"sns-wrap\">\\r\\n\\t\\t\\t\\t<span><a href=\"javascript:;\" onclick=\"docmenu(11349802435,\\'이준석 국힘 당대표이후 다음 대선 예상\\')\" class=\"print\">이 게시물을...<span></span></a></span>\\r\\n\\t\\t\\t\\t<a href=\"javascript:;\" onclick=\"addScrap(11349802435);\" class=\"scrap\">스크랩</a>\\r\\n\\t\\t\\t\\t\\r\\n\\t\\t\\t\\t<a href=\"javascript:;\" class=\"facebook\" title=\"페이스북에 공유하기\" onclick=\"share_facebook(\\'https%3A%2F%2Fwww.ilbe.com%2Fview%2F11349802435\\');\"></a>\\r\\n                \\t<a href=\"javascript:;\" class=\"band\" title=\"네이버 밴드에 공유하기\" onclick=\"share_band(\\'%EC%9D%B4%EC%A4%80%EC%84%9D+%EA%B5%AD%ED%9E%98+%EB%8B%B9%EB%8C%80%ED%91%9C%EC%9D%B4%ED%9B%84+%EB%8B%A4%EC%9D%8C+%EB%8C%80%EC%84%A0+%EC%98%88%EC%83%81\\',\\'https%3A%2F%2Fwww.ilbe.com%2Fview%2F11349802435\\')\"></a>\\t                \\t\\r\\n                \\t<a href=\"javascript:;\" class=\"kakao\" title=\"카카오스토리에 공유하기\" onclick=\"share_kakao_story(\\'%EC%9D%B4%EC%A4%80%EC%84%9D+%EA%B5%AD%ED%9E%98+%EB%8B%B9%EB%8C%80%ED%91%9C%EC%9D%B4%ED%9B%84+%EB%8B%A4%EC%9D%8C+%EB%8C%80%EC%84%A0+%EC%98%88%EC%83%81\\',\\'https%3A%2F%2Fwww.ilbe.com%2Fview%2F11349802435\\')\"></a>\\r\\n                \\t<a href=\"javascript:;\" class=\"twiter\" title=\"트위터에 공유하기\" onclick=\"share_twitter(\\'%EC%9D%B4%EC%A4%80%EC%84%9D+%EA%B5%AD%ED%9E%98+%EB%8B%B9%EB%8C%80%ED%91%9C%EC%9D%B4%ED%9B%84+%EB%8B%A4%EC%9D%8C+%EB%8C%80%EC%84%A0+%EC%98%88%EC%83%81\\',\\'https%3A%2F%2Fwww.ilbe.com%2Fview%2F11349802435\\');\"></a>\\r\\n                \\t<a href=\"javascript:prompt(\\'아래 주소를 복사해주세요.\\', \\'https://www.ilbe.com/view/11349802435\\');void(0);\" title=\"링크 복사하기\" id=\"copy-button\" data-clipboard-text=\"https://www.ilbe.com/view/11349802435\" class=\"url\" title=\"url\"></a>\\r\\n\\t\\t\\t</div>\\r\\n\\t\\t\\t\\r\\n\\t\\t\\t<div class=\"cutin-banner\" id=\"middle-banner\" style=\"margin:5px 0\">\\r\\n\\t\\t\\t\\t\\t\\t</div>\\r\\n\\t\\t\\t\\r\\n\\t\\t\\t\\t\\t<div class=\"attached-file\">\\r\\n\\t\\t\\t\\t<ul>\\t\\t\\r\\n\\t\\t\\t\\t\\t\\t\\t<li><a href=\"/file/download/11349803583\" target=\"_blank\">8d8251dd0bdf0f7719e631277bea2c31.jpg (69.8KB)(1)</a>\\r\\n\\t\\t\\t\\t\\t\\t\\t\\t</li>\\r\\n\\t\\t\\t\\t\\t\\t\\t\\t\\t\\r\\n\\t\\t\\r\\n\\t\\t\\t\\t</ul>\\r\\n\\t\\t\\t</div>\\r\\n\\t\\t\\t\\t\\t<div class=\"btn-post\">\\r\\n\\t\\t\\t\\r\\n\\t\\t\\t\\t<div class=\"btn-post-left\">\\r\\n\\t\\t\\t\\t\\t<a class=\"btn-default hide accesskey_97\" id=\"prev_document\" accesskey=\"a\"><span class=\"btn-prev\">이전글</span></a>\\r\\n\\t\\t\\t\\t\\t<a class=\"btn-default hide accesskey_122\" id=\"next_document\" accesskey=\"z\"><span class=\"btn-next\">다음글</span></a>\\r\\n\\t\\t\\t\\t</div>\\r\\n\\t\\t\\t\\t\\r\\n\\t\\t\\t\\t<div class=\"btn-post-right\">\\r\\n\\t\\t\\t\\t\\t\\t\\t\\t<span><a href=\"/list/jjal\" class=\"btn-default\"><span>목록</span></a></span>\\r\\n\\t\\t\\t\\t\\t\\t\\t\\t\\r\\n\\t\\t\\t\\t\\t\\t\\t\\t\\r\\n\\t\\t\\t\\r\\n\\t\\t\\t\\t\\t\\t\\t</div>\\r\\n\\t\\t\\t</div>\\r\\n\\t\\t</div>\\r\\n\\r\\n\\t\\t<div class=\"post-comment-wrap\">\\r\\n\\t\\t\\t\\r\\n\\t\\t\\t<div class=\"comment-group\" id=\"comment_wrap_in\">\\r\\n\\t\\t\\t</div>\\r\\n\\t\\t</div>\\r\\n\\t\\t\\r\\n\\t\\t\\r\\n\\r\\n\\t\\t<div class=\"cutin-banner\">\\r\\n\\t\\t\\t<div id=\"538746318_view3_a00000011\" style=\"width: 100%; height: 90px; margin: 0 auto; padding: 0;\">\\t\\t\\t\\t\\r\\n\\t\\t\\t\\t<script>loadOpenx(\"538746318_view3_a00000011\");</script>\\r\\n\\t\\t\\t</div>\\r\\n\\t\\t</div>\\r\\n\\r\\n\\t</div>\\r\\n\\r\\n\\t<div class=\"board-list\">\\t\\t\\t\\t\\r\\n\\t\\t\\r\\n\\t</div>\\r\\n\\r\\n</div>\\r\\n<link rel=\"stylesheet\" href=\"/js/swiper/swiper.min.css\">\\r\\n<style>\\r\\n.swiper-pagination-bullet {\\r\\n      width: 30px;\\r\\n      height: 30px;\\r\\n      text-align: center;\\r\\n      line-height: 30px;\\r\\n      font-size: 12px;\\r\\n      color:#555;\\r\\n      font-weight:bold;\\r\\n      opacity: 1;\\r\\n      background: rgba(0,0,0,0.2);\\r\\n    }\\r\\n    .swiper-pagination-bullet-active {\\r\\n      color:#fff;\\r\\n      background: #007aff;\\r\\n    }\\r\\n    .swiper-pagination{\\r\\n    \\tbackground:rgba(255,255,255,.5);\\r\\n    \\tpadding:10px 0;\\r\\n    \\tposition:fixed;\\r\\n    \\tbottom:10px;\\r\\n    \\t\\r\\n    }\\r\\n</style>\\r\\n<script src=\"/js/swiper/swiper.min.js\"></script>\\r\\n<script>\\r\\n\\r\\n/*for pagination*/\\r\\nfunction loadComment(page,skip){\\r\\n\\tloadCommentList(page,11349802435,skip);\\r\\n}\\r\\nclipBoard();\\r\\n\\r\\n\\r\\n\\t  \\r\\n    \\t\\t\\r\\n\\t\\tloadCommentList(0,11349802435,\"TOP\");\\r\\n\\t\\tloadInList(11349802435,1,true);\\r\\n    \\t\\r\\n\\r\\n\\r\\n\\r\\nfunction loadImage(){\\r\\n\\t$(\".-lazy-image\").each(function(){\\r\\n\\t\\tif($(this).attr(\"loading\")!=\"on\"){\\r\\n\\t\\t\\tvar winHeight=$(window).height();\\r\\n\\t\\t\\tvar scrollTop=$(window).scrollTop();\\t\\t\\t\\r\\n\\t\\t\\tvar pos=$(this).offset();\\r\\n\\t\\t\\tvar height=$(this).height();\\r\\n\\t\\t\\tif( (scrollTop <=pos.top && winHeight+scrollTop >=pos.top) || \\r\\n\\t\\t\\t\\t\\t(scrollTop <=pos.top+height && winHeight+scrollTop >=pos.top+height) ){\\t\\t\\t\\t\\r\\n\\t\\t\\t\\t$(this).attr(\"src\",$(this).attr(\"data\")).attr(\"loading\",\"on\");\\r\\n\\t\\t\\t//\\t$(this).css(\"background\",\"\");\\t\\r\\n\\t\\t\\t\\t\\t\\t\\t\\t\\t\\r\\n\\t\\t\\t}\\r\\n\\t\\t}\\r\\n\\t});\\r\\n}\\r\\nfunction removeLazyLoading(img){\\r\\n\\t\\r\\n\\t$(img).css(\"background\",\"\").removeAttr(\"onload\").removeAttr(\"onerror\");\\r\\n\\t\\r\\n}\\r\\n\\r\\nfunction lazyError(img){\\r\\n\\tremoveLazyLoading(img);\\r\\n\\t$(img).attr(\"src\",\"/img/ib_noimg1.jpg\").removeAttr(\"width\").removeAttr(\"height\");\\r\\n}\\r\\n\\r\\nfunction resizeVideo(){\\r\\n\\tvar $allVideos = $(\".post-content iframe\");\\t\\r\\n\\tvar $fluidEl = $(\".post-content\");\\t\\r\\n\\t$allVideos.each(function() {\\r\\n\\t\\tvar obj=$(this);\\t\\t\\r\\n\\t\\tvar w=this.width;\\r\\n\\t\\tvar h=this.height;\\r\\n\\r\\n\\t\\tvar ratio=h/w;\\r\\n\\t\\tvar parentWidth=$($fluidEl).width();\\r\\n\\t\\tvar multi=parentWidth/w;\\r\\n\\t\\tif(multi>=1)return;\\r\\n\\t\\t\\r\\n\\t\\tvar w=w*multi;\\r\\n\\t\\tvar h=h*multi;\\r\\n\\t\\t\\r\\n\\t\\t\\r\\n\\t\\t$(this).data(\\'aspectRatio\\', this.height / this.width)// and remove the hard coded width/height\\t\\t\\r\\n\\t\\t.attr(\"width\",w)\\r\\n\\t\\t.attr(\"height\",h);\\t\\t\\r\\n\\t});\\r\\n}\\r\\n\\r\\n\\r\\n$(\".-lazy-image\").each(function(i){\\r\\n\\tvar $img=$(this);\\r\\n\\t$img.attr(\"title\",\"원본확인 클릭\");\\r\\n\\t$img.css(\"cursor\",\"pointer\");\\r\\n\\t/*\\r\\n\\tif(i<3){\\r\\n\\t\\t$img.attr(\"onload\",\"removeLazyLoading(this)\");\\r\\n\\t\\t$img.attr(\"onerror\",\"lazyError(this)\");\\t\\t\\t\\r\\n\\t\\t$img.css(\\'background\\', \\'url(/img/loading.gif) no-repeat 50% 50%\\');\\r\\n\\t\\t$img.attr(\"src\",$(this).attr(\"data\")).attr(\"loading\",\"on\");\\r\\n\\t}else{\\r\\n\\t\\t$img.attr(\"onload\",\"removeLazyLoading(this)\");\\r\\n\\t\\t$img.attr(\"onerror\",\"lazyError(this)\");\\t\\t\\t\\r\\n\\t\\t$img.css(\\'background\\', \\'url(/img/loading.gif) no-repeat 50% 50%\\');\\r\\n\\t}*/\\r\\n\\tif(!$img.attr(\"width\") && $img.attr(\"org-width\")){\\r\\n\\t\\t$img.attr(\"width\",$img.attr(\"org-width\"));\\r\\n\\t}\\r\\n\\tif(!$img.attr(\"height\") && $img.attr(\"org-height\")){\\r\\n\\t\\t$img.attr(\"height\",$img.attr(\"org-height\"));\\r\\n\\t}\\r\\n\\t$img.attr(\"onload\",\"removeLazyLoading(this)\");\\r\\n\\t$img.attr(\"onerror\",\"lazyError(this)\");\\t\\t\\t\\r\\n\\t$img.css(\\'background\\', \\'url(/img/loading.gif) no-repeat 50% 50%\\');\\r\\n\\t$img.attr(\"src\",$(this).attr(\"data\")).attr(\"loading\",\"on\");\\r\\n\\t\\r\\n});\\r\\n\\r\\nvar hideAnim=false;\\r\\nfunction hideImageShow(){\\r\\n\\tif(hideAnim)return;\\r\\n\\thideAnim=true;\\r\\n\\t$(\"#close_wrap\").remove();\\r\\n\\t\\r\\n\\t$(\"#_image_view_wrap\").animate(\\r\\n\\t\\t{ left: \"-100%\"}, \\r\\n\\t\\t400,\\r\\n\\t\\tfunction(){\\r\\n\\t\\t\\t$(\"#_image_view_wrap\").remove();\\r\\n\\t\\t\\t$(\\'body\\').css({\\r\\n                overflow: \\'auto\\',\\r\\n                height: \\'auto\\'\\r\\n            });\\r\\n\\t\\t\\thideAnim=false;\\r\\n\\t\\t}\\r\\n\\t);\\r\\n}\\r\\nwindow.onpopstate = function(e) { \\r\\n\\thideImageShow();\\r\\n};\\r\\n\\t\\r\\n\\t\\r\\n$(\".post-content .-lazy-image\").on(\"click\", function() {\\r\\n\\thistory.pushState(null, \"원본보기\", \"\");\\r\\n\\tvar $clickImg=$(this);\\r\\n\\tvar windHeight=$(window).height();\\r\\n\\tvar topData=$(window).scrollTop();\\r\\n\\tvar $wrap=$(\"<div id=\\'_image_view_wrap\\' class=\\'swiper-container\\' style=\\'overflow:auto;width:100%;height:100%;background:rgba(0,0,0,.95);position:absolute;top:\"+topData+\"px;left:0;z-index:9000\\'><div class=\\'swiper-wrapper\\'></div><div class=\\'swiper-pagination\\'></div><div class=\\'swiper-button-next\\'></div><div class=\\'swiper-button-prev\\'></div></div>\");\\r\\n\\tvar index=0;\\r\\n\\t$(\\'body\\').css({\\r\\n\\t\\t    overflow: \\'hidden\\',\\r\\n\\t\\t    height: \\'100%\\'\\r\\n\\t});\\r\\n        \\r\\n\\t$(\".post-content .-lazy-image\").each(function(i){\\r\\n\\t\\tif($(this).attr(\"src\")==\"/img/ib_noimg1.jpg\")return;\\r\\n\\t\\tvar $src=$(this).attr(\"data\");\\r\\n\\t\\tif(!$src)$src=$(this).attr(\"src\");\\r\\n    \\tvar $img=\"<div class=\\'swiper-slide\\' style=\\'text-align:center;line-height:\"+windHeight+\"px\\'><img src=\\'\"+$src+\"\\' style=\\'vertical-align:middle\\'></div>\";\\r\\n\\t\\t$wrap.find(\".swiper-wrapper\").append($img);\\r\\n\\t\\tif($clickImg.attr(\"data\")==$(this).attr(\"data\")){\\r\\n    \\t\\tindex=i;\\r\\n    \\t}\\r\\n\\t});\\r\\n\\tvar $buttonWrap=$(\"<div id=\\'close_wrap\\' style=\\'position:absolute;top:\"+topData+\"px;left:0;z-index:9001;width:100%;height:40px\\'><button style=\\'float:right;margin:25px;width:60px;line-height:30px;border:1px solid #fff;background:rgba(0,0,0,0.7);color:#fff;border-radius:4px\\' onclick=\\'hideImageShow();history.back()\\'>닫기</button></div>\");\\r\\n\\t$(\"body\").append($wrap);\\r\\n\\t$(\"body\").append($buttonWrap);\\r\\n\\tvar swiper = new Swiper(\\'#_image_view_wrap\\', {\\r\\n\\t\\t\\tpagination: {\\r\\n\\t\\t        el: \\'.swiper-pagination\\',\\r\\n\\t\\t        clickable: true,\\r\\n\\t\\t        renderBullet: function (index, className) {\\r\\n\\t\\t          return \\'<span class=\"\\' + className + \\'\">\\' + (index + 1) + \\'</span>\\';\\r\\n\\t\\t        },\\r\\n\\t\\t\\t},\\r\\n\\t        navigation: {\\r\\n\\t\\t\\t\\tnextEl: \\'.swiper-button-next\\',\\r\\n\\t\\t\\t    prevEl: \\'.swiper-button-prev\\',\\r\\n\\t\\t\\t},\\r\\n\\t\\t}\\r\\n\\t);\\r\\n\\tswiper.slideTo(index);\\r\\n});\\r\\n\\r\\nloadImage();\\r\\nresizeVideo();\\r\\n$(window).on(\"scroll\",loadImage);\\r\\n$(window).on(\"resize\",resizeVideo);\\r\\n\\r\\n\\t\\r\\n\\r\\n</script>\\r\\n\\r\\n\\t\\t\\t\\r\\n\\t\\t\\t<!--<div class=\"widget cutin-banner js-genieessp-com\"></div>-->\\r\\n\\t\\t\\t\\r\\n\\t\\t</div>\\r\\n\\t\\t\\r\\n\\t\\t<!-- //본문 -->\\r\\n\\r\\n\\t\\t<!-- aside -->\\r\\n\\t\\t<div id=\"aside-wrap\">\\r\\n\\t\\t\\t<div id=\"event-notice\" class=\"event-wrap\">\\r\\n\\t\\t\\t\\t<div class=\"event-header\">\\r\\n                \\t<h3>새로운 알림<span class=\\'notify-count\\'></span></h3>\\r\\n                \\t<div class=\"btn-set\"><button class=\"event-delete\" onclick=\"deleteNotiAll()\" title=\"알림 전체 삭제\">전체삭제</button><button class=\"event-close\" onclick=\"hideNotifyList()\">닫기</button></div>\\r\\n                </div>\\r\\n                <div class=\"event-container\" id=\"notice_list_wrap\">\\r\\n                \\t<ul id=\"notify_list\">                \\t\\r\\n                \\t</ul>\\r\\n                </div>\\r\\n                \\r\\n\\t\\t\\t</div>\\r\\n\\t\\t\\t<div id=\"rightside\">\\r\\n\\t\\t\\t\\t<script>\\r\\n\\t\\t\\t\\t\\r\\n\\t\\t\\t\\t\\t$.get(\"/rightside?bid=jjal\",function(res){\\r\\n\\t\\t\\t\\t\\t\\t$(\"#rightside\").html(res);\\r\\n\\t\\t\\t\\t\\t});\\r\\n\\t\\t\\t\\t\\r\\n\\t\\t\\t\\t</script>\\r\\n\\t\\t\\t</div>\\r\\n\\t\\t</div>\\r\\n\\t\\t<!-- //aside -->\\r\\n\\r\\n\\t\\t<!-- sky banner -->\\r\\n\\t\\t<div style=\"position: fixed; top: 15px; left: 50%; margin-left: -720px;\">\\r\\n\\t\\t\\t<div style=\"margin-left:40px\"><img src=\"/img/bebe2.png\"></div>\\r\\n\\t\\t\\t<div class=\"tmonsori_1 date\" >6월 20일 (일)</div>\\r\\n\\t\\t\\t<div class=\"tmonsori_1 day\" ></div>\\r\\n\\t\\t</div>\\r\\n\\t\\t<div id=\"sky-banner-wrap\" class=\"skyprint\">\\r\\n\\t\\t<script>\\r\\n\\t\\t\\tvar bannerSky=new IBA(\".skyprint\",\"ad_ilbe\");\\r\\n\\t\\t\\tbannerSky.load();\\r\\n\\t\\t</script>\\t\\t\\r\\n\\t\\t</div>\\r\\n\\t\\t\\r\\n\\t\\t<!-- //sky banner -->\\r\\n\\t</div>\\r\\n\\t<!-- //container -->\\r\\n\\t\\r\\n\\r\\n\\t<!-- footer -->\\r\\n\\t<div id=\"footer\">\\r\\n\\t\\t<div class=\"footer-border\"></div>\\r\\n\\t\\t<ul class=\"footer-util\">\\r\\n\\t\\t\\t<li><a href=\"/list/notice\">공지사항</a></li>\\r\\n\\t\\t\\t<li><a href=\"/list/suggestion\">문의 및 신고</a></li>\\r\\n\\t\\t\\t<li><a href=\"/policy/terms\" target=\"_blank\">이용약관</a></li>\\r\\n\\t\\t\\t<li><a href=\"/policy/privacy\" target=\"_blank\">개인정보취급방침</a></li>\\r\\n\\t\\t\\t<li><a href=\"/policy/youth\" target=\"_blank\">청소년보호정책</a></li>\\r\\n\\t\\t\\t<li><a href=\"/view/4810992\">게시물 삭제요청방법</a></li>\\r\\n\\t\\t\\t<li><a href=\"http://ad.ilbe.com\">광고문의</a></li>\\r\\n\\t\\t\\t\\t</ul>\\r\\n\\t\\t<div class=\"address\">업체및기관 : <a href=\"mainto:webmaster@ilbe.com\"><span class=\"__cf_email__\" data-cfemail=\"433426212e2230372631032a2f21266d202c2e\">[email&#160;protected]</span></a><span class=\"bar\"></span>개인 : <a href=\"mainto:customer@ilbe.com\"><span class=\"__cf_email__\" data-cfemail=\"ccafb9bfb8a3a1a9be8ca5a0aea9e2afa3a1\">[email&#160;protected]</span></a></div>\\r\\n\\t\\t<div class=\"copyright\">Copyright© www.ilbe.com</div>\\r\\n\\t</div>\\r\\n\\t<!-- //footer -->\\r\\n</div>\\r\\n<!-- //wrap -->\\r\\n\\r\\n\\r\\n<script data-cfasync=\"false\" src=\"/cdn-cgi/scripts/5c5dd728/cloudflare-static/email-decode.min.js\"></script><script>\\r\\n\\r\\nwindow.deny_notify = false;window.deny_notify_ilbe = false;window.deny_notify_comment = false;\\r\\nws=new WebSocket(\"wss://notify2.ilbe.com\");\\r\\nws.onopen = function()\\r\\n{\\r\\n\\tws.send(\\'A|GUEST|38d4e5717774fb55f8d891e0b4ce0a06\\');\\nws.send(\\'J|11349802435|ed47057c6f705b2162a9c048926acf32\\');\\nws.send(\\'J|jjal|a00e9de2c1b5b5bcf8908ef907f294bf\\');;\\r\\n\\t\\r\\n}\\r\\n\\r\\nws.onmessage = function(message)\\r\\n{\\r\\n\\tif(message.data.charAt(0) == \\'O\\')\\r\\n\\t{\\r\\n\\t\\tws.send(\\'O|O\\');\\r\\n\\t}\\r\\n\\r\\n\\telse if(message.data.charAt(0) == \\'A\\')\\r\\n\\t{\\r\\n\\t\\t\\r\\n\\t}\\r\\n\\telse if(message.data.charAt(0) == \\'S\\')\\r\\n\\t{\\r\\n\\t\\t\\r\\n\\t\\tvar str=message.data.substring(2);\\r\\n\\t\\tvar data=JSON.parse(str);\\r\\n\\t\\tswitch(data.type){\\r\\n\\t\\tcase \"ib\": //jjal -> ilbe\\r\\n\\t\\t\\tbreak;\\r\\n\\t\\tcase \"memo\": //관리자 쪽지\\r\\n\\t\\t\\tToast.show(data.msg,{modal:true});\\r\\n\\t\\t\\t$.get(\"/member/confirmmemo?seq=\"+data.seq,function(){});\\r\\n\\t\\t\\tbreak;\\r\\n\\t\\tcase \"comment\": //댓글 달림\\r\\n\\t\\t\\tif(!window.deny_notify_comment){\\r\\n\\t\\t\\t\\tvar comment=\"<div class=\\'toast comment\\'><span class=\\'toast-bullet\\'></span><a href=\\'\"+data.url+\"\\'>\"+data.comment+\"</a><button class=\\'toast-close\\'><span></span></button></div>\";\\r\\n\\t\\t\\t\\tshowNotify(comment);\\r\\n\\t\\t\\t}\\r\\n\\t\\t\\tbreak;\\r\\n\\t\\tcase \"vote\": // 추천/비추\\r\\n\\t\\t\\tif(data.vote>0){\\r\\n\\t\\t\\t\\tvar oldVote=parseInt($(\"#btn_vote_up\").find(\"em\").text());\\r\\n\\t\\t\\t\\tif(data.vote>oldVote){\\r\\n\\t\\t\\t\\t\\t$(\"#btn_vote_up\").find(\"em\").text(data.vote);\\r\\n\\t\\t\\t\\t}\\t\\t\\t\\t\\r\\n\\t\\t\\t}else{\\r\\n\\t\\t\\t\\tvar oldVote=parseInt($(\"#btn_vote_down\").find(\"em\").text());\\r\\n\\t\\t\\t\\tif(data.vote<oldVote){\\r\\n\\t\\t\\t\\t\\t$(\"#btn_vote_down\").find(\"em\").text(data.vote);\\r\\n\\t\\t\\t\\t}\\t\\t\\t\\t\\r\\n\\t\\t\\t}\\r\\n\\t\\t\\tbreak;\\r\\n\\t\\tcase \"comment-add\"://새로운 댓글 보기\\r\\n\\t\\t\\tvar commentCount=parseInt($(\".comment-refresh\").find(\"em\").text());\\r\\n\\t\\t\\t$(\".comment-refresh\").removeClass(\"hide\").find(\"em\").text(commentCount+1);\\r\\n\\t\\t\\tbreak;\\r\\n\\t\\tcase \"ilbe\":\\r\\n\\r\\n\\t\\t\\tif(!window.deny_notify_ilbe){\\r\\n\\t\\t\\t\\tvar comment=\"<div class=\\'toast ilbe\\'><span class=\\'toast-bullet\\'></span><a href=\\'\"+data.url+\"\\'>\"+data.title+\"</a><button class=\\'toast-close\\'><span></span></button></div>\";\\r\\n\\t\\t\\t\\tshowNotify(comment);\\r\\n\\t\\t\\t}\\r\\n\\t\\t\\t\\r\\n\\t\\t\\tbreak;\\r\\n\\t\\t}\\r\\n\\t}\\r\\n\\telse if(message.data.charAt(0) == \\'D\\')\\r\\n\\t{\\r\\n\\t\\tnotice( message.data.substring(2), 1 );\\r\\n\\t}\\r\\n};\\r\\nws.onclose = function()\\r\\n{\\r\\n\\t\\r\\n}\\r\\n\\r\\nfunction showNotify(msg){\\t\\r\\n\\tvar obj=$(msg);\\r\\n\\t$(\"#event-toast\").prepend(obj);\\r\\n\\tsetTimeout(function(){\\r\\n\\t\\tobj.fadeOut(500,function(){if(obj)obj.remove();});\\r\\n\\t},10000);\\r\\n\\t//\\r\\n\\tobj.find(\"button\").on(\"click\",function(){\\r\\n\\t\\t$(this).off();\\r\\n\\t\\tif(obj)obj.remove();\\r\\n\\t});\\r\\n}\\r\\n\\r\\n</script>\\r\\n\\r\\n<div id=\"event-toast\"></div>\\r\\n\\r\\n<!--<div id=\"hide_banner\" style=\"margin-top:20px\"><script  src=\\'//js.genieessp.com/t/302/186/a1302186.js\\'></script></div>-->\\r\\n<!--\\r\\n<script>\\r\\n$(function(){\\r\\n\\t$(\".js-genieessp-com\").append($(\"#hide_banner\"));\\t\\r\\n});\\r\\n\\r\\n</script>\\r\\n-->\\r\\n\\r\\n</body>\\r\\n</html>'"
      ]
     },
     "execution_count": 48,
     "metadata": {},
     "output_type": "execute_result"
    }
   ],
   "source": [
    "res.text"
   ]
  },
  {
   "cell_type": "code",
   "execution_count": 17,
   "metadata": {},
   "outputs": [
    {
     "data": {
      "text/plain": [
       "['/view/11348895387/view/11348895387',\n",
       " '/view/11348893219/view/11348893219',\n",
       " '/view/11348892711/view/11348892711',\n",
       " '/view/11348891233/view/11348891233',\n",
       " '/view/11348889461/view/11348889461',\n",
       " '/view/11348889385/view/11348889385',\n",
       " '/view/11348888052/view/11348888052',\n",
       " '/view/11348885841/view/11348885841',\n",
       " '/view/11348884841/view/11348884841',\n",
       " '/view/11348880107/view/11348880107']"
      ]
     },
     "execution_count": 17,
     "metadata": {},
     "output_type": "execute_result"
    }
   ],
   "source": [
    "[''.join(i.xpath('.//a/@href')) for i in tree]"
   ]
  },
  {
   "cell_type": "code",
   "execution_count": 10,
   "metadata": {},
   "outputs": [
    {
     "data": {
      "text/plain": [
       "[('이준석 왜 이러는거임>???', '2021-06-16'),\n",
       " (\"[속보] 전광훈 '젖비린내 나는 이준석에 당하면 대한민국 끝장'\", '2021-06-15'),\n",
       " ('\"자격시험 봐야 공천\" 이준석發 \\'공정론\\' 공방 가열', '2021-06-15'),\n",
       " ('일베 실검 이준석 1위ㅋㅋㅋㅋㅋㅋㅋㅋㅋㅋㅋㅋㅋㅋㅋㅋㅋㅋ', '2021-06-15'),\n",
       " ('대깨준들이 꼭 봐야 할 사진', '2021-06-15'),\n",
       " ('이준석, 수술실 CCTV 설치 환자 편에 서야', '2021-06-15'),\n",
       " ('이준석 37세 미혼. 윤석열 50세까지미혼Hoxy....?\\xa0\\xa0\\xa0', '2021-06-15'),\n",
       " ('민대표.. 이준석 대표로 만든 투표의 부당함에 대해 도태우 후보등이 이의제기한 상황이준석을 대표로 만든 투표에 대해서는 도태우 후보 등이 이의를 제기한 상황이라서 나는 아직 이준석 청년을 대표로 인정하지 않고 있다는 사실을 우선 밝힙니다. 그 의혹이 해결된다면 ...',\n",
       "  '2021-06-15'),\n",
       " ('거지근성과 국뽕의 반일정신(이준석보다 10000000억배 대단한 개꿀승훈 유튜브)', '2021-06-15'),\n",
       " (\"이준석(조갑제)파벌의 통일정책은 '한국신화' 팔아먹는 문재앙과 다르면서 똑같은 사기극. '대동신앙'과 '자유민주주의'는 공존 불가능!! (문정권 통일정책은 실패. 이준석 쪽은 없어\",\n",
       "  '2021-06-15')]"
      ]
     },
     "execution_count": 10,
     "metadata": {},
     "output_type": "execute_result"
    }
   ],
   "source": [
    "list(zip(result, date))"
   ]
  },
  {
   "cell_type": "code",
   "execution_count": 9,
   "metadata": {},
   "outputs": [
    {
     "data": {
      "text/plain": [
       "['2021-06-19',\n",
       " '2021-06-19',\n",
       " '2021-06-19',\n",
       " '2021-06-19',\n",
       " '2021-06-19',\n",
       " '2021-06-19',\n",
       " '2021-06-19',\n",
       " '2021-06-19',\n",
       " '2021-06-19',\n",
       " '2021-06-19']"
      ]
     },
     "execution_count": 9,
     "metadata": {},
     "output_type": "execute_result"
    }
   ],
   "source": [
    "date"
   ]
  },
  {
   "cell_type": "code",
   "execution_count": 29,
   "metadata": {},
   "outputs": [],
   "source": [
    "tree = root.xpath('//div[@class=\"search-list\"]/ul/li')"
   ]
  },
  {
   "cell_type": "code",
   "execution_count": 32,
   "metadata": {},
   "outputs": [
    {
     "data": {
      "text/plain": [
       "['2021-06-17 17:47:04',\n",
       " '2021-06-17 17:43:15',\n",
       " '2021-06-17 17:36:06',\n",
       " '2021-06-17 17:30:59',\n",
       " '2021-06-17 17:22:46',\n",
       " '2021-06-17 17:21:27',\n",
       " '2021-06-17 17:05:37',\n",
       " '2021-06-17 16:59:06',\n",
       " '2021-06-17 16:50:25',\n",
       " '2021-06-17 16:44:28']"
      ]
     },
     "execution_count": 32,
     "metadata": {},
     "output_type": "execute_result"
    }
   ],
   "source": [
    "[i.xpath('.//span[@class=\"date\"]/text()')[0] for i in tree]"
   ]
  },
  {
   "cell_type": "markdown",
   "metadata": {},
   "source": [
    "# dc"
   ]
  },
  {
   "cell_type": "code",
   "execution_count": 58,
   "metadata": {},
   "outputs": [],
   "source": [
    "url = 'https://search.dcinside.com/post/p/1/sort/latest/q/.EC.9D.B4.EC.A4.80.EC.84.9D'\n",
    "res = requests.get(url)"
   ]
  },
  {
   "cell_type": "code",
   "execution_count": 59,
   "metadata": {},
   "outputs": [
    {
     "data": {
      "text/plain": [
       "<Response [200]>"
      ]
     },
     "execution_count": 59,
     "metadata": {},
     "output_type": "execute_result"
    }
   ],
   "source": [
    "res"
   ]
  },
  {
   "cell_type": "code",
   "execution_count": 60,
   "metadata": {},
   "outputs": [],
   "source": [
    "root = html.fromstring(res.text)"
   ]
  },
  {
   "cell_type": "code",
   "execution_count": 61,
   "metadata": {},
   "outputs": [],
   "source": [
    "tree = root.xpath('//ul[@class=\"sch_result_list\"]/li')"
   ]
  },
  {
   "cell_type": "code",
   "execution_count": 64,
   "metadata": {},
   "outputs": [
    {
     "data": {
      "text/plain": [
       "['https://gall.dcinside.com/mgallery/board/view/?id=newconservativeparty&no=1087387',\n",
       " 'https://gall.dcinside.com/mgallery/board/view/?id=newconservativeparty&no=1087386',\n",
       " 'https://gall.dcinside.com/mgallery/board/view/?id=newconservativeparty&no=1087385',\n",
       " 'https://gall.dcinside.com/mgallery/board/view/?id=alliescon&no=431965',\n",
       " 'https://gall.dcinside.com/mgallery/board/view/?id=newconservativeparty&no=1087348',\n",
       " 'https://gall.dcinside.com/mgallery/board/view/?id=newconservativeparty&no=1087344',\n",
       " 'https://gall.dcinside.com/mgallery/board/view/?id=youtube&no=336456',\n",
       " 'https://gall.dcinside.com/board/view/?id=drama_new3&no=1627953',\n",
       " 'https://gall.dcinside.com/mgallery/board/view/?id=newconservativeparty&no=1087333',\n",
       " 'https://gall.dcinside.com/mgallery/board/view/?id=bosu&no=4589',\n",
       " 'https://gall.dcinside.com/mgallery/board/view/?id=newconservativeparty&no=1087327',\n",
       " 'https://gall.dcinside.com/mgallery/board/view/?id=newconservativeparty&no=1087322',\n",
       " 'https://gall.dcinside.com/mgallery/board/view/?id=alliescon&no=431957',\n",
       " 'https://gall.dcinside.com/mgallery/board/view/?id=newconservativeparty&no=1087318',\n",
       " 'https://gall.dcinside.com/mgallery/board/view/?id=alliescon&no=431953',\n",
       " 'https://gall.dcinside.com/mgallery/board/view/?id=newconservativeparty&no=1087306',\n",
       " 'https://gall.dcinside.com/mgallery/board/view/?id=newconservativeparty&no=1087301',\n",
       " 'https://gall.dcinside.com/mgallery/board/view/?id=newconservativeparty&no=1087299',\n",
       " 'https://gall.dcinside.com/mgallery/board/view/?id=newconservativeparty&no=1087298',\n",
       " 'https://gall.dcinside.com/mgallery/board/view/?id=newconservativeparty&no=1087289',\n",
       " 'https://gall.dcinside.com/mgallery/board/view/?id=newconservativeparty&no=1087288',\n",
       " 'https://gall.dcinside.com/mgallery/board/view/?id=newconservativeparty&no=1087265',\n",
       " 'https://gall.dcinside.com/mgallery/board/view/?id=alliescon&no=431944',\n",
       " 'https://gall.dcinside.com/mgallery/board/view/?id=alliescon&no=431942',\n",
       " 'https://gall.dcinside.com/mgallery/board/view/?id=newconservativeparty&no=1087260']"
      ]
     },
     "execution_count": 64,
     "metadata": {},
     "output_type": "execute_result"
    }
   ],
   "source": [
    "[i.xpath('.//a/@href')[0] for i in tree]"
   ]
  },
  {
   "cell_type": "code",
   "execution_count": 65,
   "metadata": {},
   "outputs": [
    {
     "data": {
      "text/plain": [
       "['오늘  실물 봤는데 존나 잘생겼더라..',\n",
       " '저런 당원이 있을 수도 있음',\n",
       " '공정경쟁 부정은 이스라엘 깃발과 같음',\n",
       " '민주당은 손도 안대고 , 윤석열 동시에 날리겠네',\n",
       " '與에 \"에 감정적 대응, 유권자들 좋게 안 봐준다\"',\n",
       " '보다 더 강력한 반페미 정치인들 나오면 질질 짜겠네 아주',\n",
       " '이준잣대라는 신조어가 생겼군요',\n",
       " ' 고발당함 군대 다시가고 사기죄',\n",
       " '면) 여성징병보다 모병제 찬성함',\n",
       " 'PNR 종합과 해설',\n",
       " '을 지지했을 뿐인데 인생 패배자가 되었네 ㅋㅋ',\n",
       " '병신들이 존나 많다는 병신을 보고.txt',\n",
       " '대깨준 대깨준 해도 그냥 웃어넘겼음',\n",
       " ' 부동산은 좆도 모르는건 맞음ㅋㅋ',\n",
       " '민주당은  죽일 생각이 없어',\n",
       " ' 진짜 건축 부동산은 아무것도 모르는듯',\n",
       " '근데 여당 대선주자들은 왜 을 견제한데?',\n",
       " ' \"국내에서 페미니즘이 화두가 된 지 10년이 채 되지 않았다\"',\n",
       " ', ‘윤석열 X파일’ 논란에 尹 엄호…',\n",
       " '우리나라가 여자라서 당했어요까지는 포용하는 사회임',\n",
       " ' 겨냥해 \"기본소득이나 보편재난지원금 찬성하냐\"',\n",
       " '우리나라에서 안티페미는 원래는 여혐사상이었음.',\n",
       " \"자고로 '교조주의'는 '민주주의'를 붕괴시킨다(feat.문재인과 )\",\n",
       " ' 잘생긴듯 송중기 느낌남',\n",
       " '이대출신 당원분 뿌듯 하시겠네']"
      ]
     },
     "execution_count": 65,
     "metadata": {},
     "output_type": "execute_result"
    }
   ],
   "source": [
    "[''.join(i.xpath('.//a[@class=\"tit_txt\"]/text()')) for i in tree]"
   ]
  },
  {
   "cell_type": "code",
   "execution_count": 118,
   "metadata": {},
   "outputs": [],
   "source": [
    "url = 'https://gall.dcinside.com/mgallery/board/view/?id=newconservativeparty&no=1087499'\n",
    "headers = {\n",
    "#     \"Host\" : 'gall.dcinside.com',\n",
    "#     'Referer': 'https://search.dcinside.com/',\n",
    "    'User-Agent':'PostmanRuntime/7.26.8',\n",
    "#     'Accept-Encoding':'gzip, deflate, br',\n",
    "#     'Accept':'*/*',\n",
    "#     'Connection': 'keep-alive',\n",
    "#     'Accept-Language': 'ko-KR,ko;q=0.9,en-US;q=0.8,en;q=0.7'\n",
    "}\n",
    "res = requests.get(url, headers=headers)\n",
    "res\n",
    "root = html.fromstring(res.text)"
   ]
  },
  {
   "cell_type": "code",
   "execution_count": 119,
   "metadata": {},
   "outputs": [
    {
     "data": {
      "text/plain": [
       "'2016년 이래로 저 집단은 원래 우리표 아니었음  - dc official App'"
      ]
     },
     "execution_count": 119,
     "metadata": {},
     "output_type": "execute_result"
    }
   ],
   "source": [
    "''.join([i for i in root.xpath('//div[@class=\"write_div\"]/*/*/*/text()|//div[@class=\"write_div\"]/*/*/text()|//div[@class=\"write_div\"]/*/text()')])"
   ]
  },
  {
   "cell_type": "code",
   "execution_count": 125,
   "metadata": {},
   "outputs": [
    {
     "data": {
      "text/plain": [
       "'0'"
      ]
     },
     "execution_count": 125,
     "metadata": {},
     "output_type": "execute_result"
    }
   ],
   "source": [
    "root.xpath('//div[@class=\"up_num_box\"]/p[contains(@class,\"up_num font_red\")]/text()')[0]"
   ]
  },
  {
   "cell_type": "code",
   "execution_count": 126,
   "metadata": {},
   "outputs": [
    {
     "data": {
      "text/plain": [
       "'0'"
      ]
     },
     "execution_count": 126,
     "metadata": {},
     "output_type": "execute_result"
    }
   ],
   "source": [
    "root.xpath('//div[@class=\"down_num_box\"]/p[contains(@class,\"down_num\")]/text()')[0]"
   ]
  },
  {
   "cell_type": "code",
   "execution_count": 68,
   "metadata": {},
   "outputs": [
    {
     "data": {
      "text/plain": [
       "['2021-06-20',\n",
       " '2021-06-20',\n",
       " '2021-06-20',\n",
       " '2021-06-20',\n",
       " '2021-06-20',\n",
       " '2021-06-20',\n",
       " '2021-06-20',\n",
       " '2021-06-20',\n",
       " '2021-06-20',\n",
       " '2021-06-20',\n",
       " '2021-06-20',\n",
       " '2021-06-20',\n",
       " '2021-06-20',\n",
       " '2021-06-20',\n",
       " '2021-06-20',\n",
       " '2021-06-20',\n",
       " '2021-06-20',\n",
       " '2021-06-20',\n",
       " '2021-06-20',\n",
       " '2021-06-20',\n",
       " '2021-06-20',\n",
       " '2021-06-20',\n",
       " '2021-06-20',\n",
       " '2021-06-20',\n",
       " '2021-06-20']"
      ]
     },
     "execution_count": 68,
     "metadata": {},
     "output_type": "execute_result"
    }
   ],
   "source": [
    "[i.xpath('.//p[@class=\"link_dsc_txt dsc_sub\"]/span/text()')[0].split()[0].replace('.','-') for i in tree]"
   ]
  },
  {
   "cell_type": "markdown",
   "metadata": {},
   "source": [
    "# 펨코"
   ]
  },
  {
   "cell_type": "code",
   "execution_count": 8,
   "metadata": {},
   "outputs": [
    {
     "data": {
      "text/plain": [
       "<Response [200]>"
      ]
     },
     "execution_count": 8,
     "metadata": {},
     "output_type": "execute_result"
    }
   ],
   "source": [
    "url =\"https://www.fmkorea.com/index.php?act=IS&is_keyword=이준석&mid=home&where=document&page=1\"\n",
    "res = requests.get(url)\n",
    "res"
   ]
  },
  {
   "cell_type": "code",
   "execution_count": 9,
   "metadata": {},
   "outputs": [],
   "source": [
    "root = html.fromstring(res.text)\n",
    "tree = root.xpath('//ul[@class=\"searchResult\"]/li')"
   ]
  },
  {
   "cell_type": "code",
   "execution_count": 10,
   "metadata": {},
   "outputs": [
    {
     "data": {
      "text/plain": [
       "['[정치/시사]  지지 철회할랜다',\n",
       " '[정치/시사] 민주당 정신 못차리네',\n",
       " '[정치/시사] 내가 유일하게  이기는거',\n",
       " '[정치/시사] 은근슬쩍 박사모들이 코인에 탑승하면 안되는이유에 대해 알아보자',\n",
       " \"[정치/시사] 김남국 '특혜 의혹' 제기에 11년 전 지원서 공개… 반격 나선 \",\n",
       " '[정치/시사] 솔직히 국힘에 제대로 된 당대표 후보만 있었어도 은 최고위에서 패고 다니는게 나았음',\n",
       " '[정치/시사] 與 \\'억까\\' 직격?  \"부도덕한 분 증명서 위조 옹호하다보니..\"',\n",
       " '[정치/시사]  지경부 사업 사문서 위조 의혹',\n",
       " '[정치/시사] 마음같아선  대통령 밀고싶다',\n",
       " '[정치/시사] 그래도 윤석열로 가는 게 맞다고 본다']"
      ]
     },
     "execution_count": 10,
     "metadata": {},
     "output_type": "execute_result"
    }
   ],
   "source": [
    "[''.join(i.xpath('.//dl/dt/a/text()')) for i in tree]"
   ]
  },
  {
   "cell_type": "code",
   "execution_count": 11,
   "metadata": {},
   "outputs": [
    {
     "data": {
      "text/plain": [
       "['사진보니 킹받네 ㅋㅋ',\n",
       " '떠나고 지들은 조국리스크에 영길이가 사고치는등 정신없는데 국힘은 이준석을 필두로 지지율이 떡상 중이니 정신줄 놔버린듯 아무리 그래도 지들이 ...',\n",
       " 'ㅇㅈ?',\n",
       " '할복단과 유언장까지 대깨문보다 대가리 한번 더깨져야 박사모임....',\n",
       " 'https://n.news.naver.com/mnews/article/comment/022/0003592211?sid=100',\n",
       " '무슨 말이냐면 이준석이 아니면 안될 정도로 국힘내에서 당대표직을 해줄 인물이 ㅈ또 없어서 진짜 어쩔 수 없이 이준석이 탱킹하고 있는 상황임 나중에 대선 1인자 정해지고 이준석이...',\n",
       " 'https://n.news.naver.com/mnews/article/014/0004659875?sid=100',\n",
       " '당시 SW마에스트로 사업 공고문에서 지원자격 항목을 보면 준스톤이 잘못한게 아닐까 의심이 들 수도 있은 것 같음. 근데 선발 과정 이후 발표된 지경부 보도자료를 보면 대학 재학...',\n",
       " '5년 존버해야하나',\n",
       " '석열 본인도 자신있다고 했고 무엇보다도 이슈파이팅 최강자 이준석이 당대표라 검증 국면에서 선방할꺼란 생각이 듦 완전 개싸움으로 가면...']"
      ]
     },
     "execution_count": 11,
     "metadata": {},
     "output_type": "execute_result"
    }
   ],
   "source": [
    "[''.join(i.xpath('.//dl/dd/text()|.//dl/dd/b/text()')) for i in tree]"
   ]
  },
  {
   "cell_type": "code",
   "execution_count": 12,
   "metadata": {},
   "outputs": [
    {
     "data": {
      "text/plain": [
       "['2021-06-19 16:22',\n",
       " '2021-06-19 16:21',\n",
       " '2021-06-19 16:21',\n",
       " '2021-06-19 16:20',\n",
       " '2021-06-19 16:19',\n",
       " '2021-06-19 16:16',\n",
       " '2021-06-19 16:14',\n",
       " '2021-06-19 16:14',\n",
       " '2021-06-19 16:11',\n",
       " '2021-06-19 16:09']"
      ]
     },
     "execution_count": 12,
     "metadata": {},
     "output_type": "execute_result"
    }
   ],
   "source": [
    "[i.xpath('.//address/span[@class=\"time\"]/text()')[0] for i in tree]"
   ]
  },
  {
   "cell_type": "markdown",
   "metadata": {},
   "source": [
    "# 인벤"
   ]
  },
  {
   "cell_type": "code",
   "execution_count": 13,
   "metadata": {},
   "outputs": [],
   "source": [
    "url = 'https://www.inven.co.kr/search/webzine/article/이준석/1' #-> 1 페이지\n",
    "res = requests.get(url)"
   ]
  },
  {
   "cell_type": "code",
   "execution_count": 14,
   "metadata": {},
   "outputs": [],
   "source": [
    "root = html.fromstring(res.text)"
   ]
  },
  {
   "cell_type": "code",
   "execution_count": 15,
   "metadata": {},
   "outputs": [
    {
     "data": {
      "text/plain": [
       "['[한겨레]와 [이준석]이 상징하는 것 (By 이선옥)',\n",
       " '이준석 병역비리 혐의 수면위로 ‘급부상’··· 허물어진 ‘공정’과 ‘정의’',\n",
       " '이준석 뒤에 상왕이 있다',\n",
       " \"시험대 오른 이준석의 '공정'\",\n",
       " '이준석 당대표. 국짐당 미래에 관한 투표?',\n",
       " '野, 초유의 대변인 공개오디션…이준석 심사대 앉는다',\n",
       " '(속보) 국민의힘 당대표 발표 이준석대표 확정',\n",
       " '이준석 당대표. 국짐당 미래에 관한 투표?',\n",
       " \"상대에 따라 달라지는 이준석 '인사법'\",\n",
       " '이준석이 뭘 해줄거라 기대중?',\n",
       " '이준석,수술실CCTV 의료행위 소극적으로 임하게할수도,,,,설치 목적동의 추가논의 필요',\n",
       " '이준석',\n",
       " '노무현 장학생. 이준석식 퀴즈 토론',\n",
       " '이준석 당선 일성…',\n",
       " '이준석',\n",
       " '황보승희 이준석당대표가 반페미?',\n",
       " '이준석 당선은 향후 어떤 영향을 미칠것인가',\n",
       " '이준석의 따릉이 진짜 더 빠를까?',\n",
       " '이준석, 병역의혹 일축…',\n",
       " '정부는 헛다리외교망신 하지만 국내는 이준석돌풍이분다']"
      ]
     },
     "execution_count": 15,
     "metadata": {},
     "output_type": "execute_result"
    }
   ],
   "source": [
    "[''.join(i.xpath('./a/text()|./a/b/text()')) for i in root.xpath('//ul[@class=\"news_list\"]/li[@class=\"item\"]/h1')]"
   ]
  },
  {
   "cell_type": "code",
   "execution_count": 16,
   "metadata": {},
   "outputs": [
    {
     "data": {
      "text/plain": [
       "[\"TV' 티저광고까지 찍었던 이준석 패널 출연 취소 ------------------------------------------------------------------------------------------------------------ [한겨레]와 [이준석]이 상징하는 것 By...\",\n",
       " \"지난 2012년 강용석은 “이준석이 산업기능요원으로 복무하는 동안 지식경제부의 2010년 'SW마에스트로 사업'에 선발돼 적법한 절차를 밟지 않고 회사를 여러 차례 이탈했다”면서 “이는 산업기능요원 편입을...\",\n",
       " '이준석 뒤에 상왕이 있다 과연 그는 누구일까? 알려진거로는 유승민이라고 다들 아시겠지만 유승민보다 더 큰 세력 . . . . . . . 김무성 기존 박근혜 탄핵시 새누리당 탈탕할때 같이 움직였던 인물은 거의...',\n",
       " '제기된 사안, 권익위 공직자 투기행위 신고 접수 사안 등을 두루 조사하게 된다. 범위가 작지 않다. 이준석 새 대표 체제 전환 뒤 지지율 상승, 당원 증가로 고무적이던 분위기는 한순간에 위기감으로 뒤덮였다...',\n",
       " '이준석 당대표. 국짐당 미래에 관한 투표? 국짐당 대표료 이준석이 당선 과연 이준석이가 국짐당을 어떻게 변화시킬까? 1. 쇄신? 2. 막장? 꼰대와의 전쟁 3. 유지? 꼰대와의 타협이나 굴복 여러분들이 번호로...',\n",
       " \"2명을 뽑기 위한 제1차 국민의힘 토론배틀 일정을 결정했다. 토론 배틀을 통해 대변인을 선발하는 것은 이준석 대표가 당 대표 경선 과정에서 대표적으로 내세운 공약 중 하나다. 이준석표 '1호 이벤트'가 되는...\",\n",
       " '더많이 팔리고있는 책이있다는데요 역주행이라고하네요 2030대가 가장많이읽고싶은책 1위가 이준석책이라고하네요 바로 이준석책입니다 대단하죠? 자이제 발표합니다 이준석이냐 나경원이냐 주호영이냐!! 이준석...',\n",
       " '이준석 당대표. 국짐당 미래에 관한 투표? 국짐당 대표료 이준석이 당선 과연 이준석이가 국짐당을 어떻게 변화시킬까? 1. 쇄신? 2. 막장? 꼰대와의 전쟁 3. 유지? 꼰대와의 타협이나 굴복 여러분들이 번호로...',\n",
       " '36세 이준석 국민의힘 신임 당대표가 연일 바쁜 일정이다. 신임 당 대표로서 인사도 가장 큰 업무 중 하나다. 이 대표의 접견 사진을 보면서 눈이 가는 것은 90도 폴더 인사법이다. 상대가 누구냐에 따라 각도가...',\n",
       " '진짜로? ㅋㅋㅋㅋㅋㅋㅋㅋㅋㅋ 어차피 사람 갖다 쓰는 거 보면 이준석 대표인 것빼면 뭐 달라진 게?? 아.... ㅋㅋㅋㅋ 이준석 화이팅~ 지지자들의 기대를 저버리지말기를... ㅎ...ㅋㅋㅋㅋ',\n",
       " '▷ 오태훈 : 수술실 CCTV 설치와 관련한 입법에 대해서 어떻게 생각하십니까? ▶ 이준석 : 저는 수술실 CCTV라는 것이 만약에 의료사고를 줄이고 진상을 규명해내기 위한 어떤 목적이 있다는 것에는 저는 동의...',\n",
       " '윤석열 전 검찰총장 측은 17일 이준석 국민의힘 당 대표를 향해 \"\\'걱정해주셔서 감사하다\\'라는 한마디만 하겠다\"며 \"윤 전 총장은 자기 페이스대로, 국민이 가리키는 대로 따라갈 것\"이라고 말했다. 이 대표는...',\n",
       " '주도권 토론 시간이 되자 주 후보에게 ‘깜짝 퀴즈’를 냈다. 그는 “두 가지 참인 명제를 드리겠다. 이준석은 하버드 대학교에 2003년부터 2007년까지 재학했다. 노무현 재단은 2009년에 설립됐다. 이준석은...',\n",
       " '국민의힘 이준석 대표는 11일 \"다양한 대선주자 및 그 지지자들과 공존할 수 있는 당을 만들 것\"이라고 밝혔다. 이 대표는 이날 전당대회의 당대표 수락연설에서 \"우리의 지상과제는 대선에 승리하는 것\"이라며...',\n",
       " '국민의힘 이준석 신임 대표는 20·30대의 당원 가입을 대폭 늘려 외부의 대권주자들을 당 경선으로 끌어들이겠다고 12일 밝혔다. 이 대표는 이날 연합뉴스와 인터뷰에서 \"당원 배가운동을 지금과는 다른 방식으로...',\n",
       " '방금 뉴스공장 국힘 수석대변인 황보승희의원 인터뷰중 mc : 이준석당대표가 경선중 반페미스텐스로 젠더갈라치기 한다는 비판이 있었는데 여성의원으로써 입장은 어떤가요? 황보 : 이준석당대표는 반페미인것...',\n",
       " '일단 이준석 당선 이유는 젊은 남자들이 대거 밀어줘서이고 이건 노인층에서 지지를 받던 국힘 입장에서는 단순 +-로 보더라고 젊은층이 +된거니까 호재 이준석이 페미에 적대적인 노선을 취했기때문에, 이준석...',\n",
       " '상계동에서 국회의사당까지 가려면 5호선을 타고 여의도역까지 와서 9호선으로 갈아타야하는데 이준석은 여의도역에서 바로 따릉이를 타는듯함 그런데 여의도역에서 따릉이타고 국회까지가려면 여의대로 건너고...',\n",
       " '국민의힘 이준석 대표는 18일 여권에서 제기한 병역 관련 의혹에 대해 \"이미 10년 전 끝난 이야기\"라고 일축했다. 이 대표는 SNS에 \"병무청에서도 아무 문제 없다고 하고, 강용석 당시 의원의 고발로 검찰에서도...',\n",
       " '나라망신 시키고있지만 그래도 대한민국이 희망이있는것은 새로운 당대표 젊고 검소하고 겸손한 당대표 이준석이 있다는것이 얼마나 이나라가 잘돼는지를 보여주고있는거같다 지금 국민들 전부는 이준석을 지지...']"
      ]
     },
     "execution_count": 16,
     "metadata": {},
     "output_type": "execute_result"
    }
   ],
   "source": [
    "[''.join(i.xpath('./text()|./b/text()')) for i in root.xpath('//ul[@class=\"news_list\"]/li[@class=\"item\"]/p[@class=\"caption\"]')]"
   ]
  },
  {
   "cell_type": "code",
   "execution_count": 17,
   "metadata": {},
   "outputs": [
    {
     "data": {
      "text/plain": [
       "['2021.06.09',\n",
       " '2021.06.18',\n",
       " '2021.06.11',\n",
       " '2021.06.18',\n",
       " '2021.06.11',\n",
       " '2021.06.15',\n",
       " '2021.06.11',\n",
       " '2021.06.11',\n",
       " '2021.06.17',\n",
       " '2021.06.12',\n",
       " '2021.06.14',\n",
       " '2021.06.17',\n",
       " '2021.06.11',\n",
       " '2021.06.11',\n",
       " '2021.06.12',\n",
       " '2021.06.14',\n",
       " '2021.06.11',\n",
       " '2021.06.14',\n",
       " '2021.06.18',\n",
       " '2021.06.17']"
      ]
     },
     "execution_count": 17,
     "metadata": {},
     "output_type": "execute_result"
    }
   ],
   "source": [
    "[''.join(i.xpath('./p[@class=\"date\"]/text()')) for i in root.xpath('//ul[@class=\"news_list\"]/li[@class=\"item\"]/div[@class=\"item_info clearfix\"]')]"
   ]
  },
  {
   "cell_type": "markdown",
   "metadata": {},
   "source": [
    "# 루리웹 버림 -> 할수는 있지만 불법적으로 사용될 여지가 있어 안함"
   ]
  },
  {
   "cell_type": "markdown",
   "metadata": {},
   "source": [
    "# 뽐뿌"
   ]
  },
  {
   "cell_type": "code",
   "execution_count": 18,
   "metadata": {},
   "outputs": [],
   "source": [
    "url = 'http://www.ppomppu.co.kr/search_bbs.php?search_type=sub_memo&page_no=1&keyword=%C0%CC%C1%D8%BC%AE&page_size=20&bbs_id=&order_type=date&bbs_cate=2'\n",
    "res = requests.get(url)"
   ]
  },
  {
   "cell_type": "code",
   "execution_count": 19,
   "metadata": {},
   "outputs": [
    {
     "data": {
      "text/plain": [
       "<Response [200]>"
      ]
     },
     "execution_count": 19,
     "metadata": {},
     "output_type": "execute_result"
    }
   ],
   "source": [
    "res"
   ]
  },
  {
   "cell_type": "code",
   "execution_count": 20,
   "metadata": {},
   "outputs": [],
   "source": [
    "root = html.fromstring(res.text)"
   ]
  },
  {
   "cell_type": "code",
   "execution_count": 21,
   "metadata": {},
   "outputs": [],
   "source": [
    "tree = root.xpath('//div[@class=\"results_board\"]/div[@class=\"conts\"]')"
   ]
  },
  {
   "cell_type": "code",
   "execution_count": 22,
   "metadata": {},
   "outputs": [
    {
     "data": {
      "text/plain": [
       "[['조선일보 - 고상한인물난다던 칠곡 웃갓마을 ', '이준석', ' 고향'],\n",
       " ['이준석', ' 몇일 낄낄대고 혼자 웃었겠네요'],\n",
       " ['근데 ', '이준석', '도 어이없긴 하겠네요'],\n",
       " ['이준석', ' sw마에스트로 현재 빌드업'],\n",
       " ['11년전 ', '이준석', \", 더벅머리에 안경2010년 9월 '정부 SW 1기 77번' 정부자료\"],\n",
       " ['이준석', ' 페이스북2.jpg'],\n",
       " ['만진당이 ', '이준석', ' 병역으로 까봐야 아무런 타격이 없는 이유'],\n",
       " ['이준석', ' 병역의리 의혹 관련 페이스북.JPG'],\n",
       " ['정부문서 확인... 여당 ', '이준석', ' 병역비리 의혹 완패'],\n",
       " ['이준석', ' 사건 민주당, 민주당 지지자들 수준 잘 봤네요'],\n",
       " ['다들 대동단결로 우리 ', '이준석', ' 대표를 찬양 합시다'],\n",
       " ['이준석', '이고문준용이고열심히산2030인데정파적시선으로억까하고있다고봄'],\n",
       " ['정세균 \"대기업 3년 임금 동결\" 박용진 \"군 대기업 초봉\"..민주당, 파격 공약'],\n",
       " ['장성철 \"윤석열 파일 입수...국민 선택받기 무척 힘들 것\"'],\n",
       " ['문재인 댓통령 G7 순방기사보다 ', '이준석', ' 기사가 더 많은 현실을 규탄한다'],\n",
       " ['국민의힘 온오프라인 입당러쉬는 좀 과장이 되었죠.'],\n",
       " ['그렇게 일베어, 비하어라고 낙인찍던 [대깨문]이 [대깨준] 하나로 허물어져 버리네요'],\n",
       " ['한주간 온라인 키워드 단연 1위 ', '이준석', ' \"이런 관심 드물어\"'],\n",
       " ['한기호 누군지 잘 몰랐는데'],\n",
       " [\"[데이터로 본 정치민심] 문재인 G7' 외교 일정 제친 '\", '이준석', \"'\"]]"
      ]
     },
     "execution_count": 22,
     "metadata": {},
     "output_type": "execute_result"
    }
   ],
   "source": [
    "[i.xpath('.//div[@class=\"content\"]/span[@class=\"title\"]/a/text()|.//div[@class=\"content\"]/span[@class=\"title\"]/a/b/text()') for i in tree]"
   ]
  },
  {
   "cell_type": "code",
   "execution_count": 23,
   "metadata": {},
   "outputs": [
    {
     "data": {
      "text/plain": [
       "['형광등 1,000개 급입니다....\\r\\n      \\r\\n      최소...',\n",
       " '그분들 타진요 놀이 하는거 보구요\\r\\n\\r\\n덕분에 페라가모에 이어서 또다시 승리 추가!\\r\\n\\r\\n성원해 주신 모든 분께 감사드립니다',\n",
       " '송영길이랑 서로 \"억까\"하지 말고 \"협치\"하자고\\r\\n\\r\\n이야기하고 온지 24시간도 안되서\\r\\n   \\r\\n   김남국, 김용민\\r\\n   \\r\\n   바로 병역 의혹으로 뒤통수 쳐버림',\n",
       " '1단계 병역비리다!!!\\r\\n-> 검찰, 병무철 피셜 아님\\r\\n\\r\\n2단계 사기다!! 업무방해다!!\\r\\n-> 페북, 언론보도발 인증으로 아님\\r\\n\\r\\n3단계 근거없이 특혜다!!!\\r\\n-> 이건 뭐 근거도 없이 그냥 �� ㅠㅠ\\r\\n\\r\\n4단계 지원서 표정이 저게 뭐냐!!\\r\\n-> 이건 추천!!! 잼났네요^^',\n",
       " \"11년전 이준석, 더벅머리에 안경…2010년 9월 '정부 SW 1기 77번' 정부자료\\r\\n   \\r\\n         \\r\\n            \\r\\n            \\r\\n               \\r\\n                  11년전 이준석, 더벅머리에 안경…2010년 9월 '정부 SW 1기 77번' 정부자료\\r\\n               \\r\\n               \\r\\n                  (서울=뉴스1) 박태훈 선임기자 = 더불어민주당이 이준석 국민의힘 신임 대표의 ...\",\n",
       " '가로세로 민주당\\r\\n\\r\\n어디까지 갈까요?',\n",
       " '당장 문씨 정권이 집 값을 저리 쳐올렸는데\\r\\n\\r\\n이준석이 졸업생으로 지원을 했던 재학생으로 했던 신경이나 쓰겠습니까정상적인 정당이면 지들이 싸지른 부동산 똥에 대해서 반성을 해야 하는데 이것들은 반성은 커녕\\r\\n\\r\\n고작 저런걸로 네거티브나 하고있으니 선거에서 쳐발리는거에요',\n",
       " '병역의혹 영상 올렸다 내린 여당.. 이준석 \"실수로 이해하겠다\"\\r\\n      \\r\\n         \\r\\n         \\r\\n            \\r\\n               병역의혹 영상 올렸다 내린 與..이준석 \"실수로 이해하겠다\"\\r\\n            \\r\\n            \\r\\n               이준석 국민의힘 당 대표는 18일 더불어민주당이 자신에게 병역 의혹을 제기하며 올린 영상을 내리자\"실수로 이해하고 협치의 기조는 이어나가겠다\"고...',\n",
       " '11년전 이준석, 더벅머리에 안경…2010년 9월 \\'정부 SW 1기 77번\\' 정부자료\\r\\n         (서울=뉴스1) 박태훈 선임기자 = 더불어민주당이 이준석 국민의힘 신임 대표의 \\'병역비리 의혹\\'을 제기했다가 본전도 건지지 못했다. 민주당은 의혹을 제기한 동영상을 내렸고 이 대표로부터 \"억까(억지로 깐다) 좀 그만\\r\\n         \\r\\n      \\r\\n   https://n.news.naver.com/mnews/article/421/0005424533?sid=100\\r\\n\\r\\n\\r\\n◇2010...',\n",
       " '10년전 무혐의 받았던 사건 공식 유튜브에 올려놨다 삭제\\r\\n\\r\\n검찰 조사 무혐이 인데도 소명된거 없어요 빼애액',\n",
       " '딴지 거는 사람은 아오지 탄광으로 갑니다\\r\\n\\r\\n그냥 묻지마 찬양 가즈아\\r\\n\\r\\n이준석 만세',\n",
       " \"11년전 이준석, 더벅머리에 안경…2010년 9월 '정부 SW 1기 77번' 정부자료\\r\\n         \\r\\n         \\r\\n            사실 앞에 겸손한 민영 종합 뉴스통신사 뉴스1\\r\\n         \\r\\n      \\r\\n   \\r\\n   https://www.news1.kr/articles/4344460\\r\\n\\r\\n저시기졸업생도대학원생도선발해서절차걸쳐서선정된일임\\r\\n\\r\\n\\r\\n   “축하받고 자랑해도 될 일…...\",\n",
       " '정세균 \"대기업 3년 임금 동결\" 박용진 \"軍  대기업 초봉\"..與, 파격 공약30대 당대표 \\'이준석 돌풍\\'으로 청년층의 관심이 야당에 쏠리는 가운데 다급해진 여당 대권주자들이 잇따라 파격 공약을 내세워 눈길을 끈다. 2030 표심을 잡기 위한 모병제 도입을 시작으로 대기업 근로자의 급여를 중소기업에 배분해 기업 양극화를 해소하자는 주장도 나왔다. 18일 정치권에 따르면 더불어민주당은 대선기획단 구성을 놓고 막판 고심을 거듭하고 있https://news.v.daum.net/v/...',\n",
       " '\"이준석 비단주머니 소용없어…너무 좋은 먹잇감\"\\r\\n\\r\\n\\r\\n\\r\\n\\r\\n\\r\\n   \\r\\n      \\r\\n         장성철 \"윤석열 파일 입수…국민 선택받기 무척 힘들 것\"\\r\\n         [서울=뉴시스] 김지현 기자 = 정치평론가 장성철 공감과논쟁 정책센터소장은 19일 페이스북을 통해 \"얼마 전 윤석열 전 검찰총장과 처, 장모의 의혹이 정리된 일부의 문서화된 파일을 입수했다\"며 \"윤 전 총장에게 많은\\r\\n         \\r\\n      \\r\\n\\r\\nhttps://n.news.naver.com/mnew...',\n",
       " 'By 깨문시대',\n",
       " '지난 한달내에 온오프라인 합쳐서 23000명 입당했었고 2030이 37%입니다..\\r\\n\\r\\n2030대 대거 입당이라는것은 좀 그렇고...물론 꼰대정당 이미지의 국민의힘에서 젊은사람이 37% 비율이 적은 숫자는 아니죠\\r\\n\\r\\n민주당 작년 연말에 5일만에 25000명(주로 온라인)이 대거 입당한적이 있습니다.\\r\\n\\r\\n그때 추미애와 윤석열이 한참 배틀할 시기였죠..\\r\\n\\r\\n민주당은 5일만에 25000명 국민의힘은 한달에 23000명 ㅋㅋㅋ\\r\\n\\r\\n물론 이준석 ...',\n",
       " '그만큼 준석이가 미운가 봅니다. 대깨문, 대깨준 서로 막나가자고 할 정도면. ㅋㅋㅋ\\r\\n\\r\\n실제로 야권 진영에 대가리가 깨질만큼 이준석을 쉴드치는 자가 얼마나 있을지 모르겠지만 건투를 빕니다. 꼭 유행어 만드시길.\\r\\n\\r\\n근데 아류는 원조를 못 따라가더라구요. 결국 대깨문만 더 부각되지 않을까 싶네요.\\r\\n\\r\\n\\r\\n\\r\\n구글에서 [대깨준] 검색하면 자동으로 [대깨문]으로 수정 검색되네요. ㅋㅋㅋ\\r\\n\\r\\n\\r\\n\\r\\n   \\r...',\n",
       " '한주간 온라인 키워드 단연 1위 이준석 \"이런 관심 드물어\"\\r\\n         \\r\\n         \\r\\n            스피치로그 SNS·뉴스·커뮤니티의 한주간 키워드·이슈 주목도 분석 [미디어오늘 ] 지난 한주간 온라인에서 가장 두드러진 키워드는 \\'이준석\\'(국민의힘 당대표)으로 나타났다. 선출직 이력 없는 30대 당대표 등장에 차기 대선 주자군 반응이 맞물려 주목도가 높아졌다. 키워드 분석업체 스피치로그는 ...',\n",
       " '발언들 찾아보니 걍 제가 싫어하던 틀딱 빡대가리 정치인중 하나였네요 ㅋㅋㅋ\\r\\n이준석이 말하는 공정 정의를 저 틀딱들한테도 주입시킬수 있을지는 모르겠지만\\r\\n국힘도 인재풀이 작기는 한가보네요',\n",
       " \"[데이터로 본 정치민심]'文대통령 G7' 외교 일정 제친 '이준석'[서울경제] 지난 한 주(6월11일~17일)는 대통령의 외교 일정과 제1야당 대표의 취임 첫 일주일이 겹쳤다. 문재인 대통령은 G7(주요 7개국) 정상회의 참석과 영국·오스트리아·스페인 순방 등 6박 8일의 일정을 마치고 18일 돌아왔다. 이준석 국민의힘 대표는 문 대통령이 출국한 지난 11일에 신임 대표로 당선됐다. 청와대가 ‘G8 국가의 반열에 올랐다https://news.v.daum.net/v/cyoab7RFUc\\r\\n   &nb...\"]"
      ]
     },
     "execution_count": 23,
     "metadata": {},
     "output_type": "execute_result"
    }
   ],
   "source": [
    "[''.join(i.xpath('.//div[@class=\"content\"]/p/a/text()|.//div[@class=\"content\"]/p/a/b/text()')).strip() for i in tree]"
   ]
  },
  {
   "cell_type": "code",
   "execution_count": 24,
   "metadata": {},
   "outputs": [
    {
     "data": {
      "text/plain": [
       "['2021.06.19',\n",
       " '2021.06.19',\n",
       " '2021.06.19',\n",
       " '2021.06.19',\n",
       " '2021.06.19',\n",
       " '2021.06.19',\n",
       " '2021.06.19',\n",
       " '2021.06.19',\n",
       " '2021.06.19',\n",
       " '2021.06.19',\n",
       " '2021.06.19',\n",
       " '2021.06.19',\n",
       " '2021.06.19',\n",
       " '2021.06.19',\n",
       " '2021.06.19',\n",
       " '2021.06.19',\n",
       " '2021.06.19',\n",
       " '2021.06.19',\n",
       " '2021.06.19',\n",
       " '2021.06.19']"
      ]
     },
     "execution_count": 24,
     "metadata": {},
     "output_type": "execute_result"
    }
   ],
   "source": [
    "[i.xpath('.//p[@class=\"desc\"]/span[3]/text()')[0] for i in tree]"
   ]
  },
  {
   "cell_type": "markdown",
   "metadata": {},
   "source": [
    "# 엠팍"
   ]
  },
  {
   "cell_type": "code",
   "execution_count": 25,
   "metadata": {},
   "outputs": [],
   "source": [
    "url = 'http://mlbpark.donga.com/mp/b.php?p=1&m=search&b=bullpen&query=이준석&select=sct&user='"
   ]
  },
  {
   "cell_type": "code",
   "execution_count": 26,
   "metadata": {},
   "outputs": [],
   "source": [
    "res = requests.get(url)"
   ]
  },
  {
   "cell_type": "code",
   "execution_count": 27,
   "metadata": {},
   "outputs": [
    {
     "data": {
      "text/plain": [
       "<Response [200]>"
      ]
     },
     "execution_count": 27,
     "metadata": {},
     "output_type": "execute_result"
    }
   ],
   "source": [
    "res"
   ]
  },
  {
   "cell_type": "code",
   "execution_count": 28,
   "metadata": {},
   "outputs": [],
   "source": [
    "root = html.fromstring(res.text)"
   ]
  },
  {
   "cell_type": "code",
   "execution_count": 29,
   "metadata": {},
   "outputs": [
    {
     "data": {
      "text/plain": [
       "['보수 보니깐 대통령은 이재명일듯',\n",
       " '이준석이 별거아니라 한 이유가 있죠',\n",
       " '이준석 병역의혹 완전히 해소됬네요(feat.클리앙)',\n",
       " '이준석말고 마에스트로 100명중 졸업생 더있다 주장하던데',\n",
       " '이준석 외삼촌 회사가 ㅅㅎㅇㅌㅌ맞나요?',\n",
       " '이준석 지원사진',\n",
       " \"11년전 이준석, 더벅머리에 안경…2010년 9월 '정부 SW 1기 77번' 정부자료\",\n",
       " '민주당에서 이준석 상대로 네거티브 하는 꼴을 보면',\n",
       " '이준석의 병역비리 시비터는 넘들에게 마지막 확인사살(페이스북 업데이트)',\n",
       " '이준석 페이스북 업데이트',\n",
       " '이준석 병역비리 의혹 막타 ㅋㅋㅋㅋ 끝났구나 ㅅㅅ',\n",
       " '이준석의 페이스북(병역비리 쉰떡밥 물고늘어지는 김용민이하 지능수준이 능지인 인간들에게 고함)',\n",
       " '국힘은 꼴아 박지 않아도 되요',\n",
       " '이래서 윤총장은 빨리 입당해 보호를 받아야 합니다',\n",
       " '옆동네 조선일보 윤석열 X파일 심각하다고 판단 중 찌라시',\n",
       " '이준석 페북.new',\n",
       " '윤석열 8월이전에 입당하는게 맞다고 봅니다',\n",
       " '장성철 \"윤석열 파일 입수…국민 선택받기 무척 힘들 것\"',\n",
       " '윤석열에 부정적인 여론 형성을 단순 민주당 쪽만은 아닌거 같네요',\n",
       " '윤석열 뭔가 있긴있는것 같네요',\n",
       " '이준석 나중에 자한당이나 본인이 검찰에 억울한일 당하면',\n",
       " '이준석 검찰주의자 인가요?',\n",
       " '이준석 페이스북',\n",
       " '이준석 끝났네요',\n",
       " '이준석이 두 달간 택시 운전을 한 적이 있었군요.',\n",
       " '이준석에 대한 텃세가 꽤 있나보네요',\n",
       " '이준석 당내인사할때 어려움이 많았다네요',\n",
       " '[터치! 코리아] 20대 남자들이 화난 이유',\n",
       " '진지글) 국힘 친박이 당권잡거나 이준석 허수아비 만들면 차라리 민주당찍습니다.',\n",
       " '김문수 \"이준석 박근혜 면회는 인간의 도리\".gisa']"
      ]
     },
     "execution_count": 29,
     "metadata": {},
     "output_type": "execute_result"
    }
   ],
   "source": [
    "root.xpath('//table/tbody/tr/td/div[@class=\"tit\"]/a/@alt')"
   ]
  },
  {
   "cell_type": "code",
   "execution_count": 30,
   "metadata": {},
   "outputs": [
    {
     "data": {
      "text/plain": [
       "['15:58:05',\n",
       " '15:55:57',\n",
       " '15:43:29',\n",
       " '15:42:51',\n",
       " '15:39:07',\n",
       " '15:35:18',\n",
       " '15:34:24',\n",
       " '15:28:46',\n",
       " '15:21:40',\n",
       " '15:20:43',\n",
       " '15:20:08',\n",
       " '15:14:50',\n",
       " '15:07:59',\n",
       " '15:03:35',\n",
       " '14:59:38',\n",
       " '14:49:55',\n",
       " '14:49:37',\n",
       " '14:40:01',\n",
       " '14:07:30',\n",
       " '13:55:40',\n",
       " '13:13:59',\n",
       " '13:05:23',\n",
       " '12:49:58',\n",
       " '12:35:03',\n",
       " '12:02:15',\n",
       " '11:57:07',\n",
       " '11:54:13',\n",
       " '11:49:12',\n",
       " '11:30:08',\n",
       " '11:27:30']"
      ]
     },
     "execution_count": 30,
     "metadata": {},
     "output_type": "execute_result"
    }
   ],
   "source": [
    "root.xpath('//table/tbody/tr/td/span[@class=\"date\"]/text()')"
   ]
  },
  {
   "cell_type": "markdown",
   "metadata": {},
   "source": [
    "# 클리앙"
   ]
  },
  {
   "cell_type": "code",
   "execution_count": 31,
   "metadata": {},
   "outputs": [],
   "source": [
    "url = \"https://www.clien.net/service/search?q=이준석&sort=recency&p=0&boardCd=&isBoard=false\""
   ]
  },
  {
   "cell_type": "code",
   "execution_count": 32,
   "metadata": {},
   "outputs": [],
   "source": [
    "res= requests.get(url)"
   ]
  },
  {
   "cell_type": "code",
   "execution_count": 33,
   "metadata": {},
   "outputs": [
    {
     "data": {
      "text/plain": [
       "['연합뉴스 국고 연 300억 지급',\n",
       " '민주당과 대통령이 싫습니다. 국힘당으로 돌아섭니다.',\n",
       " '장성철로 옆동네싸이트마다 난리네요ㅎㅎ',\n",
       " '이준석 의혹 100%입니다.',\n",
       " '이준석은 시작 자체가 특혜였죠',\n",
       " '평범한 Sw 병특근무자가 보는 시점',\n",
       " '이번 선거는 집토끼 치킨 레이스일거 같아요',\n",
       " '현시각 난리 난 펨코.jpg',\n",
       " '이준석은 끝났네요 ㅋㅋㅋ',\n",
       " '오늘 조선일보의 기사',\n",
       " '“나는 중립적이다” 라는 사람을 경계하세요',\n",
       " '여성징병제가 그렇게 하고싶으면 이준석한테 국민의힘 대선 공약으로 하자고 하세요',\n",
       " '[딴지펌] 이준석의 병역법 위반 무혐의 내린 검사는 누구일까?',\n",
       " '추장관 아들 휴가, 조국교수 딸 표창장으로 공정 떠들던 놈들이..',\n",
       " '2010년 9월 정부문서 확인, 이준석 의혹 민주당 완패',\n",
       " '문준용님 이 이준석 대표와 같은 방법으로 군대를 대신했다면...',\n",
       " \"'이준잣대' 쭌썩이 병특의혹제기 이보다 깔끔할 수 없다!\",\n",
       " '이 정권에 자꾸만 실망하는 이유(조금 깁니다)',\n",
       " '하태경, 이준석의 언젠가 수순...']"
      ]
     },
     "execution_count": 33,
     "metadata": {},
     "output_type": "execute_result"
    }
   ],
   "source": [
    "root = html.fromstring(res.text)\n",
    "root.xpath('//div[@class=\"contents_jirum\"]/div[contains(@class,\"list_item\")]/div/span/a/@title')"
   ]
  },
  {
   "cell_type": "code",
   "execution_count": 34,
   "metadata": {},
   "outputs": [
    {
     "data": {
      "text/plain": [
       "[\"21.06.19 https://m.ytn.co.kr/news_view.php?s_mcd=0101&key=202106190428224433&pos= 이준석의 '직설적 영리함'...진보처럼 보\",\n",
       " '내준다고 해서 찍엇더니 이제는 못해준다고 합다 민주당이 싫습니다 그래서 전 윤석열을 지지하며 이준석을 지지하고 안철수 또 ',\n",
       " '나올거에요. 홍준표로 갈거임..아님 오세훈이나 유승민은 도저히 대구쪽에서 못받아들임 @rurujin님 이준석된거 보면 꼭 그렇지도',\n",
       " '근데 왜 기사가 안나오는건가요?? 기레기들 중국집 홍보전단 돌리느라 잣빠지게 바빠요^^ 활동기간 4천일...귀한 올드비시네요',\n",
       " '이준석을 세상에 알린 박근혜의 갑작스런 발탁도 사실 능력이 아니라 아빠 친구 찬스였다고 밖에 안보이죠 추천 근거라는 벤처업',\n",
       " '아직 20대로 이준석대표보다는 늦게 시작해서 현재는 복무만료상태입니다. 병특 지원자격이야 대학입시마냥 매년 바뀌는 면이 있',\n",
       " '당 대표 됬으니까 페미 풀 코인 밟는 이준석 배신의 정치 하면서 승승 장구하는 유승민계파 간철수의 매운맛 탄핵검사 윤석열과의',\n",
       " '@angleu님 한동훈 관련해서 해왔던짓 보고 공정 지껄이는거보면 뇌가 없는 개체들로 생각됩니다 이준석이 버스론 얘기하는 이유가',\n",
       " '공정? 의혹보니 너무 분명한 특혜라 빠져나오기 어려울듯~ 국킴당 대표에 딱 맞는 인간이었네요~ 너무나도 공정을 좋아하는 그 지',\n",
       " '저런 기사도 내는 거겠죠? 우석대 학생들... 창피해서 어쩌나요.. 누구누구 만세...는 조선의 전공분야...집도 생기고 돈도 생기',\n",
       " '조국교수 딸 표창장 문제도 지금 판결을 더 봐야겠지만 점점 최성해의 위증이 드러나고 있죠. (이준석 지지자들에 의하면 이것도',\n",
       " '이준석이라고 여성징병제 추진 할 수 있을거 같나요?? 이준석이 하나마나한 소리로 여성징병제 추진 피해가면 그건 또 착한반페미',\n",
       " \"김용민 의원이 이준석의 SW마에스트로 사업 지원 관련해서 (사실이라면) '사기죄'의 성립 가능성까지 언급을 한 가운데 이준석은\",\n",
       " '이준석에 대한 의혹 관련하여 피의 쉴드를 칩니다. 너무 노골적이라 안경 벗고 쏴리질렀네요. 그들의 “공정” 지렸습니다 이준잣대',\n",
       " '여기 분들은 아직 모르시는것 같아 올려봅니다 황보승희 임명화이팅~ 한기호임명 화이팅~ 펨ㅋ 화이팅~ 이준잣대 화이팅입니다~ 멍',\n",
       " '어찌 되었을까요?? 24시간 뉴스에 나오고 예전 동료를 찾아가고 공정에 대해서 묻고... 그런 와중에 10년전 한 검사가 무혐의 처',\n",
       " '행복님 고발도 했을걸요. @행복님 저거 지금 공소시효 안 지난 범죄인가요?아 고발됐군요. ??? : 김남국 이준석이 잘나가니까 질',\n",
       " '음.. 이글이 \"나 이제 국짐당 찍을레\"는 아닌듯 합니다. 저분이 국짐 찍을거였으면 아마 펨코가서 이준석 팬클럽 하고있지 않을까',\n",
       " '그런 불확실한 늬앙스를 느꼈습니다요... ㅇ 지금 돌아가는거 보아서는... 국민의 힘내에서.. 어차피 이준석은 그가 가진 철학의 ']"
      ]
     },
     "execution_count": 34,
     "metadata": {},
     "output_type": "execute_result"
    }
   ],
   "source": [
    "root.xpath('//div[@class=\"contents_jirum\"]/div[contains(@class,\"list_item\")]/div/div[@class=\"preview\"]/span/text()')"
   ]
  },
  {
   "cell_type": "code",
   "execution_count": 35,
   "metadata": {},
   "outputs": [
    {
     "data": {
      "text/plain": [
       "['2021-06-19 16:19:04',\n",
       " '2021-06-19 15:53:44',\n",
       " '2021-06-19 15:34:43',\n",
       " '2021-06-19 15:32:34',\n",
       " '2021-06-19 15:31:34',\n",
       " '2021-06-19 15:21:56',\n",
       " '2021-06-19 14:54:41',\n",
       " '2021-06-19 14:54:20',\n",
       " '2021-06-19 14:45:06',\n",
       " '2021-06-19 14:38:58',\n",
       " '2021-06-19 14:38:33',\n",
       " '2021-06-19 14:15:40',\n",
       " '2021-06-19 14:14:56',\n",
       " '2021-06-19 14:13:51',\n",
       " '2021-06-19 13:52:36',\n",
       " '2021-06-19 13:29:50',\n",
       " '2021-06-19 12:55:04',\n",
       " '2021-06-19 12:48:23',\n",
       " '2021-06-19 12:22:45']"
      ]
     },
     "execution_count": 35,
     "metadata": {},
     "output_type": "execute_result"
    }
   ],
   "source": [
    "root.xpath('//div[@class=\"contents_jirum\"]/div[contains(@class,\"list_item\")]/div[@class=\"list_time\"]/span/span[@class=\"timestamp\"]/text()')"
   ]
  },
  {
   "cell_type": "markdown",
   "metadata": {},
   "source": [
    "# 와이고수 -> 데이터 반환 못함"
   ]
  },
  {
   "cell_type": "code",
   "execution_count": 36,
   "metadata": {},
   "outputs": [],
   "source": [
    "url = \"https://www.ygosu.com/all_search/?type=&add_search_log=Y&keyword=이준석\""
   ]
  },
  {
   "cell_type": "code",
   "execution_count": 37,
   "metadata": {},
   "outputs": [],
   "source": [
    "res = requests.get(url)"
   ]
  },
  {
   "cell_type": "code",
   "execution_count": 38,
   "metadata": {},
   "outputs": [
    {
     "data": {
      "text/plain": [
       "<Response [200]>"
      ]
     },
     "execution_count": 38,
     "metadata": {},
     "output_type": "execute_result"
    }
   ],
   "source": [
    "res"
   ]
  },
  {
   "cell_type": "code",
   "execution_count": 39,
   "metadata": {},
   "outputs": [],
   "source": [
    "root = html.fromstring(res.text)"
   ]
  },
  {
   "cell_type": "code",
   "execution_count": 40,
   "metadata": {},
   "outputs": [],
   "source": [
    "tree = root.xpath('//ul[@id=\"board_search_result\"]/li/ul/li/dl')"
   ]
  },
  {
   "cell_type": "code",
   "execution_count": 41,
   "metadata": {},
   "outputs": [
    {
     "data": {
      "text/plain": [
       "[]"
      ]
     },
     "execution_count": 41,
     "metadata": {},
     "output_type": "execute_result"
    }
   ],
   "source": [
    "[''.join(i.xpath('.//dt/a/text()|.//a/strong/text()')) for i in tree]"
   ]
  },
  {
   "cell_type": "code",
   "execution_count": 42,
   "metadata": {},
   "outputs": [
    {
     "data": {
      "text/plain": [
       "[]"
      ]
     },
     "execution_count": 42,
     "metadata": {},
     "output_type": "execute_result"
    }
   ],
   "source": [
    "[''.join(i.xpath('.//dd[@class=\"content\"]/p/text()|.//dd[@class=\"content\"]/p/strong/text()')).strip() for i in tree]"
   ]
  },
  {
   "cell_type": "code",
   "execution_count": 43,
   "metadata": {},
   "outputs": [
    {
     "data": {
      "text/plain": [
       "[]"
      ]
     },
     "execution_count": 43,
     "metadata": {},
     "output_type": "execute_result"
    }
   ],
   "source": [
    "[''.join(i.xpath('.//dt/span[@class=\"date\"]/text()')) for i in tree]"
   ]
  },
  {
   "cell_type": "code",
   "execution_count": null,
   "metadata": {},
   "outputs": [],
   "source": []
  }
 ],
 "metadata": {
  "kernelspec": {
   "display_name": "Python 3",
   "language": "python",
   "name": "python3"
  },
  "language_info": {
   "codemirror_mode": {
    "name": "ipython",
    "version": 3
   },
   "file_extension": ".py",
   "mimetype": "text/x-python",
   "name": "python",
   "nbconvert_exporter": "python",
   "pygments_lexer": "ipython3",
   "version": "3.7.6"
  }
 },
 "nbformat": 4,
 "nbformat_minor": 4
}
