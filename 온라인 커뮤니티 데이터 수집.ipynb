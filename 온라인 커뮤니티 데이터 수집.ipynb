{
 "cells": [
  {
   "cell_type": "code",
   "execution_count": 3,
   "metadata": {},
   "outputs": [],
   "source": [
    "import requests\n",
    "from lxml import html\n",
    "from tqdm.notebook import tqdm"
   ]
  },
  {
   "cell_type": "markdown",
   "metadata": {},
   "source": [
    "# 일베"
   ]
  },
  {
   "cell_type": "code",
   "execution_count": 55,
   "metadata": {},
   "outputs": [],
   "source": [
    "result = []\n",
    "date = []\n",
    "# for i in tqdm(range(1,10)):\n",
    "page_num = 1\n",
    "url = 'https://www.ilbe.com/search?docType=doc&searchType=title_content&page={page_num}&q=이준석'.format(page_num=1)\n",
    "res = requests.get(url)\n",
    "root = html.fromstring(res.text)\n",
    "tree = root.xpath('//div[@class=\"search-list\"]/ul/li')\n",
    "#     [''.join(i.xpath('.//a/text()')).replace('\\xa0','') for i in tree]\n",
    "result += [''.join(i.xpath('.//a/text()|.//a/strong/text()')) for i in tree]\n",
    "date += [i.xpath('.//span[@class=\"date\"]/text()')[0].split()[0] for i in tree]\n"
   ]
  },
  {
   "cell_type": "code",
   "execution_count": 80,
   "metadata": {},
   "outputs": [],
   "source": [
    "url = 'https://www.ilbe.com/view/11349325935'\n",
    "res = requests.get(url)\n",
    "root = html.fromstring(res.text)"
   ]
  },
  {
   "cell_type": "code",
   "execution_count": 81,
   "metadata": {},
   "outputs": [
    {
     "data": {
      "text/plain": [
       "\" 천도교는 죽었다깨도 민주주의가 아니다. 민주화 운동의 시작에 깔린 '사기 기망' 그리고 광주민중항쟁은 저항권을 행사하지 않은 그냥 천도교민란. 전두환 심판이 흔들리는게 아닌데 유공자 이런 문제는 근본 문제. 재판 판결이 그때부터 주문했겠지. 판결문을 이렇게 써달라. 검찰당 빼면 사회를 아무도 못 바꾸고 그냥 천도교 독재에 바지저고리임 \""
      ]
     },
     "execution_count": 81,
     "metadata": {},
     "output_type": "execute_result"
    }
   ],
   "source": [
    "' '.join([i.replace(u'\\xa0',u' ').strip() for i in root.xpath('//div[@class=\"post-content\"]/text()|.//div[@class=\"post-content\"]/*/text()')])"
   ]
  },
  {
   "cell_type": "code",
   "execution_count": 76,
   "metadata": {},
   "outputs": [
    {
     "data": {
      "text/plain": [
       "[]"
      ]
     },
     "execution_count": 76,
     "metadata": {},
     "output_type": "execute_result"
    }
   ],
   "source": [
    "tree = root.xpath('//div[@class=\"search-list\"]/ul/li')\n",
    "[i.xpath('.//a/@href')[0] for i in tree]"
   ]
  },
  {
   "cell_type": "code",
   "execution_count": 48,
   "metadata": {},
   "outputs": [
    {
     "data": {
      "text/plain": [
       "'<!doctype html>\\r\\n<html lang=\"ko\">\\r\\n<head>\\r\\n<script async src=\"//cmp.optad360.io/items/b6362e21-87f3-4490-88b1-aa4c8ff44e04.min.js\"></script>\\r\\n<!-- Global site tag (gtag.js) - Google Analytics -->\\r\\n<script async src=\"https://www.googletagmanager.com/gtag/js?id=UA-21408074-2\"></script>\\r\\n<script>\\r\\n  window.dataLayer = window.dataLayer || [];\\r\\n  function gtag(){dataLayer.push(arguments);}\\r\\n  gtag(\\'js\\', new Date());\\r\\n\\r\\n  gtag(\\'config\\', \\'UA-21408074-2\\');\\r\\n</script>\\r\\n<meta http-equiv=\"Content-Type\" content=\"text/html; charset=utf-8\">\\r\\n<meta charset=\"utf-8\">\\r\\n<title>이준석 국힘 당대표이후 다음 대선 예상 | 짤방-유머게시판 | 일베저장소</title>\\r\\n\\r\\n<link rel=\"apple-touch-icon\" href=\"/img/favicon/icon_favicon.ico\">\\r\\n<link rel=\"shortcut icon\" href=\"/img/favicon/icon_favicon.ico\">\\r\\n<meta name=\"msapplication-TileColor\" content=\"#ffffff\">\\r\\n<meta name=\"msapplication-TileImage\" content=\"/img/favicon/icon_favicon.ico\">\\r\\n<meta name=\"theme-color\" content=\"#ffffff\">\\r\\n<meta http-equiv=\"X-UA-Compatible\" content=\"IE=9,IE=10,IE=Edge,chrome=1\" />\\r\\n\\r\\n<meta property=\"og:type\" content=\"website\">\\r\\n<meta property=\"og:title\" content=\"일간베스트\">\\r\\n<meta property=\"og:image\" content=\"/images/ilbe.png\">\\r\\n<meta property=\"og:description\" content=\"일베저장소 - 일간베스트, 개드립, 짤방, 플래시 게임, 유머 게시판\">\\r\\n<meta property=\"og:url\" content=\"http://www.ilbe.com\">\\t\\t\\t\\t\\t\\r\\n\\r\\n<link href=\"/css/base.css?190820\" rel=\"stylesheet\">\\r\\n<link href=\"/css/common.css?190820\" rel=\"stylesheet\">\\r\\n<link rel=\"stylesheet\" href=\"/js/toast/toast.css?190820\">\\r\\n<link rel=\"stylesheet\" href=\"/js/popup/popup.css?190820\">\\r\\n<link href=\"/css/board.css?190820\" rel=\"stylesheet\">\\r\\n<script>\\r\\n  !function(f,b,e,v,n,t,s)\\r\\n  {if(f.fbq)return;n=f.fbq=function(){n.callMethod?\\r\\n  n.callMethod.apply(n,arguments):n.queue.push(arguments)};\\r\\n  if(!f._fbq)f._fbq=n;n.push=n;n.loaded=!0;n.version=\\'2.0\\';\\r\\n  n.queue=[];t=b.createElement(e);t.async=!0;\\r\\n  t.src=v;s=b.getElementsByTagName(e)[0];\\r\\n  s.parentNode.insertBefore(t,s)}(window, document,\\'script\\',\\r\\n  \\'https://connect.facebook.net/en_US/fbevents.js\\');\\r\\n  fbq(\\'init\\', \\'461626781012076\\');\\r\\n  fbq(\\'track\\', \\'PageView\\');\\r\\n\\r\\nwindow.keyword=\"manhwa\";\\r\\nwindow.csrf_val=\"c397d9d80ab96642134f28c27658b17f\";\\r\\nwindow.web=true;\\r\\n</script>\\r\\n\\r\\n<script src=\"/js/jquery/jquery-1.12.4.min.js\"></script>\\r\\n<!-- script src=\"/js/prefixfree.min.js?200206\"></script-->\\r\\n<!--  script src=\"/js/ib.js?200206\"></script-->\\r\\n<script src=\"/js/common.js?200206\"></script>\\r\\n<script src=\"/js/pgpopup.js?200206\"></script>\\r\\n<script src=\"/js/toast/toast.js?200206\"></script>\\r\\n<script src=\"/js/popup/popup.js?200206\"></script>\\r\\n\\r\\n<script src=\"/js/secure/jsbn.js\"></script>\\r\\n<script src=\"/js/secure/prng4.js\"></script>\\r\\n<script src=\"/js/secure/rng.js\"></script>\\r\\n<script src=\"/js/secure/rsa.js\"></script>\\r\\n<script src=\"/oa/loader.js?200206\"></script>\\r\\n\\t<script src=\"/js/board/thumb.js?200206\"></script>\\r\\n\\r\\n<!--[if lte IE 8]>\\r\\n\\t<link href=\"/css/ie8_common.css\" rel=\"stylesheet\">\\r\\n<![endif]-->\\r\\n<style type=\"text/css\">\\r\\n\\r\\n@font-face {font-family: \\'TmonMonsori\\';\\r\\nsrc: url(\\'https://cdn.jsdelivr.net/gh/projectnoonnu/noonfonts_two@1.0/TmonMonsori.woff\\') format(\\'woff\\');font-weight: normal;font-style: normal; \\r\\n}\\r\\n.tmonsori_1 { \\r\\n\\tfont-family:\\'TmonMonsori\\' !important; \\r\\n\\tfont-weight:bold;\\r\\n\\tfont-size: 1.2em;\\r\\n\\t\\r\\n\\tletter-spacing:0px;\\r\\n\\tcolor:#636363;\\r\\n}\\r\\n.tmonsori_1.date{position:relative; top:-95px; left:50px; width:120px;}\\r\\n.tmonsori_1.day{position: relative; top: -31px; right: 20px; width: 160px; text-align: right; font-size: 1.3em;}\\r\\n\\r\\n</style>\\r\\n\\r\\n<script>\\r\\n    function golink(url,id){\\r\\n    \\tdeleteNoti(id);\\r\\n    \\t\\r\\n    }\\r\\n    function deleteNotiAll(){\\r\\n    \\tToast.show(\"전체 알림을 삭제 합니다.\",{\\r\\n    \\t\\t\\tok:function(){\\r\\n    \\t\\t\\t\\tdeleteNoti(\\'noti-all\\');\\r\\n    \\t\\t\\t},\\r\\n    \\t\\t\\tcancel:function(){\\r\\n    \\t\\t\\t}\\r\\n    \\t\\t});\\r\\n    }\\r\\n    function deleteNoti(id){\\r\\n    \\tvar param={};\\r\\n    \\tparam.ckCsrfToken=window.csrf_val;\\r\\n    \\tparam.notify=id;\\r\\n    \\t$.post(\"/member/deletenotify\",param,function(res){\\r\\n    \\t\\tvar data=JSON.parse(res);\\r\\n    \\t\\t\\r\\n    \\t\\tif(data.result==\"Y\"){\\t\\t\\t\\t\\t\\t\\t\\t\\r\\n    \\t\\t\\tif(id!==\\'noti-all\\'){\\r\\n    \\t\\t\\t\\t$(\"#\"+id).remove();\\r\\n    \\t\\t\\t\\tvar count=parseInt($(\".notify-count\").text());\\r\\n    \\t\\t\\t\\tif(count==1){\\r\\n    \\t\\t\\t\\t\\t$(\"#event-notice\").html(\"\");\\r\\n    \\t\\t\\t\\t\\t$(\"#event-notice\").css(\"display\",\"none\");\\r\\n    \\t\\t\\t\\t}else{\\r\\n    \\t\\t\\t\\t\\t$(\".notify-count\").text(count-1);\\r\\n    \\t\\t\\t\\t\\tif(count-1>30){\\r\\n    \\t\\t\\t\\t\\t\\t$(\".notify-count2\").text(\"30+\");\\r\\n    \\t\\t\\t\\t\\t}else{\\r\\n    \\t\\t\\t\\t\\t\\t$(\".notify-count2\").text(count-1);\\r\\n    \\t\\t\\t\\t\\t}\\r\\n    \\t\\t\\t\\t}\\r\\n    \\t\\t\\t}else{\\r\\n    \\t\\t\\t\\t$(\".notify-count2\").text(\"0\");\\r\\n    \\t\\t\\t\\t$(\"#event-notice\").html(\"\");\\r\\n    \\t\\t\\t\\t$(\"#event-notice\").css(\"display\",\"none\");\\r\\n    \\t\\t\\t}\\t\\t\\t\\r\\n    \\t\\t}else{\\r\\n    \\t\\t\\tToast.show(data.msg,{modal:true});\\r\\n    \\t\\t}\\r\\n    \\t}).fail(function(){Toast.show(\"서버 오류.\",{modal:true});});\\r\\n    }\\r\\n    </script>\\r\\n</head>\\r\\n<body>\\r\\n<script async src=\"//get.optad360.io/sf/9933a078-d23f-452c-bfab-4c2d26749c7b/plugin.min.js\"></script>\\r\\n<script>document.write(\"<iframe src=\\'//www.mediacategory.com/servlet/iadbn?from=\"+escape(document.referrer)+\"&s=506846&psb=99\\' scrolling=\\'no\\' frameborder=0 width=0 height=0></iframe>\");</script>\\r\\n<!-- wrap -->\\r\\n<div id=\"wrap\">\\r\\n\\t<!-- header -->\\r\\n\\t<div id=\"header\">\\r\\n\\t\\t<div id=\"gnb-top\" class=\"bg-season\" style=\"display: block; background: url(\\'/logo/headerBg8.jpg\\') no-repeat center 0;\">\\r\\n\\t\\t\\t<div class=\"gnb-fix-area\">\\r\\n\\t\\t\\t\\t\\r\\n\\t\\t\\t\\t<h1 class=\"logo-link\"><a href=\"/\">일간베스트 저장소</a></h1>\\r\\n\\t\\t\\t\\t<div class=\"search-area\">\\r\\n\\t\\t\\t\\t\\t<form id=\"searchAllForm\" action=\"/search\">\\r\\n\\t\\t\\t\\t\\t<div id=\"keyowrd_wrap\" class=\"hide\">\\r\\n\\t\\t\\t\\t\\t\\t<span><strong>\\'<em id=\"keyword\"></em>\\'</strong><em id=\"josa\"></em></span>\\r\\n\\t\\t\\t\\t\\t</div>\\r\\n\\t\\t\\t\\t\\t<span class=\"search-window\">\\r\\n\\t\\t\\t\\t\\t\\t<input type=\"text\" id=\"search_q\" name=\"q\" />\\r\\n\\t\\t\\t\\t\\t</span>\\r\\n\\t\\t\\t\\t\\t<button type=\"submit\" class=\"btn-search\"><span>검색</span></button>\\r\\n\\t\\t\\t\\t\\t</form>\\r\\n\\t\\t\\t\\t</div>\\r\\n\\t\\t\\t</div>\\r\\n\\t\\t\\t<script src=\"/js/search.js?200206\"></script>\\r\\n\\t\\t\\t\\r\\n\\t\\t</div>\\t\\t\\r\\n\\t\\t<!-- GNB -->\\r\\n\\t\\t<div id=\"gnb\">\\r\\n\\t\\t\\t\\n<ul id=\\'menu\\' class=\\'gnb-list drop-menu\\'><li><a href=\\'/list/ilbe\\'>일베</a><ul class=\\'depth2\\'><li class=\\'top_menu_sub\\'><a focus-id=\\'4044bfe31de72a1de22410b74a17b58f\\' href=\\'/list/ilbe\\'>일베-일간베스트</a></li><li class=\\'top_menu_sub\\'><a focus-id=\\'4136eb1e88187ceabbe796c8bb70b3af\\' href=\\'/list/ilbe?sub=best\\'>일베-일간베스트 (인기글)</a></li><li class=\\'top_menu_sub\\'><a focus-id=\\'df71d9507f090d99357a11a77231bdd4\\' href=\\'https://www.ilbe.com/list/ilbe?category=2701083014\\'>일베-일간베스트 (정보)</a></li><li class=\\'top_menu_sub\\'><a focus-id=\\'9ab8f1fe8c734e72a8b19318767e998f\\' href=\\'https://www.ilbe.com/list/ilbe?sub=info\\'>일베-일간베스트 (정보 인기글)</a></li><li class=\\'top_menu_sub\\'><a focus-id=\\'7bc6b9af23e729332ccfe347403b5146\\' href=\\'/list/lanhist\\'>랜선역사</a></li><li class=\\'top_menu_sub\\'><a focus-id=\\'2e3c0b8578c0230a24db26db76b3e783\\' href=\\'/list/logo\\'>로고/퍼스나콘</a></li></ul></li><li><a href=\\'/list/jjal\\'>짤방</a><ul class=\\'depth2\\'><li class=\\'top_menu_sub\\'><a focus-id=\\'3c6b5f43ce232bec0fee8c4bfd1dcba3\\' href=\\'/list/jjal\\'>짤방-유머게시판</a></li><li class=\\'top_menu_sub\\'><a focus-id=\\'6b3b78585e756d3a81aaae84e15cebaa\\' href=\\'https://www.ilbe.com/list/jjal?sub=best\\'>짤방-유머게시판 (인기글)</a></li><li class=\\'top_menu_sub\\'><a focus-id=\\'9711d3aa11fdef7d624f9566ee18b48f\\' href=\\'/list/celeb\\'>걸그룹/연예인</a></li><li class=\\'top_menu_sub\\'><a focus-id=\\'54b75b4ca2edfe30005ebd29dc823e5d\\' href=\\'/list/animation\\'>애니메이션</a></li></ul></li><li><a href=\\'/list/politics\\'>정치/시사</a><ul class=\\'depth2\\'><li class=\\'top_menu_sub\\'><a focus-id=\\'47e8ffce0f798fb09201c7f472572b19\\' href=\\'/list/issue\\'>뉴스/이슈</a></li><li class=\\'top_menu_sub\\'><a focus-id=\\'146b2fec93f8778cd70652ec875fe39c\\' href=\\'https://www.ilbe.com/list/issue?sub=best\\'>뉴스/이슈 (인기글)</a></li><li class=\\'top_menu_sub\\'><a focus-id=\\'1517e535a47f1463e6b948471878abb2\\' href=\\'/list/politics\\'>정치/시사</a></li><li class=\\'top_menu_sub\\'><a focus-id=\\'b0ac19ad57ebd288083e73b62756541a\\' href=\\'https://www.ilbe.com/list/politics?sub=best\\'>정치/시사 (인기글)</a></li></ul></li><li><a href=\\'/si/popular\\'>인기</a><ul class=\\'depth2\\'><li class=\\'top_menu_sub\\'><a focus-id=\\'9711d3aa11fdef7d624f9566ee18b48f\\' href=\\'/list/celeb\\'>걸그룹/연예인</a></li><li class=\\'top_menu_sub\\'><a focus-id=\\'f338ffca9730c9a02586d7bae1545008\\' href=\\'/list/sangdam\\'>고민상담</a></li><li class=\\'top_menu_sub\\'><a focus-id=\\'ba130e47c71261aa831e8ba4749c97e3\\' href=\\'/list/university\\'>대학</a></li><li class=\\'top_menu_sub\\'><a focus-id=\\'75ed9b816c599e6e9bb0aa090236685d\\' href=\\'/list/fashion\\'>미용/패션</a></li><li class=\\'top_menu_sub\\'><a focus-id=\\'a2105a738c44047f8c7f65d7d28b2219\\' href=\\'/list/smartphone\\'>스마트폰</a></li><li class=\\'top_menu_sub\\'><a focus-id=\\'54b75b4ca2edfe30005ebd29dc823e5d\\' href=\\'/list/animation\\'>애니메이션</a></li><li class=\\'top_menu_sub\\'><a focus-id=\\'6d70d5a708e449ab15d756ee07dcb756\\' href=\\'/list/free\\'>잡담</a></li></ul></li><li><a href=\\'/si/normal\\'>일반</a><ul class=\\'depth2\\'><li class=\\'top_menu_sub\\'><a focus-id=\\'4083cf790e14d1eb2efc566a1532eb46\\' href=\\'/list/fear\\'>공포/미스터리</a></li><li class=\\'top_menu_sub\\'><a focus-id=\\'63553dcdb5d68e8add9dffa52ebeda83\\' href=\\'/list/fishing\\'>낚시</a></li><li class=\\'top_menu_sub\\'><a focus-id=\\'043a46817150c3865e8b7cfe742ee78e\\' href=\\'/list/military\\'>밀리터리</a></li><li class=\\'top_menu_sub\\'><a focus-id=\\'937b57a25f47ecf12287509c4a61fa3c\\' href=\\'/list/car\\'>자동차</a></li><li class=\\'top_menu_sub\\'><a focus-id=\\'9668bf1769fcc9be76cdafea9f927110\\' href=\\'/list/bike\\'>자전거</a></li><li class=\\'top_menu_sub\\'><a focus-id=\\'6d70d5a708e449ab15d756ee07dcb756\\' href=\\'/list/free\\'>잡담</a></li></ul></li><li><a href=\\'/si/culture\\'>문화</a><ul class=\\'depth2\\'><li class=\\'top_menu_sub\\'><a focus-id=\\'c361e0f66645cfe9f9ecc9bd15834a39\\' href=\\'/list/drama\\'>TV프로그램</a></li><li class=\\'top_menu_sub\\'><a focus-id=\\'45f82bb229ff23a00fb628988ebe9c03\\' href=\\'/list/book\\'>도서</a></li><li class=\\'top_menu_sub\\'><a focus-id=\\'c7752de78001550284f8690c92005958\\' href=\\'/list/camera\\'>사진/카메라</a></li><li class=\\'top_menu_sub\\'><a focus-id=\\'5719997e71df14a697923da3b0fa23e1\\' href=\\'/list/animal\\'>애완동물</a></li><li class=\\'top_menu_sub\\'><a focus-id=\\'ca50defd5838383311cad69597c5056d\\' href=\\'/list/travel\\'>여행/캠핑</a></li><li class=\\'top_menu_sub\\'><a focus-id=\\'2dada7ae9e910ef8814f67e15fca2965\\' href=\\'/list/movie\\'>영화</a></li><li class=\\'top_menu_sub\\'><a focus-id=\\'9749d3235ef84982f3d25414265456de\\' href=\\'/list/recipe\\'>요리/맛집</a></li><li class=\\'top_menu_sub\\'><a focus-id=\\'1c005041d9683c0b703efb36a82a5e94\\' href=\\'/list/music\\'>음악</a></li><li class=\\'top_menu_sub\\'><a focus-id=\\'c6cad4a2f8bb45563ceabef43c98f72b\\' href=\\'/list/creation\\'>창작</a></li></ul></li><li><a href=\\'https://www.ilbe.com/ctrl/svc/pagepriview/sports\\'>스포츠</a><ul class=\\'depth2\\'><li class=\\'top_menu_sub\\'><a focus-id=\\'9ed7b010109c1de36b5de10c97d34136\\' href=\\'/list/basketball\\'>농구</a></li><li class=\\'top_menu_sub\\'><a focus-id=\\'6a6a5c4517c81702781d78c08c9b9074\\' href=\\'/list/match\\'>승부</a></li><li class=\\'top_menu_sub\\'><a focus-id=\\'d8838f3b2d755a52045de91339b1cae3\\' href=\\'/list/baseball\\'>야구</a></li><li class=\\'top_menu_sub\\'><a focus-id=\\'21d976c34191971d8999c7a0872b6343\\' href=\\'/list/football\\'>축구</a></li><li class=\\'top_menu_sub\\'><a focus-id=\\'cde76d60cd8d30f34284592e3e8be8db\\' href=\\'/list/health\\'>헬스</a></li></ul></li><li><a href=\\'/si/game\\'>게임</a><ul class=\\'depth2\\'><li class=\\'top_menu_sub\\'><a focus-id=\\'e1933061252defadd5f95f02163d342d\\' href=\\'/list/gameall\\'>게임</a></li><li class=\\'top_menu_sub\\'><a focus-id=\\'334710c0a6665e0515d463c5be6739ad\\' href=\\'/list/smartgame\\'>모바일게임</a></li><li class=\\'top_menu_sub\\'><a focus-id=\\'95b8280e7cf1dd61990ffdc433dcb188\\' href=\\'/list/oldgame\\'>지난게임</a></li><li class=\\'top_menu_sub\\'><a focus-id=\\'01922941eb4d726fc9b5b6b52e9207d0\\' href=\\'/list/lol\\'>LoL</a></li><li class=\\'top_menu_sub\\'><a focus-id=\\'412fcbd1dc0b88c524b0165cde44e521\\' href=\\'/list/df\\'>던전앤파이터</a></li><li class=\\'top_menu_sub\\'><a focus-id=\\'2d6c996d4ed871a7af84b1273b815362\\' href=\\'/list/rhythm\\'>리듬게임</a></li><li class=\\'top_menu_sub\\'><a focus-id=\\'300b7d87a0442c19d1272c82ae4734e7\\' href=\\'/list/maplestory\\'>메이플스토리</a></li><li class=\\'top_menu_sub\\'><a focus-id=\\'ee3b879c64f67492944a81514f952899\\' href=\\'/list/battlegrounds\\'>배틀그라운드</a></li><li class=\\'top_menu_sub\\'><a focus-id=\\'cb8ee31d8076726e21c208dc2df4086b\\' href=\\'/list/skyrim\\'>베데스다</a></li><li class=\\'top_menu_sub\\'><a focus-id=\\'e5c5c1696bd2e94bc87809a5c76a5792\\' href=\\'/list/diablo3\\'>블리자드</a></li><li class=\\'top_menu_sub\\'><a focus-id=\\'2fed998666c356cdb256ef2f16a1e75d\\' href=\\'/list/wot\\'>워게이밍넷</a></li></ul></li><li><a href=\\'/si/economy\\'>경제</a><ul class=\\'depth2\\'><li class=\\'top_menu_sub\\'><a focus-id=\\'fb6a7c7af2ee724107c88a01cbf777ea\\' href=\\'/list/bitcoin\\'>가상화폐</a></li><li class=\\'top_menu_sub\\'><a focus-id=\\'1e1eac09302e4bfb0c6bd21a45361d88\\' href=\\'/list/investment\\'>부동산</a></li><li class=\\'top_menu_sub\\'><a focus-id=\\'771cfe59c659670e8f0cac6d2ed81739\\' href=\\'/list/stock\\'>주식</a></li><li class=\\'top_menu_sub\\'><a focus-id=\\'e6529cb52d9fb88c34dbc6e2e2088133\\' href=\\'/list/futures\\'>해외선물</a></li></ul></li></ul>\\r\\n<script>\\r\\n$(function(){\\r\\n\\tvar link=location.pathname;\\r\\n\\t\\t\\t\\t\\r\\n\\t$(\".top_menu_sub\").each(function(){\\r\\n\\t\\tvar obj=$(this);\\r\\n\\t\\tif($(this).find(\"a\").attr(\"focus-id\")==\"3c6b5f43ce232bec0fee8c4bfd1dcba3\"){\\r\\n\\t\\t\\tobj.addClass(\"on\");\\r\\n\\t\\t\\t\\t\\r\\n\\t\\t}\\r\\n\\t});\\r\\n});\\r\\n</script>\\r\\n\\t\\t\\t<ul class=\"side-list drop-menu\">\\r\\n\\t\\t\\t\\t<li class=\"btn-pulldown\"><a href=\"javascript:;\" >전체메뉴<span class=\"ico-menu-drop\"></span></a></li>\\r\\n\\t\\t\\t\\t\\t\\t\\t<li>\\r\\n\\t\\t\\t\\t\\t<a href=\"/list/notice\">공지</a>\\r\\n\\t\\t\\t\\t\\t<ul class=\"depth2\">\\r\\n\\t\\t\\t\\t\\t\\t<li><a href=\"/list/notice\">공지</a></li>\\r\\n\\t\\t\\t\\t\\t\\t<li><a href=\"/list/suggestion\">문의 (구. 건게)</a></li>\\r\\n\\t\\t\\t\\t\\t\\t\\t\\t\\t\\t</ul>\\r\\n\\t\\t\\t\\t</li>\\r\\n\\t\\t\\t\\t\\t\\t</ul>\\r\\n\\t\\t\\t<div id=\"pd-menu\" class=\"pulldown-wrap\">\\r\\n\\t\\t\\t\\t\\t\\t\\t\\t\\r\\n\\t\\t\\t</div>\\r\\n\\t\\t</div>\\r\\n\\t\\t<!-- //GNB -->\\r\\n\\r\\n\\t</div>\\r\\n\\t<!-- //header -->\\r\\n\\r\\n\\r\\n\\r\\n\\t<!-- container -->\\r\\n\\t<div id=\"container\">\\r\\n\\t\\t\\r\\n\\t\\t<!-- 본문 -->\\r\\n\\t\\t<div id=\"content-wrap\">\\r\\n\\t\\t\\t<script src=\"/js/board/view.js?200206\"></script>\\r\\n<script src=\"/js/sns_share.js?200206\"></script>\\r\\n<script src=\"/js/ZeroClipboard.js\"></script>\\r\\n<script>\\r\\n\\r\\n\\r\\n\\twindow.commentboard=11349802435;\\r\\n\\t\\t\\t\\r\\n\\tfunction gotoPage(page){\\t\\t\\r\\n\\t\\tloadInList(11349802435, page);\\t\\t\\r\\n\\t}\\r\\n\\r\\n\\t//게시물 리스트\\r\\n\\tfunction loadInList(cIdx, page, skip){\\r\\n\\t\\tvar param=\"document_srl=\"+cIdx+(page>1 ? \"&page=\"+page : \"\");\\r\\n\\t\\tparam=param+\"\";\\r\\n\\t\\t$.get(\"/listinview/jjal?\"+param,function(res){\\t\\t\\r\\n\\t\\t\\t$(\".board-list\").html(res);\\t\\r\\n\\t\\t\\tif(skip)return;\\r\\n\\t\\t\\tvar st=$(\".board-list\").offset().top-10 ;\\r\\n\\t\\t\\t$(\\'html,body\\').animate({scrollTop:st},300);\\t\\r\\n\\t\\t}).fail(function(){\\r\\n\\t\\t\\t\\r\\n\\t\\t});\\r\\n\\t\\t\\r\\n\\t}\\r\\n\\r\\n\\r\\n\\r\\n\\tfunction modform(pageNum){\\r\\n\\t\\tlocation.href=\"/modform/11349802435?\";\\r\\n\\t}\\r\\n\\t\\r\\n</script>\\r\\n\\r\\n\\r\\n\\r\\n\\t\\t\\r\\n<div class=\"board-wrap\">\\r\\n\\r\\n\\t<div class=\"board-top\">\\r\\n\\t\\t<div class=\"write-num\">글 수 <strong></strong></div>\\r\\n\\t</div>\\r\\n\\t<div class=\"top-banner\">\\r\\n\\t\\t<script>\\r\\n           (function(){var b=!1,c=\"//www.mediacategory.com/servlet/adBanner?from=\"+escape(document.referrer)+\"&s=21181&iwh=728_90&igb=60&cntad=3&cntsr=3\",d=function(){b=!0;document.getElementById(\"mobonDivBanner_21181\").innerHTML=\"<iframe name=\\'ifrad\\' width=\\'728\\' height=\\'90\\' id=\\'mobonIframe_21181\\' src=\\'\"+c+\"\\' frameBorder=\\'0\\' marginWidth=\\'0\\' marginHeight=\\'0\\' scrolling=\\'no\\' ></iframe>\"};try{document.write(\"<div id=\\'mobonDivBanner_21181\\'></div>\");var e=setTimeout(d,1E3),f=document.getElementsByTagName(\"head\").item(0),\\r\\n           a=document.createElement(\"script\");a.src=\"//cdn.megadata.co.kr/js/media/1.1/MBSHandler.js\";a.type=\"text/javascript\";a.async?a.async=!0:a.defer=!0;a.onload=function(){!0!==b&&(clearTimeout(e),enlipleMBSHandler(enlipleMBSHandler.getProductTypeCode(\"banner\"),enlipleMBSHandler.getWebCode(),21181).createBanner(c,\"728\",\"90\"))};f.appendChild(a)}catch(g){d()}})();\\r\\n        </script>\\r\\n\\t</div>\\r\\n\\t<div class=\"board-view\">\\r\\n\\t\\t<div class=\"board-header\">\\r\\n\\t\\t\\t\\t\\t<h2><a href=\"/list/jjal\">짤방-유머게시판</a><span class=\"ico-bookmark\" data-mid=\"jjal\" data-name=\"짤방-유머게시판\" onclick=\"bookmark(this)\"></span></h2>\\r\\n\\t\\t\\t\\t\\t<div class=\"board-util\">\\r\\n\\t\\t\\t\\t<a id=\\'btn_goto_list\\' href=\"/list/jjal\" class=\"btn-default\"><span>목록</span></a>\\r\\n\\t\\t\\t\\t\\r\\n\\t\\t\\t</div>\\r\\n\\t\\t</div>\\r\\n\\r\\n\\t\\t<div class=\"post-wrap\">\\r\\n\\t\\t\\t<div class=\"post-header\">\\r\\n\\t\\t\\t\\t<h3><a href=\"javascript:;\" onclick=\"location.reload();\"  >이준석 국힘 당대표이후 다음 대선 예상</a> <span id=\"sp_count\"></span></h3>\\r\\n\\t\\t\\t\\t\\r\\n\\t\\t\\t\\t<span class=\"global-nick nick\"><img src=\"/img/9.gif\" alt=\"\" /><a href=\"javascript:;\" onclick=\"userpopmenu(\\'7a6c5463712b6a72517231566747654d6a56693756417054434c347236433636533030332b79506674654d575744363546544574436b3250396149484c723359336833415679693844336c44304a2b724a6f627569773d3d\\')\" title=\"포인트 : 8,341, 잉여력 61%\">무현이네고무통</a></span>\\r\\n\\t\\t\\t\\t\\r\\n\\t\\t\\t</div>\\r\\n\\r\\n\\t\\t\\t<div class=\"post-count\">\\r\\n\\t\\t\\t\\t<div class=\"copy\"><a href=\"/view/11349802435\" >http://www.ilbe.com/view/11349802435</a><button class=\"btn-default btn-small\" id=\"copy-button\" data-clipboard-text=\"http://www.ilbe.com/view/11349802435\"><span>복사하기</span></button></div>\\r\\n\\t\\t\\t\\t<div class=\"count\">\\r\\n\\t\\t\\t\\t\\t<span class=\"comment-num\"><a><img src=\"/img/iconReply.gif\" alt=\"\" />0</a></span>\\r\\n\\t\\t\\t\\t\\t<span class=\"date\"><img src=\"/img/icon_clock.png\" alt=\"\" />2021-06-20 <em>18:00:24</em></span>\\r\\n\\t\\t\\t\\t</div>\\r\\n\\t\\t\\t</div>\\r\\n\\t\\t\\t\\t\\t\\t\\t\\t<div class=\"post-content\">\\r\\n\\t\\t\\t\\r\\n\\t\\t\\t\\t<img class=\"-up-content -lazy-image\" alt=\"\" org-width=\"720\" org-height=\"651\" src=\"/img/transparent.gif\" data=\"https://ncache.ilbe.com/files/attach/new/20210620/377678/6465042425/11349802435/5cb136042da7d00f3bdcc10cb9a90098_11349803583.jpg\"><br><br><br><br>1. 김무성 유승민계 아바타가 당대표<br><br>2. 대선 승리 하면 좋지만 지들 계파가 국회의원 의석 더 먹는게 더 중요<br><br>3. 대통령제 폐지 의원내각제가 꿈. (지들이 평생 해먹게)<br><br>4. 유석렬 안철수 거기다 김무성 유승민계 후보랑 대선후보 누가 되냐 개싸움.<br><br>5. 지들이 미는 후보가 안될 바에야 더불당이랑 딜 쳐서 대선 내주고 대신 지들 자리보존하는걸 더 선호<br><br>6. 결국 국힘당은 대선후보 결정에서 쑥대밭되고 민주당이 어부지리 로가져갈 가능성 큼<br><br><br><br><br>국가 디폴트 각오하고 젤 확실힌건 미국 달러 가지고 있는거다 게이들아.<br><br><br><br>&nbsp;\\t\\t\\r\\n\\t\\t\\t</div>\\r\\n\\t\\t\\t\\t\\t\\t\\t<div class=\"vote-wrap\">\\r\\n\\t\\t\\t\\t<button id=\"btn_vote_up\" data=\"11349802435\" class=\"btn-vote good\"><span class=\"btn__ico\"></span><span class=\"btn__txt\">일베로<em class=\"color-ibred\">1</em></span></button>\\r\\n\\t\\t\\t\\t<button id=\"btn_vote_down\" data=\"11349802435\" class=\"btn-vote notgood\"><span class=\"btn__ico\"></span><span class=\"btn__txt\">민주화</span></button>\\r\\n\\t\\t\\t</div>\\r\\n\\t\\t\\t\\r\\n\\t\\t\\t\\r\\n\\r\\n\\t\\t\\t<div class=\"sns-wrap\">\\r\\n\\t\\t\\t\\t<span><a href=\"javascript:;\" onclick=\"docmenu(11349802435,\\'이준석 국힘 당대표이후 다음 대선 예상\\')\" class=\"print\">이 게시물을...<span></span></a></span>\\r\\n\\t\\t\\t\\t<a href=\"javascript:;\" onclick=\"addScrap(11349802435);\" class=\"scrap\">스크랩</a>\\r\\n\\t\\t\\t\\t\\r\\n\\t\\t\\t\\t<a href=\"javascript:;\" class=\"facebook\" title=\"페이스북에 공유하기\" onclick=\"share_facebook(\\'https%3A%2F%2Fwww.ilbe.com%2Fview%2F11349802435\\');\"></a>\\r\\n                \\t<a href=\"javascript:;\" class=\"band\" title=\"네이버 밴드에 공유하기\" onclick=\"share_band(\\'%EC%9D%B4%EC%A4%80%EC%84%9D+%EA%B5%AD%ED%9E%98+%EB%8B%B9%EB%8C%80%ED%91%9C%EC%9D%B4%ED%9B%84+%EB%8B%A4%EC%9D%8C+%EB%8C%80%EC%84%A0+%EC%98%88%EC%83%81\\',\\'https%3A%2F%2Fwww.ilbe.com%2Fview%2F11349802435\\')\"></a>\\t                \\t\\r\\n                \\t<a href=\"javascript:;\" class=\"kakao\" title=\"카카오스토리에 공유하기\" onclick=\"share_kakao_story(\\'%EC%9D%B4%EC%A4%80%EC%84%9D+%EA%B5%AD%ED%9E%98+%EB%8B%B9%EB%8C%80%ED%91%9C%EC%9D%B4%ED%9B%84+%EB%8B%A4%EC%9D%8C+%EB%8C%80%EC%84%A0+%EC%98%88%EC%83%81\\',\\'https%3A%2F%2Fwww.ilbe.com%2Fview%2F11349802435\\')\"></a>\\r\\n                \\t<a href=\"javascript:;\" class=\"twiter\" title=\"트위터에 공유하기\" onclick=\"share_twitter(\\'%EC%9D%B4%EC%A4%80%EC%84%9D+%EA%B5%AD%ED%9E%98+%EB%8B%B9%EB%8C%80%ED%91%9C%EC%9D%B4%ED%9B%84+%EB%8B%A4%EC%9D%8C+%EB%8C%80%EC%84%A0+%EC%98%88%EC%83%81\\',\\'https%3A%2F%2Fwww.ilbe.com%2Fview%2F11349802435\\');\"></a>\\r\\n                \\t<a href=\"javascript:prompt(\\'아래 주소를 복사해주세요.\\', \\'https://www.ilbe.com/view/11349802435\\');void(0);\" title=\"링크 복사하기\" id=\"copy-button\" data-clipboard-text=\"https://www.ilbe.com/view/11349802435\" class=\"url\" title=\"url\"></a>\\r\\n\\t\\t\\t</div>\\r\\n\\t\\t\\t\\r\\n\\t\\t\\t<div class=\"cutin-banner\" id=\"middle-banner\" style=\"margin:5px 0\">\\r\\n\\t\\t\\t\\t\\t\\t</div>\\r\\n\\t\\t\\t\\r\\n\\t\\t\\t\\t\\t<div class=\"attached-file\">\\r\\n\\t\\t\\t\\t<ul>\\t\\t\\r\\n\\t\\t\\t\\t\\t\\t\\t<li><a href=\"/file/download/11349803583\" target=\"_blank\">8d8251dd0bdf0f7719e631277bea2c31.jpg (69.8KB)(1)</a>\\r\\n\\t\\t\\t\\t\\t\\t\\t\\t</li>\\r\\n\\t\\t\\t\\t\\t\\t\\t\\t\\t\\r\\n\\t\\t\\r\\n\\t\\t\\t\\t</ul>\\r\\n\\t\\t\\t</div>\\r\\n\\t\\t\\t\\t\\t<div class=\"btn-post\">\\r\\n\\t\\t\\t\\r\\n\\t\\t\\t\\t<div class=\"btn-post-left\">\\r\\n\\t\\t\\t\\t\\t<a class=\"btn-default hide accesskey_97\" id=\"prev_document\" accesskey=\"a\"><span class=\"btn-prev\">이전글</span></a>\\r\\n\\t\\t\\t\\t\\t<a class=\"btn-default hide accesskey_122\" id=\"next_document\" accesskey=\"z\"><span class=\"btn-next\">다음글</span></a>\\r\\n\\t\\t\\t\\t</div>\\r\\n\\t\\t\\t\\t\\r\\n\\t\\t\\t\\t<div class=\"btn-post-right\">\\r\\n\\t\\t\\t\\t\\t\\t\\t\\t<span><a href=\"/list/jjal\" class=\"btn-default\"><span>목록</span></a></span>\\r\\n\\t\\t\\t\\t\\t\\t\\t\\t\\r\\n\\t\\t\\t\\t\\t\\t\\t\\t\\r\\n\\t\\t\\t\\r\\n\\t\\t\\t\\t\\t\\t\\t</div>\\r\\n\\t\\t\\t</div>\\r\\n\\t\\t</div>\\r\\n\\r\\n\\t\\t<div class=\"post-comment-wrap\">\\r\\n\\t\\t\\t\\r\\n\\t\\t\\t<div class=\"comment-group\" id=\"comment_wrap_in\">\\r\\n\\t\\t\\t</div>\\r\\n\\t\\t</div>\\r\\n\\t\\t\\r\\n\\t\\t\\r\\n\\r\\n\\t\\t<div class=\"cutin-banner\">\\r\\n\\t\\t\\t<div id=\"538746318_view3_a00000011\" style=\"width: 100%; height: 90px; margin: 0 auto; padding: 0;\">\\t\\t\\t\\t\\r\\n\\t\\t\\t\\t<script>loadOpenx(\"538746318_view3_a00000011\");</script>\\r\\n\\t\\t\\t</div>\\r\\n\\t\\t</div>\\r\\n\\r\\n\\t</div>\\r\\n\\r\\n\\t<div class=\"board-list\">\\t\\t\\t\\t\\r\\n\\t\\t\\r\\n\\t</div>\\r\\n\\r\\n</div>\\r\\n<link rel=\"stylesheet\" href=\"/js/swiper/swiper.min.css\">\\r\\n<style>\\r\\n.swiper-pagination-bullet {\\r\\n      width: 30px;\\r\\n      height: 30px;\\r\\n      text-align: center;\\r\\n      line-height: 30px;\\r\\n      font-size: 12px;\\r\\n      color:#555;\\r\\n      font-weight:bold;\\r\\n      opacity: 1;\\r\\n      background: rgba(0,0,0,0.2);\\r\\n    }\\r\\n    .swiper-pagination-bullet-active {\\r\\n      color:#fff;\\r\\n      background: #007aff;\\r\\n    }\\r\\n    .swiper-pagination{\\r\\n    \\tbackground:rgba(255,255,255,.5);\\r\\n    \\tpadding:10px 0;\\r\\n    \\tposition:fixed;\\r\\n    \\tbottom:10px;\\r\\n    \\t\\r\\n    }\\r\\n</style>\\r\\n<script src=\"/js/swiper/swiper.min.js\"></script>\\r\\n<script>\\r\\n\\r\\n/*for pagination*/\\r\\nfunction loadComment(page,skip){\\r\\n\\tloadCommentList(page,11349802435,skip);\\r\\n}\\r\\nclipBoard();\\r\\n\\r\\n\\r\\n\\t  \\r\\n    \\t\\t\\r\\n\\t\\tloadCommentList(0,11349802435,\"TOP\");\\r\\n\\t\\tloadInList(11349802435,1,true);\\r\\n    \\t\\r\\n\\r\\n\\r\\n\\r\\nfunction loadImage(){\\r\\n\\t$(\".-lazy-image\").each(function(){\\r\\n\\t\\tif($(this).attr(\"loading\")!=\"on\"){\\r\\n\\t\\t\\tvar winHeight=$(window).height();\\r\\n\\t\\t\\tvar scrollTop=$(window).scrollTop();\\t\\t\\t\\r\\n\\t\\t\\tvar pos=$(this).offset();\\r\\n\\t\\t\\tvar height=$(this).height();\\r\\n\\t\\t\\tif( (scrollTop <=pos.top && winHeight+scrollTop >=pos.top) || \\r\\n\\t\\t\\t\\t\\t(scrollTop <=pos.top+height && winHeight+scrollTop >=pos.top+height) ){\\t\\t\\t\\t\\r\\n\\t\\t\\t\\t$(this).attr(\"src\",$(this).attr(\"data\")).attr(\"loading\",\"on\");\\r\\n\\t\\t\\t//\\t$(this).css(\"background\",\"\");\\t\\r\\n\\t\\t\\t\\t\\t\\t\\t\\t\\t\\r\\n\\t\\t\\t}\\r\\n\\t\\t}\\r\\n\\t});\\r\\n}\\r\\nfunction removeLazyLoading(img){\\r\\n\\t\\r\\n\\t$(img).css(\"background\",\"\").removeAttr(\"onload\").removeAttr(\"onerror\");\\r\\n\\t\\r\\n}\\r\\n\\r\\nfunction lazyError(img){\\r\\n\\tremoveLazyLoading(img);\\r\\n\\t$(img).attr(\"src\",\"/img/ib_noimg1.jpg\").removeAttr(\"width\").removeAttr(\"height\");\\r\\n}\\r\\n\\r\\nfunction resizeVideo(){\\r\\n\\tvar $allVideos = $(\".post-content iframe\");\\t\\r\\n\\tvar $fluidEl = $(\".post-content\");\\t\\r\\n\\t$allVideos.each(function() {\\r\\n\\t\\tvar obj=$(this);\\t\\t\\r\\n\\t\\tvar w=this.width;\\r\\n\\t\\tvar h=this.height;\\r\\n\\r\\n\\t\\tvar ratio=h/w;\\r\\n\\t\\tvar parentWidth=$($fluidEl).width();\\r\\n\\t\\tvar multi=parentWidth/w;\\r\\n\\t\\tif(multi>=1)return;\\r\\n\\t\\t\\r\\n\\t\\tvar w=w*multi;\\r\\n\\t\\tvar h=h*multi;\\r\\n\\t\\t\\r\\n\\t\\t\\r\\n\\t\\t$(this).data(\\'aspectRatio\\', this.height / this.width)// and remove the hard coded width/height\\t\\t\\r\\n\\t\\t.attr(\"width\",w)\\r\\n\\t\\t.attr(\"height\",h);\\t\\t\\r\\n\\t});\\r\\n}\\r\\n\\r\\n\\r\\n$(\".-lazy-image\").each(function(i){\\r\\n\\tvar $img=$(this);\\r\\n\\t$img.attr(\"title\",\"원본확인 클릭\");\\r\\n\\t$img.css(\"cursor\",\"pointer\");\\r\\n\\t/*\\r\\n\\tif(i<3){\\r\\n\\t\\t$img.attr(\"onload\",\"removeLazyLoading(this)\");\\r\\n\\t\\t$img.attr(\"onerror\",\"lazyError(this)\");\\t\\t\\t\\r\\n\\t\\t$img.css(\\'background\\', \\'url(/img/loading.gif) no-repeat 50% 50%\\');\\r\\n\\t\\t$img.attr(\"src\",$(this).attr(\"data\")).attr(\"loading\",\"on\");\\r\\n\\t}else{\\r\\n\\t\\t$img.attr(\"onload\",\"removeLazyLoading(this)\");\\r\\n\\t\\t$img.attr(\"onerror\",\"lazyError(this)\");\\t\\t\\t\\r\\n\\t\\t$img.css(\\'background\\', \\'url(/img/loading.gif) no-repeat 50% 50%\\');\\r\\n\\t}*/\\r\\n\\tif(!$img.attr(\"width\") && $img.attr(\"org-width\")){\\r\\n\\t\\t$img.attr(\"width\",$img.attr(\"org-width\"));\\r\\n\\t}\\r\\n\\tif(!$img.attr(\"height\") && $img.attr(\"org-height\")){\\r\\n\\t\\t$img.attr(\"height\",$img.attr(\"org-height\"));\\r\\n\\t}\\r\\n\\t$img.attr(\"onload\",\"removeLazyLoading(this)\");\\r\\n\\t$img.attr(\"onerror\",\"lazyError(this)\");\\t\\t\\t\\r\\n\\t$img.css(\\'background\\', \\'url(/img/loading.gif) no-repeat 50% 50%\\');\\r\\n\\t$img.attr(\"src\",$(this).attr(\"data\")).attr(\"loading\",\"on\");\\r\\n\\t\\r\\n});\\r\\n\\r\\nvar hideAnim=false;\\r\\nfunction hideImageShow(){\\r\\n\\tif(hideAnim)return;\\r\\n\\thideAnim=true;\\r\\n\\t$(\"#close_wrap\").remove();\\r\\n\\t\\r\\n\\t$(\"#_image_view_wrap\").animate(\\r\\n\\t\\t{ left: \"-100%\"}, \\r\\n\\t\\t400,\\r\\n\\t\\tfunction(){\\r\\n\\t\\t\\t$(\"#_image_view_wrap\").remove();\\r\\n\\t\\t\\t$(\\'body\\').css({\\r\\n                overflow: \\'auto\\',\\r\\n                height: \\'auto\\'\\r\\n            });\\r\\n\\t\\t\\thideAnim=false;\\r\\n\\t\\t}\\r\\n\\t);\\r\\n}\\r\\nwindow.onpopstate = function(e) { \\r\\n\\thideImageShow();\\r\\n};\\r\\n\\t\\r\\n\\t\\r\\n$(\".post-content .-lazy-image\").on(\"click\", function() {\\r\\n\\thistory.pushState(null, \"원본보기\", \"\");\\r\\n\\tvar $clickImg=$(this);\\r\\n\\tvar windHeight=$(window).height();\\r\\n\\tvar topData=$(window).scrollTop();\\r\\n\\tvar $wrap=$(\"<div id=\\'_image_view_wrap\\' class=\\'swiper-container\\' style=\\'overflow:auto;width:100%;height:100%;background:rgba(0,0,0,.95);position:absolute;top:\"+topData+\"px;left:0;z-index:9000\\'><div class=\\'swiper-wrapper\\'></div><div class=\\'swiper-pagination\\'></div><div class=\\'swiper-button-next\\'></div><div class=\\'swiper-button-prev\\'></div></div>\");\\r\\n\\tvar index=0;\\r\\n\\t$(\\'body\\').css({\\r\\n\\t\\t    overflow: \\'hidden\\',\\r\\n\\t\\t    height: \\'100%\\'\\r\\n\\t});\\r\\n        \\r\\n\\t$(\".post-content .-lazy-image\").each(function(i){\\r\\n\\t\\tif($(this).attr(\"src\")==\"/img/ib_noimg1.jpg\")return;\\r\\n\\t\\tvar $src=$(this).attr(\"data\");\\r\\n\\t\\tif(!$src)$src=$(this).attr(\"src\");\\r\\n    \\tvar $img=\"<div class=\\'swiper-slide\\' style=\\'text-align:center;line-height:\"+windHeight+\"px\\'><img src=\\'\"+$src+\"\\' style=\\'vertical-align:middle\\'></div>\";\\r\\n\\t\\t$wrap.find(\".swiper-wrapper\").append($img);\\r\\n\\t\\tif($clickImg.attr(\"data\")==$(this).attr(\"data\")){\\r\\n    \\t\\tindex=i;\\r\\n    \\t}\\r\\n\\t});\\r\\n\\tvar $buttonWrap=$(\"<div id=\\'close_wrap\\' style=\\'position:absolute;top:\"+topData+\"px;left:0;z-index:9001;width:100%;height:40px\\'><button style=\\'float:right;margin:25px;width:60px;line-height:30px;border:1px solid #fff;background:rgba(0,0,0,0.7);color:#fff;border-radius:4px\\' onclick=\\'hideImageShow();history.back()\\'>닫기</button></div>\");\\r\\n\\t$(\"body\").append($wrap);\\r\\n\\t$(\"body\").append($buttonWrap);\\r\\n\\tvar swiper = new Swiper(\\'#_image_view_wrap\\', {\\r\\n\\t\\t\\tpagination: {\\r\\n\\t\\t        el: \\'.swiper-pagination\\',\\r\\n\\t\\t        clickable: true,\\r\\n\\t\\t        renderBullet: function (index, className) {\\r\\n\\t\\t          return \\'<span class=\"\\' + className + \\'\">\\' + (index + 1) + \\'</span>\\';\\r\\n\\t\\t        },\\r\\n\\t\\t\\t},\\r\\n\\t        navigation: {\\r\\n\\t\\t\\t\\tnextEl: \\'.swiper-button-next\\',\\r\\n\\t\\t\\t    prevEl: \\'.swiper-button-prev\\',\\r\\n\\t\\t\\t},\\r\\n\\t\\t}\\r\\n\\t);\\r\\n\\tswiper.slideTo(index);\\r\\n});\\r\\n\\r\\nloadImage();\\r\\nresizeVideo();\\r\\n$(window).on(\"scroll\",loadImage);\\r\\n$(window).on(\"resize\",resizeVideo);\\r\\n\\r\\n\\t\\r\\n\\r\\n</script>\\r\\n\\r\\n\\t\\t\\t\\r\\n\\t\\t\\t<!--<div class=\"widget cutin-banner js-genieessp-com\"></div>-->\\r\\n\\t\\t\\t\\r\\n\\t\\t</div>\\r\\n\\t\\t\\r\\n\\t\\t<!-- //본문 -->\\r\\n\\r\\n\\t\\t<!-- aside -->\\r\\n\\t\\t<div id=\"aside-wrap\">\\r\\n\\t\\t\\t<div id=\"event-notice\" class=\"event-wrap\">\\r\\n\\t\\t\\t\\t<div class=\"event-header\">\\r\\n                \\t<h3>새로운 알림<span class=\\'notify-count\\'></span></h3>\\r\\n                \\t<div class=\"btn-set\"><button class=\"event-delete\" onclick=\"deleteNotiAll()\" title=\"알림 전체 삭제\">전체삭제</button><button class=\"event-close\" onclick=\"hideNotifyList()\">닫기</button></div>\\r\\n                </div>\\r\\n                <div class=\"event-container\" id=\"notice_list_wrap\">\\r\\n                \\t<ul id=\"notify_list\">                \\t\\r\\n                \\t</ul>\\r\\n                </div>\\r\\n                \\r\\n\\t\\t\\t</div>\\r\\n\\t\\t\\t<div id=\"rightside\">\\r\\n\\t\\t\\t\\t<script>\\r\\n\\t\\t\\t\\t\\r\\n\\t\\t\\t\\t\\t$.get(\"/rightside?bid=jjal\",function(res){\\r\\n\\t\\t\\t\\t\\t\\t$(\"#rightside\").html(res);\\r\\n\\t\\t\\t\\t\\t});\\r\\n\\t\\t\\t\\t\\r\\n\\t\\t\\t\\t</script>\\r\\n\\t\\t\\t</div>\\r\\n\\t\\t</div>\\r\\n\\t\\t<!-- //aside -->\\r\\n\\r\\n\\t\\t<!-- sky banner -->\\r\\n\\t\\t<div style=\"position: fixed; top: 15px; left: 50%; margin-left: -720px;\">\\r\\n\\t\\t\\t<div style=\"margin-left:40px\"><img src=\"/img/bebe2.png\"></div>\\r\\n\\t\\t\\t<div class=\"tmonsori_1 date\" >6월 20일 (일)</div>\\r\\n\\t\\t\\t<div class=\"tmonsori_1 day\" ></div>\\r\\n\\t\\t</div>\\r\\n\\t\\t<div id=\"sky-banner-wrap\" class=\"skyprint\">\\r\\n\\t\\t<script>\\r\\n\\t\\t\\tvar bannerSky=new IBA(\".skyprint\",\"ad_ilbe\");\\r\\n\\t\\t\\tbannerSky.load();\\r\\n\\t\\t</script>\\t\\t\\r\\n\\t\\t</div>\\r\\n\\t\\t\\r\\n\\t\\t<!-- //sky banner -->\\r\\n\\t</div>\\r\\n\\t<!-- //container -->\\r\\n\\t\\r\\n\\r\\n\\t<!-- footer -->\\r\\n\\t<div id=\"footer\">\\r\\n\\t\\t<div class=\"footer-border\"></div>\\r\\n\\t\\t<ul class=\"footer-util\">\\r\\n\\t\\t\\t<li><a href=\"/list/notice\">공지사항</a></li>\\r\\n\\t\\t\\t<li><a href=\"/list/suggestion\">문의 및 신고</a></li>\\r\\n\\t\\t\\t<li><a href=\"/policy/terms\" target=\"_blank\">이용약관</a></li>\\r\\n\\t\\t\\t<li><a href=\"/policy/privacy\" target=\"_blank\">개인정보취급방침</a></li>\\r\\n\\t\\t\\t<li><a href=\"/policy/youth\" target=\"_blank\">청소년보호정책</a></li>\\r\\n\\t\\t\\t<li><a href=\"/view/4810992\">게시물 삭제요청방법</a></li>\\r\\n\\t\\t\\t<li><a href=\"http://ad.ilbe.com\">광고문의</a></li>\\r\\n\\t\\t\\t\\t</ul>\\r\\n\\t\\t<div class=\"address\">업체및기관 : <a href=\"mainto:webmaster@ilbe.com\"><span class=\"__cf_email__\" data-cfemail=\"433426212e2230372631032a2f21266d202c2e\">[email&#160;protected]</span></a><span class=\"bar\"></span>개인 : <a href=\"mainto:customer@ilbe.com\"><span class=\"__cf_email__\" data-cfemail=\"ccafb9bfb8a3a1a9be8ca5a0aea9e2afa3a1\">[email&#160;protected]</span></a></div>\\r\\n\\t\\t<div class=\"copyright\">Copyright© www.ilbe.com</div>\\r\\n\\t</div>\\r\\n\\t<!-- //footer -->\\r\\n</div>\\r\\n<!-- //wrap -->\\r\\n\\r\\n\\r\\n<script data-cfasync=\"false\" src=\"/cdn-cgi/scripts/5c5dd728/cloudflare-static/email-decode.min.js\"></script><script>\\r\\n\\r\\nwindow.deny_notify = false;window.deny_notify_ilbe = false;window.deny_notify_comment = false;\\r\\nws=new WebSocket(\"wss://notify2.ilbe.com\");\\r\\nws.onopen = function()\\r\\n{\\r\\n\\tws.send(\\'A|GUEST|38d4e5717774fb55f8d891e0b4ce0a06\\');\\nws.send(\\'J|11349802435|ed47057c6f705b2162a9c048926acf32\\');\\nws.send(\\'J|jjal|a00e9de2c1b5b5bcf8908ef907f294bf\\');;\\r\\n\\t\\r\\n}\\r\\n\\r\\nws.onmessage = function(message)\\r\\n{\\r\\n\\tif(message.data.charAt(0) == \\'O\\')\\r\\n\\t{\\r\\n\\t\\tws.send(\\'O|O\\');\\r\\n\\t}\\r\\n\\r\\n\\telse if(message.data.charAt(0) == \\'A\\')\\r\\n\\t{\\r\\n\\t\\t\\r\\n\\t}\\r\\n\\telse if(message.data.charAt(0) == \\'S\\')\\r\\n\\t{\\r\\n\\t\\t\\r\\n\\t\\tvar str=message.data.substring(2);\\r\\n\\t\\tvar data=JSON.parse(str);\\r\\n\\t\\tswitch(data.type){\\r\\n\\t\\tcase \"ib\": //jjal -> ilbe\\r\\n\\t\\t\\tbreak;\\r\\n\\t\\tcase \"memo\": //관리자 쪽지\\r\\n\\t\\t\\tToast.show(data.msg,{modal:true});\\r\\n\\t\\t\\t$.get(\"/member/confirmmemo?seq=\"+data.seq,function(){});\\r\\n\\t\\t\\tbreak;\\r\\n\\t\\tcase \"comment\": //댓글 달림\\r\\n\\t\\t\\tif(!window.deny_notify_comment){\\r\\n\\t\\t\\t\\tvar comment=\"<div class=\\'toast comment\\'><span class=\\'toast-bullet\\'></span><a href=\\'\"+data.url+\"\\'>\"+data.comment+\"</a><button class=\\'toast-close\\'><span></span></button></div>\";\\r\\n\\t\\t\\t\\tshowNotify(comment);\\r\\n\\t\\t\\t}\\r\\n\\t\\t\\tbreak;\\r\\n\\t\\tcase \"vote\": // 추천/비추\\r\\n\\t\\t\\tif(data.vote>0){\\r\\n\\t\\t\\t\\tvar oldVote=parseInt($(\"#btn_vote_up\").find(\"em\").text());\\r\\n\\t\\t\\t\\tif(data.vote>oldVote){\\r\\n\\t\\t\\t\\t\\t$(\"#btn_vote_up\").find(\"em\").text(data.vote);\\r\\n\\t\\t\\t\\t}\\t\\t\\t\\t\\r\\n\\t\\t\\t}else{\\r\\n\\t\\t\\t\\tvar oldVote=parseInt($(\"#btn_vote_down\").find(\"em\").text());\\r\\n\\t\\t\\t\\tif(data.vote<oldVote){\\r\\n\\t\\t\\t\\t\\t$(\"#btn_vote_down\").find(\"em\").text(data.vote);\\r\\n\\t\\t\\t\\t}\\t\\t\\t\\t\\r\\n\\t\\t\\t}\\r\\n\\t\\t\\tbreak;\\r\\n\\t\\tcase \"comment-add\"://새로운 댓글 보기\\r\\n\\t\\t\\tvar commentCount=parseInt($(\".comment-refresh\").find(\"em\").text());\\r\\n\\t\\t\\t$(\".comment-refresh\").removeClass(\"hide\").find(\"em\").text(commentCount+1);\\r\\n\\t\\t\\tbreak;\\r\\n\\t\\tcase \"ilbe\":\\r\\n\\r\\n\\t\\t\\tif(!window.deny_notify_ilbe){\\r\\n\\t\\t\\t\\tvar comment=\"<div class=\\'toast ilbe\\'><span class=\\'toast-bullet\\'></span><a href=\\'\"+data.url+\"\\'>\"+data.title+\"</a><button class=\\'toast-close\\'><span></span></button></div>\";\\r\\n\\t\\t\\t\\tshowNotify(comment);\\r\\n\\t\\t\\t}\\r\\n\\t\\t\\t\\r\\n\\t\\t\\tbreak;\\r\\n\\t\\t}\\r\\n\\t}\\r\\n\\telse if(message.data.charAt(0) == \\'D\\')\\r\\n\\t{\\r\\n\\t\\tnotice( message.data.substring(2), 1 );\\r\\n\\t}\\r\\n};\\r\\nws.onclose = function()\\r\\n{\\r\\n\\t\\r\\n}\\r\\n\\r\\nfunction showNotify(msg){\\t\\r\\n\\tvar obj=$(msg);\\r\\n\\t$(\"#event-toast\").prepend(obj);\\r\\n\\tsetTimeout(function(){\\r\\n\\t\\tobj.fadeOut(500,function(){if(obj)obj.remove();});\\r\\n\\t},10000);\\r\\n\\t//\\r\\n\\tobj.find(\"button\").on(\"click\",function(){\\r\\n\\t\\t$(this).off();\\r\\n\\t\\tif(obj)obj.remove();\\r\\n\\t});\\r\\n}\\r\\n\\r\\n</script>\\r\\n\\r\\n<div id=\"event-toast\"></div>\\r\\n\\r\\n<!--<div id=\"hide_banner\" style=\"margin-top:20px\"><script  src=\\'//js.genieessp.com/t/302/186/a1302186.js\\'></script></div>-->\\r\\n<!--\\r\\n<script>\\r\\n$(function(){\\r\\n\\t$(\".js-genieessp-com\").append($(\"#hide_banner\"));\\t\\r\\n});\\r\\n\\r\\n</script>\\r\\n-->\\r\\n\\r\\n</body>\\r\\n</html>'"
      ]
     },
     "execution_count": 48,
     "metadata": {},
     "output_type": "execute_result"
    }
   ],
   "source": [
    "res.text"
   ]
  },
  {
   "cell_type": "code",
   "execution_count": 17,
   "metadata": {},
   "outputs": [
    {
     "data": {
      "text/plain": [
       "['/view/11348895387/view/11348895387',\n",
       " '/view/11348893219/view/11348893219',\n",
       " '/view/11348892711/view/11348892711',\n",
       " '/view/11348891233/view/11348891233',\n",
       " '/view/11348889461/view/11348889461',\n",
       " '/view/11348889385/view/11348889385',\n",
       " '/view/11348888052/view/11348888052',\n",
       " '/view/11348885841/view/11348885841',\n",
       " '/view/11348884841/view/11348884841',\n",
       " '/view/11348880107/view/11348880107']"
      ]
     },
     "execution_count": 17,
     "metadata": {},
     "output_type": "execute_result"
    }
   ],
   "source": [
    "[''.join(i.xpath('.//a/@href')) for i in tree]"
   ]
  },
  {
   "cell_type": "code",
   "execution_count": 10,
   "metadata": {},
   "outputs": [
    {
     "data": {
      "text/plain": [
       "[('이준석 왜 이러는거임>???', '2021-06-16'),\n",
       " (\"[속보] 전광훈 '젖비린내 나는 이준석에 당하면 대한민국 끝장'\", '2021-06-15'),\n",
       " ('\"자격시험 봐야 공천\" 이준석發 \\'공정론\\' 공방 가열', '2021-06-15'),\n",
       " ('일베 실검 이준석 1위ㅋㅋㅋㅋㅋㅋㅋㅋㅋㅋㅋㅋㅋㅋㅋㅋㅋㅋ', '2021-06-15'),\n",
       " ('대깨준들이 꼭 봐야 할 사진', '2021-06-15'),\n",
       " ('이준석, 수술실 CCTV 설치 환자 편에 서야', '2021-06-15'),\n",
       " ('이준석 37세 미혼. 윤석열 50세까지미혼Hoxy....?\\xa0\\xa0\\xa0', '2021-06-15'),\n",
       " ('민대표.. 이준석 대표로 만든 투표의 부당함에 대해 도태우 후보등이 이의제기한 상황이준석을 대표로 만든 투표에 대해서는 도태우 후보 등이 이의를 제기한 상황이라서 나는 아직 이준석 청년을 대표로 인정하지 않고 있다는 사실을 우선 밝힙니다. 그 의혹이 해결된다면 ...',\n",
       "  '2021-06-15'),\n",
       " ('거지근성과 국뽕의 반일정신(이준석보다 10000000억배 대단한 개꿀승훈 유튜브)', '2021-06-15'),\n",
       " (\"이준석(조갑제)파벌의 통일정책은 '한국신화' 팔아먹는 문재앙과 다르면서 똑같은 사기극. '대동신앙'과 '자유민주주의'는 공존 불가능!! (문정권 통일정책은 실패. 이준석 쪽은 없어\",\n",
       "  '2021-06-15')]"
      ]
     },
     "execution_count": 10,
     "metadata": {},
     "output_type": "execute_result"
    }
   ],
   "source": [
    "list(zip(result, date))"
   ]
  },
  {
   "cell_type": "code",
   "execution_count": 9,
   "metadata": {},
   "outputs": [
    {
     "data": {
      "text/plain": [
       "['2021-06-19',\n",
       " '2021-06-19',\n",
       " '2021-06-19',\n",
       " '2021-06-19',\n",
       " '2021-06-19',\n",
       " '2021-06-19',\n",
       " '2021-06-19',\n",
       " '2021-06-19',\n",
       " '2021-06-19',\n",
       " '2021-06-19']"
      ]
     },
     "execution_count": 9,
     "metadata": {},
     "output_type": "execute_result"
    }
   ],
   "source": [
    "date"
   ]
  },
  {
   "cell_type": "code",
   "execution_count": 29,
   "metadata": {},
   "outputs": [],
   "source": [
    "tree = root.xpath('//div[@class=\"search-list\"]/ul/li')"
   ]
  },
  {
   "cell_type": "code",
   "execution_count": 32,
   "metadata": {},
   "outputs": [
    {
     "data": {
      "text/plain": [
       "['2021-06-17 17:47:04',\n",
       " '2021-06-17 17:43:15',\n",
       " '2021-06-17 17:36:06',\n",
       " '2021-06-17 17:30:59',\n",
       " '2021-06-17 17:22:46',\n",
       " '2021-06-17 17:21:27',\n",
       " '2021-06-17 17:05:37',\n",
       " '2021-06-17 16:59:06',\n",
       " '2021-06-17 16:50:25',\n",
       " '2021-06-17 16:44:28']"
      ]
     },
     "execution_count": 32,
     "metadata": {},
     "output_type": "execute_result"
    }
   ],
   "source": [
    "[i.xpath('.//span[@class=\"date\"]/text()')[0] for i in tree]"
   ]
  },
  {
   "cell_type": "markdown",
   "metadata": {},
   "source": [
    "# dc"
   ]
  },
  {
   "cell_type": "code",
   "execution_count": 58,
   "metadata": {},
   "outputs": [],
   "source": [
    "url = 'https://search.dcinside.com/post/p/1/sort/latest/q/.EC.9D.B4.EC.A4.80.EC.84.9D'\n",
    "res = requests.get(url)"
   ]
  },
  {
   "cell_type": "code",
   "execution_count": 59,
   "metadata": {},
   "outputs": [
    {
     "data": {
      "text/plain": [
       "<Response [200]>"
      ]
     },
     "execution_count": 59,
     "metadata": {},
     "output_type": "execute_result"
    }
   ],
   "source": [
    "res"
   ]
  },
  {
   "cell_type": "code",
   "execution_count": 60,
   "metadata": {},
   "outputs": [],
   "source": [
    "root = html.fromstring(res.text)"
   ]
  },
  {
   "cell_type": "code",
   "execution_count": 61,
   "metadata": {},
   "outputs": [],
   "source": [
    "tree = root.xpath('//ul[@class=\"sch_result_list\"]/li')"
   ]
  },
  {
   "cell_type": "code",
   "execution_count": 64,
   "metadata": {},
   "outputs": [
    {
     "data": {
      "text/plain": [
       "['https://gall.dcinside.com/mgallery/board/view/?id=newconservativeparty&no=1087387',\n",
       " 'https://gall.dcinside.com/mgallery/board/view/?id=newconservativeparty&no=1087386',\n",
       " 'https://gall.dcinside.com/mgallery/board/view/?id=newconservativeparty&no=1087385',\n",
       " 'https://gall.dcinside.com/mgallery/board/view/?id=alliescon&no=431965',\n",
       " 'https://gall.dcinside.com/mgallery/board/view/?id=newconservativeparty&no=1087348',\n",
       " 'https://gall.dcinside.com/mgallery/board/view/?id=newconservativeparty&no=1087344',\n",
       " 'https://gall.dcinside.com/mgallery/board/view/?id=youtube&no=336456',\n",
       " 'https://gall.dcinside.com/board/view/?id=drama_new3&no=1627953',\n",
       " 'https://gall.dcinside.com/mgallery/board/view/?id=newconservativeparty&no=1087333',\n",
       " 'https://gall.dcinside.com/mgallery/board/view/?id=bosu&no=4589',\n",
       " 'https://gall.dcinside.com/mgallery/board/view/?id=newconservativeparty&no=1087327',\n",
       " 'https://gall.dcinside.com/mgallery/board/view/?id=newconservativeparty&no=1087322',\n",
       " 'https://gall.dcinside.com/mgallery/board/view/?id=alliescon&no=431957',\n",
       " 'https://gall.dcinside.com/mgallery/board/view/?id=newconservativeparty&no=1087318',\n",
       " 'https://gall.dcinside.com/mgallery/board/view/?id=alliescon&no=431953',\n",
       " 'https://gall.dcinside.com/mgallery/board/view/?id=newconservativeparty&no=1087306',\n",
       " 'https://gall.dcinside.com/mgallery/board/view/?id=newconservativeparty&no=1087301',\n",
       " 'https://gall.dcinside.com/mgallery/board/view/?id=newconservativeparty&no=1087299',\n",
       " 'https://gall.dcinside.com/mgallery/board/view/?id=newconservativeparty&no=1087298',\n",
       " 'https://gall.dcinside.com/mgallery/board/view/?id=newconservativeparty&no=1087289',\n",
       " 'https://gall.dcinside.com/mgallery/board/view/?id=newconservativeparty&no=1087288',\n",
       " 'https://gall.dcinside.com/mgallery/board/view/?id=newconservativeparty&no=1087265',\n",
       " 'https://gall.dcinside.com/mgallery/board/view/?id=alliescon&no=431944',\n",
       " 'https://gall.dcinside.com/mgallery/board/view/?id=alliescon&no=431942',\n",
       " 'https://gall.dcinside.com/mgallery/board/view/?id=newconservativeparty&no=1087260']"
      ]
     },
     "execution_count": 64,
     "metadata": {},
     "output_type": "execute_result"
    }
   ],
   "source": [
    "[i.xpath('.//a/@href')[0] for i in tree]"
   ]
  },
  {
   "cell_type": "code",
   "execution_count": 65,
   "metadata": {},
   "outputs": [
    {
     "data": {
      "text/plain": [
       "['오늘  실물 봤는데 존나 잘생겼더라..',\n",
       " '저런 당원이 있을 수도 있음',\n",
       " '공정경쟁 부정은 이스라엘 깃발과 같음',\n",
       " '민주당은 손도 안대고 , 윤석열 동시에 날리겠네',\n",
       " '與에 \"에 감정적 대응, 유권자들 좋게 안 봐준다\"',\n",
       " '보다 더 강력한 반페미 정치인들 나오면 질질 짜겠네 아주',\n",
       " '이준잣대라는 신조어가 생겼군요',\n",
       " ' 고발당함 군대 다시가고 사기죄',\n",
       " '면) 여성징병보다 모병제 찬성함',\n",
       " 'PNR 종합과 해설',\n",
       " '을 지지했을 뿐인데 인생 패배자가 되었네 ㅋㅋ',\n",
       " '병신들이 존나 많다는 병신을 보고.txt',\n",
       " '대깨준 대깨준 해도 그냥 웃어넘겼음',\n",
       " ' 부동산은 좆도 모르는건 맞음ㅋㅋ',\n",
       " '민주당은  죽일 생각이 없어',\n",
       " ' 진짜 건축 부동산은 아무것도 모르는듯',\n",
       " '근데 여당 대선주자들은 왜 을 견제한데?',\n",
       " ' \"국내에서 페미니즘이 화두가 된 지 10년이 채 되지 않았다\"',\n",
       " ', ‘윤석열 X파일’ 논란에 尹 엄호…',\n",
       " '우리나라가 여자라서 당했어요까지는 포용하는 사회임',\n",
       " ' 겨냥해 \"기본소득이나 보편재난지원금 찬성하냐\"',\n",
       " '우리나라에서 안티페미는 원래는 여혐사상이었음.',\n",
       " \"자고로 '교조주의'는 '민주주의'를 붕괴시킨다(feat.문재인과 )\",\n",
       " ' 잘생긴듯 송중기 느낌남',\n",
       " '이대출신 당원분 뿌듯 하시겠네']"
      ]
     },
     "execution_count": 65,
     "metadata": {},
     "output_type": "execute_result"
    }
   ],
   "source": [
    "[''.join(i.xpath('.//a[@class=\"tit_txt\"]/text()')) for i in tree]"
   ]
  },
  {
   "cell_type": "code",
   "execution_count": 118,
   "metadata": {},
   "outputs": [],
   "source": [
    "url = 'https://gall.dcinside.com/mgallery/board/view/?id=newconservativeparty&no=1087499'\n",
    "headers = {\n",
    "#     \"Host\" : 'gall.dcinside.com',\n",
    "#     'Referer': 'https://search.dcinside.com/',\n",
    "    'User-Agent':'PostmanRuntime/7.26.8',\n",
    "#     'Accept-Encoding':'gzip, deflate, br',\n",
    "#     'Accept':'*/*',\n",
    "#     'Connection': 'keep-alive',\n",
    "#     'Accept-Language': 'ko-KR,ko;q=0.9,en-US;q=0.8,en;q=0.7'\n",
    "}\n",
    "res = requests.get(url, headers=headers)\n",
    "res\n",
    "root = html.fromstring(res.text)"
   ]
  },
  {
   "cell_type": "code",
   "execution_count": 119,
   "metadata": {},
   "outputs": [
    {
     "data": {
      "text/plain": [
       "'2016년 이래로 저 집단은 원래 우리표 아니었음  - dc official App'"
      ]
     },
     "execution_count": 119,
     "metadata": {},
     "output_type": "execute_result"
    }
   ],
   "source": [
    "''.join([i for i in root.xpath('//div[@class=\"write_div\"]/*/*/*/text()|//div[@class=\"write_div\"]/*/*/text()|//div[@class=\"write_div\"]/*/text()')])"
   ]
  },
  {
   "cell_type": "code",
   "execution_count": 125,
   "metadata": {},
   "outputs": [
    {
     "data": {
      "text/plain": [
       "'0'"
      ]
     },
     "execution_count": 125,
     "metadata": {},
     "output_type": "execute_result"
    }
   ],
   "source": [
    "root.xpath('//div[@class=\"up_num_box\"]/p[contains(@class,\"up_num font_red\")]/text()')[0]"
   ]
  },
  {
   "cell_type": "code",
   "execution_count": 126,
   "metadata": {},
   "outputs": [
    {
     "data": {
      "text/plain": [
       "'0'"
      ]
     },
     "execution_count": 126,
     "metadata": {},
     "output_type": "execute_result"
    }
   ],
   "source": [
    "root.xpath('//div[@class=\"down_num_box\"]/p[contains(@class,\"down_num\")]/text()')[0]"
   ]
  },
  {
   "cell_type": "code",
   "execution_count": 68,
   "metadata": {},
   "outputs": [
    {
     "data": {
      "text/plain": [
       "['2021-06-20',\n",
       " '2021-06-20',\n",
       " '2021-06-20',\n",
       " '2021-06-20',\n",
       " '2021-06-20',\n",
       " '2021-06-20',\n",
       " '2021-06-20',\n",
       " '2021-06-20',\n",
       " '2021-06-20',\n",
       " '2021-06-20',\n",
       " '2021-06-20',\n",
       " '2021-06-20',\n",
       " '2021-06-20',\n",
       " '2021-06-20',\n",
       " '2021-06-20',\n",
       " '2021-06-20',\n",
       " '2021-06-20',\n",
       " '2021-06-20',\n",
       " '2021-06-20',\n",
       " '2021-06-20',\n",
       " '2021-06-20',\n",
       " '2021-06-20',\n",
       " '2021-06-20',\n",
       " '2021-06-20',\n",
       " '2021-06-20']"
      ]
     },
     "execution_count": 68,
     "metadata": {},
     "output_type": "execute_result"
    }
   ],
   "source": [
    "[i.xpath('.//p[@class=\"link_dsc_txt dsc_sub\"]/span/text()')[0].split()[0].replace('.','-') for i in tree]"
   ]
  },
  {
   "cell_type": "markdown",
   "metadata": {},
   "source": [
    "# 펨코"
   ]
  },
  {
   "cell_type": "code",
   "execution_count": 152,
   "metadata": {},
   "outputs": [
    {
     "data": {
      "text/plain": [
       "<Response [429]>"
      ]
     },
     "execution_count": 152,
     "metadata": {},
     "output_type": "execute_result"
    }
   ],
   "source": [
    "url =\"https://www.fmkorea.com/index.php?act=IS&is_keyword=이준석&mid=home&where=document&page=1\"\n",
    "res = requests.get(url)\n",
    "res"
   ]
  },
  {
   "cell_type": "code",
   "execution_count": 128,
   "metadata": {},
   "outputs": [],
   "source": [
    "root = html.fromstring(res.text)\n",
    "tree = root.xpath('//ul[@class=\"searchResult\"]/li')"
   ]
  },
  {
   "cell_type": "code",
   "execution_count": 133,
   "metadata": {},
   "outputs": [
    {
     "data": {
      "text/plain": [
       "['이번에 준스톤 병역의혹 정리하면서 느낀점이 많음...',\n",
       " '이 예전부터 발성과 발음이 좀 안 좋았는데',\n",
       " '난 오늘 자영업자분 발언과  답변에서 광광우렀음ㅠㅠ',\n",
       " ' 상계동 언제 올려나 ㄹㅇㅋㅋ',\n",
       " '국힘은 이대녀를 의식 안해도 된다.',\n",
       " '그래도 2030여성표를 무시하면 안됨',\n",
       " ' 병역공세 판정승한듯 ㅋㅋㅋ',\n",
       " '이 아무리 발버등쳐도 대선후보 한마디면 끝남',\n",
       " '애초에 은 이명박, 김문수, 홍준표급 우파야',\n",
       " '물론 당연한거겠지만  최현미 선수도 대표한테 뭔가 구체적인 방안을 바라기보다는']"
      ]
     },
     "execution_count": 133,
     "metadata": {},
     "output_type": "execute_result"
    }
   ],
   "source": [
    "[''.join(i.xpath('.//dl/dt/a/text()')).replace('[정치/시사] ','') for i in tree]"
   ]
  },
  {
   "cell_type": "code",
   "execution_count": 130,
   "metadata": {},
   "outputs": [
    {
     "data": {
      "text/plain": [
       "['/3692724966',\n",
       " '/3692722085',\n",
       " '/3692715837',\n",
       " '/3692715397',\n",
       " '/3692714825',\n",
       " '/3692712117',\n",
       " '/3692711496',\n",
       " '/3692711146',\n",
       " '/3692708794',\n",
       " '/3692703116']"
      ]
     },
     "execution_count": 130,
     "metadata": {},
     "output_type": "execute_result"
    }
   ],
   "source": [
    "[''.join(i.xpath('.//dl/dt/a/@href')) for i in tree]"
   ]
  },
  {
   "cell_type": "code",
   "execution_count": 11,
   "metadata": {},
   "outputs": [
    {
     "data": {
      "text/plain": [
       "['사진보니 킹받네 ㅋㅋ',\n",
       " '떠나고 지들은 조국리스크에 영길이가 사고치는등 정신없는데 국힘은 이준석을 필두로 지지율이 떡상 중이니 정신줄 놔버린듯 아무리 그래도 지들이 ...',\n",
       " 'ㅇㅈ?',\n",
       " '할복단과 유언장까지 대깨문보다 대가리 한번 더깨져야 박사모임....',\n",
       " 'https://n.news.naver.com/mnews/article/comment/022/0003592211?sid=100',\n",
       " '무슨 말이냐면 이준석이 아니면 안될 정도로 국힘내에서 당대표직을 해줄 인물이 ㅈ또 없어서 진짜 어쩔 수 없이 이준석이 탱킹하고 있는 상황임 나중에 대선 1인자 정해지고 이준석이...',\n",
       " 'https://n.news.naver.com/mnews/article/014/0004659875?sid=100',\n",
       " '당시 SW마에스트로 사업 공고문에서 지원자격 항목을 보면 준스톤이 잘못한게 아닐까 의심이 들 수도 있은 것 같음. 근데 선발 과정 이후 발표된 지경부 보도자료를 보면 대학 재학...',\n",
       " '5년 존버해야하나',\n",
       " '석열 본인도 자신있다고 했고 무엇보다도 이슈파이팅 최강자 이준석이 당대표라 검증 국면에서 선방할꺼란 생각이 듦 완전 개싸움으로 가면...']"
      ]
     },
     "execution_count": 11,
     "metadata": {},
     "output_type": "execute_result"
    }
   ],
   "source": [
    "[''.join(i.xpath('.//dl/dd/text()|.//dl/dd/b/text()')) for i in tree]"
   ]
  },
  {
   "cell_type": "code",
   "execution_count": 135,
   "metadata": {},
   "outputs": [
    {
     "data": {
      "text/plain": [
       "['2021-06-20',\n",
       " '2021-06-20',\n",
       " '2021-06-20',\n",
       " '2021-06-20',\n",
       " '2021-06-20',\n",
       " '2021-06-20',\n",
       " '2021-06-20',\n",
       " '2021-06-20',\n",
       " '2021-06-20',\n",
       " '2021-06-20']"
      ]
     },
     "execution_count": 135,
     "metadata": {},
     "output_type": "execute_result"
    }
   ],
   "source": [
    "[i.xpath('.//address/span[@class=\"time\"]/text()')[0].split()[0] for i in tree]"
   ]
  },
  {
   "cell_type": "code",
   "execution_count": 147,
   "metadata": {},
   "outputs": [
    {
     "data": {
      "text/plain": [
       "<Response [200]>"
      ]
     },
     "execution_count": 147,
     "metadata": {},
     "output_type": "execute_result"
    }
   ],
   "source": [
    "url = 'https://www.fmkorea.com/3692537031'\n",
    "res = requests.get(url)\n",
    "res"
   ]
  },
  {
   "cell_type": "code",
   "execution_count": 148,
   "metadata": {},
   "outputs": [],
   "source": [
    "root = html.fromstring(res.text)\n"
   ]
  },
  {
   "cell_type": "code",
   "execution_count": 149,
   "metadata": {},
   "outputs": [
    {
     "data": {
      "text/plain": [
       "'정치적 난민???ㅋㅋㅋㅋㅋ 민주당 힘좋을때 늬들이 이대남들한테 했던짓 생각해봐라.. 말도 안되는걸로 해화역시위 해놓고 그거까지 정치권에서 다 받아줬어 근데 정치적 난민??? 아니지 그냥 민주당이 힘떨어지니고 국힘이 힘올라오고 지지율 국힘이 높으니깐 이제 우리말 안들어줘?? 우리 정치적난민이네... 이거 아니냐??? 뭐?? 정치적 난민?? 국힘이 늬들의 말도 안되는 요구 들어줘야할 이유가 뭔데??'"
      ]
     },
     "execution_count": 149,
     "metadata": {},
     "output_type": "execute_result"
    }
   ],
   "source": [
    "' '.join(root.xpath('//article/div/*/text()')).replace(u'\\xa0',u' ')"
   ]
  },
  {
   "cell_type": "code",
   "execution_count": 151,
   "metadata": {},
   "outputs": [
    {
     "data": {
      "text/plain": [
       "'88'"
      ]
     },
     "execution_count": 151,
     "metadata": {},
     "output_type": "execute_result"
    }
   ],
   "source": [
    "root.xpath('//span[@class=\"vote\"]/span/text()')[0]"
   ]
  },
  {
   "cell_type": "markdown",
   "metadata": {},
   "source": [
    "# 인벤"
   ]
  },
  {
   "cell_type": "code",
   "execution_count": 199,
   "metadata": {},
   "outputs": [],
   "source": [
    "url = 'https://www.inven.co.kr/search/webzine/article/이준석/1' #-> 1 페이지\n",
    "res = requests.get(url)"
   ]
  },
  {
   "cell_type": "code",
   "execution_count": 200,
   "metadata": {},
   "outputs": [],
   "source": [
    "root = html.fromstring(res.text)"
   ]
  },
  {
   "cell_type": "code",
   "execution_count": 201,
   "metadata": {},
   "outputs": [
    {
     "data": {
      "text/plain": [
       "['김남국, 이준석 병역 의혹에',\n",
       " '이준석 복무중 특혜 논란',\n",
       " '[한겨레]와 [이준석]이 상징하는 것 (By 이선옥)',\n",
       " \"이준석, 與병역의혹 일축…'더벅머리' 지원서 공개\",\n",
       " '이준석 병역비리 혐의 수면위로 ‘급부상’··· 허물어진 ‘공정’과 ‘정의’',\n",
       " '이준석 뒤에 상왕이 있다',\n",
       " '논게에서 이준석에 대해 가장 관심있는 사람',\n",
       " \"시험대 오른 이준석의 '공정'\",\n",
       " '이준석 당대표. 국짐당 미래에 관한 투표?',\n",
       " '국짐갤) 이준석 대표님께 사죄드립니다 졸업생도 되네요',\n",
       " '이준석 클라세스튜디오 미스터리',\n",
       " '野, 초유의 대변인 공개오디션…이준석 심사대 앉는다',\n",
       " '(속보) 국민의힘 당대표 발표 이준석대표 확정',\n",
       " '이준석 스모킹건 발견',\n",
       " '이준석 당대표. 국짐당 미래에 관한 투표?',\n",
       " \"상대에 따라 달라지는 이준석 '인사법'\",\n",
       " '이준석이 뭘 해줄거라 기대중?',\n",
       " '이준석,수술실CCTV 의료행위 소극적으로 임하게할수도,,,,설치 목적동의 추가논의 필요',\n",
       " '이준석, 11년 전 지원서 전격공개..김남국',\n",
       " '이준석']"
      ]
     },
     "execution_count": 201,
     "metadata": {},
     "output_type": "execute_result"
    }
   ],
   "source": [
    "[''.join(i.xpath('./a/text()|./a/b/text()')) for i in root.xpath('//ul[@class=\"news_list\"]/li[@class=\"item\"]/h1')]"
   ]
  },
  {
   "cell_type": "code",
   "execution_count": 202,
   "metadata": {},
   "outputs": [
    {
     "data": {
      "text/plain": [
       "['https://www.inven.co.kr/board/webzine/2097/1659827',\n",
       " 'https://www.inven.co.kr/board/webzine/2097/1658688',\n",
       " 'https://www.inven.co.kr/board/webzine/2097/1652566',\n",
       " 'https://www.inven.co.kr/board/webzine/2097/1659290',\n",
       " 'https://www.inven.co.kr/board/webzine/2097/1658278',\n",
       " 'https://www.inven.co.kr/board/wow/762/537639',\n",
       " 'https://www.inven.co.kr/board/wow/762/537882',\n",
       " 'https://www.inven.co.kr/board/webzine/2097/1658734',\n",
       " 'https://www.inven.co.kr/board/webzine/2097/1653943',\n",
       " 'https://www.inven.co.kr/board/webzine/2097/1659340',\n",
       " 'https://www.inven.co.kr/board/webzine/2097/1659423',\n",
       " 'https://www.inven.co.kr/board/webzine/2097/1656691',\n",
       " 'https://www.inven.co.kr/board/webzine/2097/1653754',\n",
       " 'https://www.inven.co.kr/board/webzine/2097/1659440',\n",
       " 'https://www.inven.co.kr/board/wow/762/537635',\n",
       " 'https://www.inven.co.kr/board/webzine/2097/1658133',\n",
       " 'https://www.inven.co.kr/board/wow/762/537662',\n",
       " 'https://www.inven.co.kr/board/webzine/2097/1655808',\n",
       " 'https://www.inven.co.kr/board/webzine/2097/1659612',\n",
       " 'https://www.inven.co.kr/board/webzine/2097/1658127']"
      ]
     },
     "execution_count": 202,
     "metadata": {},
     "output_type": "execute_result"
    }
   ],
   "source": [
    "[''.join(i.xpath('./a/@href')) for i in root.xpath('//ul[@class=\"news_list\"]/li[@class=\"item\"]/h1')]"
   ]
  },
  {
   "cell_type": "code",
   "execution_count": 158,
   "metadata": {},
   "outputs": [
    {
     "data": {
      "text/plain": [
       "['더불어민주당 김남국 의원은 20일 국민의힘 이준석 대표가 과거 지원 자격에 미달하는 데도 정부 사업에 참여해 장학금을 부당 수령했다고 주장했다. 연일 병역 특혜 의혹을 제기하며 이준석 때리기의 전면에 선...',\n",
       " '죄까지 성립할 수 있을 것”이라고 의문을 던졌다. 김 의원은 “언론에서 제기한 의혹이 사실이라면 이준석 대표로 인해 해당 과정에 지원했던 어떤 청년은 기회가 박탈된 것”이라며 “이준석 대표가 진실...',\n",
       " \"TV' 티저광고까지 찍었던 이준석 패널 출연 취소 ------------------------------------------------------------------------------------------------------------ [한겨레]와 [이준석]이 상징하는 것 By...\",\n",
       " '국민의힘 이준석 대표는 \\'산업기능요원 시절 정부사업 장학금을 부당 수령했다\\'는 더불어민주당측 의혹 제기를 일축하며 당시 지원서를 공개했다. 이 대표는 19일 SNS에서 \"아직 고생이신 분들의 마지막 희생을...',\n",
       " \"지난 2012년 강용석은 “이준석이 산업기능요원으로 복무하는 동안 지식경제부의 2010년 'SW마에스트로 사업'에 선발돼 적법한 절차를 밟지 않고 회사를 여러 차례 이탈했다”면서 “이는 산업기능요원 편입을...\",\n",
       " '이준석 뒤에 상왕이 있다 과연 그는 누구일까? 알려진거로는 유승민이라고 다들 아시겠지만 유승민보다 더 큰 세력 . . . . . . . 김무성 기존 박근혜 탄핵시 새누리당 탈탕할때 같이 움직였던 인물은 거의...',\n",
       " \"온갖 시덥지 않은것들 가지고 필사적으로 까더니 이제 하는소리가 '이준석은 제2의 안철수 열풍으로 마무리되는건가 안전모 안쓴것에 대해서 대응하는 발언 내용도 전혀 제1야당 대표감은 아니라 생각했음 그런데...\",\n",
       " '제기된 사안, 권익위 공직자 투기행위 신고 접수 사안 등을 두루 조사하게 된다. 범위가 작지 않다. 이준석 새 대표 체제 전환 뒤 지지율 상승, 당원 증가로 고무적이던 분위기는 한순간에 위기감으로 뒤덮였다...',\n",
       " '이준석 당대표. 국짐당 미래에 관한 투표? 국짐당 대표료 이준석이 당선 과연 이준석이가 국짐당을 어떻게 변화시킬까? 1. 쇄신? 2. 막장? 꼰대와의 전쟁 3. 유지? 꼰대와의 타협이나 굴복 여러분들이 번호로...',\n",
       " '이준석이 지원할 때 2010: 학교 재학중인자. 취직중이면 제외. 2년 뒤 인 2012년: 졸업자도 가능해졌으나 반대로 군복무자는 제외. ㅋㅋㅋㅋ 뭘로 하든 이준석은 지원 자체가 불가능함. ㅋㅋㅋ',\n",
       " '이준석 전 새누리당 비대위원은 불과 만 26세의 나이로 정치권에 혜성처럼 등장했다. 당시 이 전 위원은 전도유망한 벤처기업가로 소개됐지만 정치권에선 그의 실체를 두고 여러 가지 논란이 일었다. 벤처 창업...',\n",
       " \"2명을 뽑기 위한 제1차 국민의힘 토론배틀 일정을 결정했다. 토론 배틀을 통해 대변인을 선발하는 것은 이준석 대표가 당 대표 경선 과정에서 대표적으로 내세운 공약 중 하나다. 이준석표 '1호 이벤트'가 되는...\",\n",
       " '더많이 팔리고있는 책이있다는데요 역주행이라고하네요 2030대가 가장많이읽고싶은책 1위가 이준석책이라고하네요 바로 이준석책입니다 대단하죠? 자이제 발표합니다 이준석이냐 나경원이냐 주호영이냐!! 이준석...',\n",
       " '과제 최종보고서 https://scienceon.kisti.re.kr/srch/selectPORSrchReport.do?cn=TRKO201100006902 이준석이 참가했던 2010년 소프트웨어 마에스트로 최종보고서임 거기에 떡하니 병역특례는 선발에서 제외...',\n",
       " '이준석 당대표. 국짐당 미래에 관한 투표? 국짐당 대표료 이준석이 당선 과연 이준석이가 국짐당을 어떻게 변화시킬까? 1. 쇄신? 2. 막장? 꼰대와의 전쟁 3. 유지? 꼰대와의 타협이나 굴복 여러분들이 번호로...',\n",
       " '36세 이준석 국민의힘 신임 당대표가 연일 바쁜 일정이다. 신임 당 대표로서 인사도 가장 큰 업무 중 하나다. 이 대표의 접견 사진을 보면서 눈이 가는 것은 90도 폴더 인사법이다. 상대가 누구냐에 따라 각도가...',\n",
       " '진짜로? ㅋㅋㅋㅋㅋㅋㅋㅋㅋㅋ 어차피 사람 갖다 쓰는 거 보면 이준석 대표인 것빼면 뭐 달라진 게?? 아.... ㅋㅋㅋㅋ 이준석 화이팅~ 지지자들의 기대를 저버리지말기를... ㅎ...ㅋㅋㅋㅋ',\n",
       " '▷ 오태훈 : 수술실 CCTV 설치와 관련한 입법에 대해서 어떻게 생각하십니까? ▶ 이준석 : 저는 수술실 CCTV라는 것이 만약에 의료사고를 줄이고 진상을 규명해내기 위한 어떤 목적이 있다는 것에는 저는 동의...',\n",
       " 'https://news.v.daum.net/v/20210620003028775이준석, 11년 전 지원서 전격공개..김남국 \"논점은 어떻게 졸업자·복무 중인 자가 지원했냐는 것\" 산업기능요원 시절 정부사업 장학금을 부정수령했다는 의혹이...',\n",
       " '윤석열 전 검찰총장 측은 17일 이준석 국민의힘 당 대표를 향해 \"\\'걱정해주셔서 감사하다\\'라는 한마디만 하겠다\"며 \"윤 전 총장은 자기 페이스대로, 국민이 가리키는 대로 따라갈 것\"이라고 말했다. 이 대표는...']"
      ]
     },
     "execution_count": 158,
     "metadata": {},
     "output_type": "execute_result"
    }
   ],
   "source": [
    "[''.join(i.xpath('./text()|./b/text()')) for i in root.xpath('//ul[@class=\"news_list\"]/li[@class=\"item\"]/p[@class=\"caption\"]')]"
   ]
  },
  {
   "cell_type": "code",
   "execution_count": 160,
   "metadata": {},
   "outputs": [
    {
     "data": {
      "text/plain": [
       "['2021.06.20',\n",
       " '2021.06.18',\n",
       " '2021.06.09',\n",
       " '2021.06.19',\n",
       " '2021.06.18',\n",
       " '2021.06.11',\n",
       " '2021.06.19',\n",
       " '2021.06.18',\n",
       " '2021.06.11',\n",
       " '2021.06.19',\n",
       " '2021.06.20',\n",
       " '2021.06.15',\n",
       " '2021.06.11',\n",
       " '2021.06.20',\n",
       " '2021.06.11',\n",
       " '2021.06.17',\n",
       " '2021.06.12',\n",
       " '2021.06.14',\n",
       " '2021.06.20',\n",
       " '2021.06.17']"
      ]
     },
     "execution_count": 160,
     "metadata": {},
     "output_type": "execute_result"
    }
   ],
   "source": [
    "[''.join(i.xpath('./p[@class=\"date\"]/text()')) for i in root.xpath('//ul[@class=\"news_list\"]/li[@class=\"item\"]/div[@class=\"item_info clearfix\"]')]"
   ]
  },
  {
   "cell_type": "code",
   "execution_count": 210,
   "metadata": {},
   "outputs": [
    {
     "data": {
      "text/plain": [
       "<Response [200]>"
      ]
     },
     "execution_count": 210,
     "metadata": {},
     "output_type": "execute_result"
    }
   ],
   "source": [
    "url = 'https://www.inven.co.kr/board/webzine/2097/1658127' #https://www.inven.co.kr/board/wow/762/537662\n",
    "res =requests.get(url)\n",
    "res"
   ]
  },
  {
   "cell_type": "code",
   "execution_count": 211,
   "metadata": {},
   "outputs": [],
   "source": [
    "root = html.fromstring(res.text)"
   ]
  },
  {
   "cell_type": "code",
   "execution_count": 212,
   "metadata": {},
   "outputs": [
    {
     "data": {
      "text/plain": [
       "''"
      ]
     },
     "execution_count": 212,
     "metadata": {},
     "output_type": "execute_result"
    }
   ],
   "source": [
    "' '.join([i.strip() for i in root.xpath('//div[@id=\"powerbbsContent\"]/*/text()') if i.strip()!=''])"
   ]
  },
  {
   "cell_type": "code",
   "execution_count": 213,
   "metadata": {},
   "outputs": [
    {
     "data": {
      "text/plain": [
       "'윤석열 전 검찰총장 측은 17일 이준석 국민의힘 당 대표를 향해 \"\\'걱정해주셔서 감사하다\\'라는 한마디만 하겠다\"며 \"윤 전 총장은 자기 페이스대로, 국민이 가리키는 대로 따라갈 것\"이라고 말했다. 이라며 \"이미 입당 했어야 했는데 지금도 조금 늦었다\"고 말한 바 있다. 압수수색 맛 좀 볼래? 아 이제 총장 아니구나?\\xa0 어쩐지~ ㅎㅎ'"
      ]
     },
     "execution_count": 213,
     "metadata": {},
     "output_type": "execute_result"
    }
   ],
   "source": [
    "' '.join([i.strip() for i in root.xpath('//div[@id=\"powerbbsContent\"]/*/*/text()') if i.strip()!=''])"
   ]
  },
  {
   "cell_type": "code",
   "execution_count": 197,
   "metadata": {},
   "outputs": [
    {
     "data": {
      "text/plain": [
       "'0'"
      ]
     },
     "execution_count": 197,
     "metadata": {},
     "output_type": "execute_result"
    }
   ],
   "source": [
    "root.xpath('//span[@class=\"reqnum reqblue\"]/span/text()')[0]"
   ]
  },
  {
   "cell_type": "code",
   "execution_count": 198,
   "metadata": {},
   "outputs": [
    {
     "data": {
      "text/plain": [
       "'0'"
      ]
     },
     "execution_count": 198,
     "metadata": {},
     "output_type": "execute_result"
    }
   ],
   "source": [
    "root.xpath('//span[@class=\"reqnum reqred\"]/span/text()')[0]"
   ]
  },
  {
   "cell_type": "markdown",
   "metadata": {},
   "source": [
    "# 루리웹 버림 -> 할수는 있지만 불법적으로 사용될 여지가 있어 안함"
   ]
  },
  {
   "cell_type": "markdown",
   "metadata": {},
   "source": [
    "# 뽐뿌"
   ]
  },
  {
   "cell_type": "code",
   "execution_count": 214,
   "metadata": {},
   "outputs": [],
   "source": [
    "url = 'http://www.ppomppu.co.kr/search_bbs.php?search_type=sub_memo&page_no=1&keyword=%C0%CC%C1%D8%BC%AE&page_size=20&bbs_id=&order_type=date&bbs_cate=2'\n",
    "res = requests.get(url)"
   ]
  },
  {
   "cell_type": "code",
   "execution_count": 215,
   "metadata": {},
   "outputs": [
    {
     "data": {
      "text/plain": [
       "<Response [200]>"
      ]
     },
     "execution_count": 215,
     "metadata": {},
     "output_type": "execute_result"
    }
   ],
   "source": [
    "res"
   ]
  },
  {
   "cell_type": "code",
   "execution_count": 216,
   "metadata": {},
   "outputs": [],
   "source": [
    "root = html.fromstring(res.text)"
   ]
  },
  {
   "cell_type": "code",
   "execution_count": 217,
   "metadata": {},
   "outputs": [],
   "source": [
    "tree = root.xpath('//div[@class=\"results_board\"]/div[@class=\"conts\"]')"
   ]
  },
  {
   "cell_type": "code",
   "execution_count": 220,
   "metadata": {},
   "outputs": [
    {
     "data": {
      "text/plain": [
       "['사사건건 때리는 민주당, 대거리하는 이준석',\n",
       " '20대녀 돌직구에 이준석 \"배척은 오해..여성 지지율 동반상승\"',\n",
       " '2012년 안철수가 2021년 윤석열에게  (이준석 feat)',\n",
       " '이런 공정한 사회 오면 엄청 재미있을것 같네요',\n",
       " '마에스트로 의혹 제기하는 대깨문에겐 대응할 필요를 못 느낍니다',\n",
       " '태영호 주체 강남역 토론배틀 참석한 이준석',\n",
       " '윤석렬이 이준석에게',\n",
       " '이준석 당대표 당선되길 바랬는데',\n",
       " '이준석 관련 상식적인 주장을 하는 여권인사가 있네요.',\n",
       " '이준석은 슬슬 빠져나가면 이길거란 정신 승리 하고 있는거 아니죠?',\n",
       " '이준석, sw마에스트로 관련 페북 포스팅 삭제',\n",
       " '이준석 \"윤석열 X파일.. 윤 입당하면 대응 조력\"',\n",
       " '대깨문이라는 단어',\n",
       " '조국의 골품제 vs 이준석의 과거제',\n",
       " '국힘당 지지하시는분들 힘드시겠네요..ㅜ',\n",
       " '천안함 챌린지에 관심없었던 준석쿤',\n",
       " '이준석을 흥미롭게 보지만..공정은..',\n",
       " '마음대로 결정 이준석의 협의 인식내부 갈등 불씨 될까',\n",
       " '이준석 병역비리 혐의 수면위로 급부상 허물어진 공정과 정의',\n",
       " '이준석을 놀라게한 2시간']"
      ]
     },
     "execution_count": 220,
     "metadata": {},
     "output_type": "execute_result"
    }
   ],
   "source": [
    "[''.join(i.xpath('.//div[@class=\"content\"]/span[@class=\"title\"]/a/text()|.//div[@class=\"content\"]/span[@class=\"title\"]/a/b/text()')) for i in tree]"
   ]
  },
  {
   "cell_type": "raw",
   "metadata": {},
   "source": [
    "[''.join(i.xpath('.//div[@class=\"content\"]/p/a/text()|.//div[@class=\"content\"]/p/a/b/text()')).strip() for i in tree]"
   ]
  },
  {
   "cell_type": "code",
   "execution_count": 224,
   "metadata": {},
   "outputs": [
    {
     "data": {
      "text/plain": [
       "['/zboard/view.php?id=issue&no=370890&keyword=%C0%CC%C1%D8%BC%AE',\n",
       " '/zboard/view.php?id=issue&no=370880&keyword=%C0%CC%C1%D8%BC%AE',\n",
       " '/zboard/view.php?id=issue&no=370879&keyword=%C0%CC%C1%D8%BC%AE',\n",
       " '/zboard/view.php?id=issue&no=370877&keyword=%C0%CC%C1%D8%BC%AE',\n",
       " '/zboard/view.php?id=issue&no=370876&keyword=%C0%CC%C1%D8%BC%AE',\n",
       " '/zboard/view.php?id=issue&no=370875&keyword=%C0%CC%C1%D8%BC%AE',\n",
       " '/zboard/view.php?id=issue&no=370864&keyword=%C0%CC%C1%D8%BC%AE',\n",
       " '/zboard/view.php?id=issue&no=370860&keyword=%C0%CC%C1%D8%BC%AE',\n",
       " '/zboard/view.php?id=issue&no=370859&keyword=%C0%CC%C1%D8%BC%AE',\n",
       " '/zboard/view.php?id=issue&no=370853&keyword=%C0%CC%C1%D8%BC%AE',\n",
       " '/zboard/view.php?id=issue&no=370852&keyword=%C0%CC%C1%D8%BC%AE',\n",
       " '/zboard/view.php?id=issue&no=370847&keyword=%C0%CC%C1%D8%BC%AE',\n",
       " '/zboard/view.php?id=issue&no=370840&keyword=%C0%CC%C1%D8%BC%AE',\n",
       " '/zboard/view.php?id=issue&no=370837&keyword=%C0%CC%C1%D8%BC%AE',\n",
       " '/zboard/view.php?id=issue&no=370834&keyword=%C0%CC%C1%D8%BC%AE',\n",
       " '/zboard/view.php?id=issue&no=370833&keyword=%C0%CC%C1%D8%BC%AE',\n",
       " '/zboard/view.php?id=issue&no=370825&keyword=%C0%CC%C1%D8%BC%AE',\n",
       " '/zboard/view.php?id=issue&no=370822&keyword=%C0%CC%C1%D8%BC%AE',\n",
       " '/zboard/view.php?id=issue&no=370815&keyword=%C0%CC%C1%D8%BC%AE',\n",
       " '/zboard/view.php?id=issue&no=370814&keyword=%C0%CC%C1%D8%BC%AE']"
      ]
     },
     "execution_count": 224,
     "metadata": {},
     "output_type": "execute_result"
    }
   ],
   "source": [
    "[i.xpath('.//div[@class=\"content\"]/span[@class=\"title\"]/a/@href')[0] for i in tree]"
   ]
  },
  {
   "cell_type": "code",
   "execution_count": 226,
   "metadata": {},
   "outputs": [
    {
     "data": {
      "text/plain": [
       "['2021-06-20',\n",
       " '2021-06-20',\n",
       " '2021-06-20',\n",
       " '2021-06-20',\n",
       " '2021-06-20',\n",
       " '2021-06-20',\n",
       " '2021-06-20',\n",
       " '2021-06-20',\n",
       " '2021-06-20',\n",
       " '2021-06-20',\n",
       " '2021-06-20',\n",
       " '2021-06-20',\n",
       " '2021-06-20',\n",
       " '2021-06-20',\n",
       " '2021-06-20',\n",
       " '2021-06-20',\n",
       " '2021-06-20',\n",
       " '2021-06-20',\n",
       " '2021-06-20',\n",
       " '2021-06-20']"
      ]
     },
     "execution_count": 226,
     "metadata": {},
     "output_type": "execute_result"
    }
   ],
   "source": [
    "[i.xpath('.//p[@class=\"desc\"]/span[3]/text()')[0].replace('.','-') for i in tree]"
   ]
  },
  {
   "cell_type": "code",
   "execution_count": 242,
   "metadata": {},
   "outputs": [],
   "source": [
    "url = 'http://www.ppomppu.co.kr/zboard/view.php?id=issue&no=370814&keyword=%C0%CC%C1%D8%BC%AE'\n",
    "res = requests.get(url)\n",
    "root = html.fromstring(res.text)"
   ]
  },
  {
   "cell_type": "code",
   "execution_count": 243,
   "metadata": {},
   "outputs": [
    {
     "data": {
      "text/plain": [
       "''"
      ]
     },
     "execution_count": 243,
     "metadata": {},
     "output_type": "execute_result"
    }
   ],
   "source": [
    "' '.join([i.strip() for i in root.xpath('//td[@class=\"board-contents\"]/*/text()') if i.strip() != ''])"
   ]
  },
  {
   "cell_type": "code",
   "execution_count": 244,
   "metadata": {},
   "outputs": [
    {
     "data": {
      "text/plain": [
       "'4'"
      ]
     },
     "execution_count": 244,
     "metadata": {},
     "output_type": "execute_result"
    }
   ],
   "source": [
    "[i.strip() for i in root.xpath('//p[@class=\"btn_recommand\"]/text()') if i.strip()!=''][0]"
   ]
  },
  {
   "cell_type": "code",
   "execution_count": 245,
   "metadata": {},
   "outputs": [
    {
     "data": {
      "text/plain": [
       "'0'"
      ]
     },
     "execution_count": 245,
     "metadata": {},
     "output_type": "execute_result"
    }
   ],
   "source": [
    "[i.strip() for i in root.xpath('//p[@class=\"btn_different\"]/text()') if i.strip()!=''][0]"
   ]
  },
  {
   "cell_type": "markdown",
   "metadata": {},
   "source": [
    "# 엠팍"
   ]
  },
  {
   "cell_type": "code",
   "execution_count": null,
   "metadata": {},
   "outputs": [],
   "source": []
  },
  {
   "cell_type": "code",
   "execution_count": null,
   "metadata": {},
   "outputs": [],
   "source": []
  },
  {
   "cell_type": "code",
   "execution_count": 246,
   "metadata": {},
   "outputs": [],
   "source": [
    "url = 'http://mlbpark.donga.com/mp/b.php?p=1&m=search&b=bullpen&query=이준석&select=sct&user='"
   ]
  },
  {
   "cell_type": "code",
   "execution_count": 247,
   "metadata": {},
   "outputs": [],
   "source": [
    "res = requests.get(url)"
   ]
  },
  {
   "cell_type": "code",
   "execution_count": 248,
   "metadata": {},
   "outputs": [
    {
     "data": {
      "text/plain": [
       "<Response [200]>"
      ]
     },
     "execution_count": 248,
     "metadata": {},
     "output_type": "execute_result"
    }
   ],
   "source": [
    "res"
   ]
  },
  {
   "cell_type": "code",
   "execution_count": 249,
   "metadata": {},
   "outputs": [],
   "source": [
    "root = html.fromstring(res.text)"
   ]
  },
  {
   "cell_type": "code",
   "execution_count": 250,
   "metadata": {},
   "outputs": [
    {
     "data": {
      "text/plain": [
       "['6월 기사검색량 - 이준석 점점 정치거물이 되어가다(feat : 가로세로 민주당, 김용민, 김남국쌩유)',\n",
       " '이준석 의혹 내용',\n",
       " '이준석까는거보니 문재인 노비들 최악이네요',\n",
       " 'PNR 여조 윤석열 5.2프로나 빠졌네요',\n",
       " '이준석 헤어스타일 vs 윤석열 정장핏',\n",
       " '이준석 논란은 설명이 안돼요',\n",
       " '이준석 강남에 떳네요.',\n",
       " '이준석 대통령돼서 기본소득 빨리 실시했으면 좋겠네요.JPG',\n",
       " '이준석 \"윤석열 X파일? 거짓 또는 무의미할 것으로 확신\" \"당사자(장성철)는 내용공개해야\"',\n",
       " '이준석 대표 윤석열 X파일에 대한 입장 밝힘',\n",
       " '전 이준석이 가진 은근 장점이 소통능력같음',\n",
       " '지금 민주당이 이준석을 때리는게 얼마나 잘못된건지 모름.',\n",
       " 'cctv 여론찬성이 높다고 무조건 옳은건 아닙니다',\n",
       " '이준석이 특혜든 아니든',\n",
       " '윤석열 X파일, 이준석 병역 아무 문제 아니라니까요',\n",
       " '역시 오후 5시 이후로는 4월 가입자들 글이 없네요',\n",
       " '이준석 병역비리로 공격하는 사람은 어떻게 특혜를 받았다는건가요?',\n",
       " '노원구 하면 생각나는 정치인은?',\n",
       " '김남국은 페북 댓글도 막아놓고 뭐가 그리 당당한지',\n",
       " '스토킹 당하고 있는 이준석.jpg',\n",
       " '김남국 - 이준석 의혹 제기 - 팩트확인',\n",
       " '이준석은 보이지 않게 계속 레벨이 올라간거죠?',\n",
       " '이준석 병역 관련된건 다 논파되었는데 밭 좀 그만 가쇼',\n",
       " '민주당과 언론에서 이준석을 거의 대선주자급으로 다루는것 같은데',\n",
       " '오른소리에서 이준석이 능력 있는 사람들 뽑겠다는건',\n",
       " '가세연 얘네도 이준석 병역가지고는 안건드는것 같던데',\n",
       " '이준석 제대로 임자 만났네요 ...',\n",
       " '이준석 쿠팡에 한마디했네요 ㅎㄷㄷ.jpg',\n",
       " '유승민 진중권 근황.jpg',\n",
       " '이준석이 달라졌다']"
      ]
     },
     "execution_count": 250,
     "metadata": {},
     "output_type": "execute_result"
    }
   ],
   "source": [
    "root.xpath('//table/tbody/tr/td/div[@class=\"tit\"]/a/@alt')"
   ]
  },
  {
   "cell_type": "code",
   "execution_count": 252,
   "metadata": {},
   "outputs": [
    {
     "data": {
      "text/plain": [
       "['http://mlbpark.donga.com/mp/b.php?id=202106200056458107&p=1&b=bullpen&m=view&select=sct&query=%EC%9D%B4%EC%A4%80%EC%84%9D&user=&site=donga.com',\n",
       " 'http://mlbpark.donga.com/mp/b.php?id=202106200056457075&p=1&b=bullpen&m=view&select=sct&query=%EC%9D%B4%EC%A4%80%EC%84%9D&user=&site=donga.com',\n",
       " 'http://mlbpark.donga.com/mp/b.php?id=202106200056455800&p=1&b=bullpen&m=view&select=sct&query=%EC%9D%B4%EC%A4%80%EC%84%9D&user=&site=donga.com',\n",
       " 'http://mlbpark.donga.com/mp/b.php?id=202106200056455800&p=1&b=bullpen&m=view&select=sct&query=%EC%9D%B4%EC%A4%80%EC%84%9D&user=&site=donga.com&pos=reply',\n",
       " 'http://mlbpark.donga.com/mp/b.php?id=202106200056455677&p=1&b=bullpen&m=view&select=sct&query=%EC%9D%B4%EC%A4%80%EC%84%9D&user=&site=donga.com',\n",
       " 'http://mlbpark.donga.com/mp/b.php?id=202106200056455677&p=1&b=bullpen&m=view&select=sct&query=%EC%9D%B4%EC%A4%80%EC%84%9D&user=&site=donga.com&pos=reply',\n",
       " 'http://mlbpark.donga.com/mp/b.php?id=202106200056455134&p=1&b=bullpen&m=view&select=sct&query=%EC%9D%B4%EC%A4%80%EC%84%9D&user=&site=donga.com',\n",
       " 'http://mlbpark.donga.com/mp/b.php?id=202106200056455134&p=1&b=bullpen&m=view&select=sct&query=%EC%9D%B4%EC%A4%80%EC%84%9D&user=&site=donga.com&pos=reply',\n",
       " 'http://mlbpark.donga.com/mp/b.php?id=202106200056454366&p=1&b=bullpen&m=view&select=sct&query=%EC%9D%B4%EC%A4%80%EC%84%9D&user=&site=donga.com',\n",
       " 'http://mlbpark.donga.com/mp/b.php?id=202106200056453160&p=1&b=bullpen&m=view&select=sct&query=%EC%9D%B4%EC%A4%80%EC%84%9D&user=&site=donga.com',\n",
       " 'http://mlbpark.donga.com/mp/b.php?id=202106200056453160&p=1&b=bullpen&m=view&select=sct&query=%EC%9D%B4%EC%A4%80%EC%84%9D&user=&site=donga.com&pos=reply',\n",
       " 'http://mlbpark.donga.com/mp/b.php?id=202106200056452188&p=1&b=bullpen&m=view&select=sct&query=%EC%9D%B4%EC%A4%80%EC%84%9D&user=&site=donga.com',\n",
       " 'http://mlbpark.donga.com/mp/b.php?id=202106200056452188&p=1&b=bullpen&m=view&select=sct&query=%EC%9D%B4%EC%A4%80%EC%84%9D&user=&site=donga.com&pos=reply',\n",
       " 'http://mlbpark.donga.com/mp/b.php?id=202106200056451639&p=1&b=bullpen&m=view&select=sct&query=%EC%9D%B4%EC%A4%80%EC%84%9D&user=&site=donga.com',\n",
       " 'http://mlbpark.donga.com/mp/b.php?id=202106200056451639&p=1&b=bullpen&m=view&select=sct&query=%EC%9D%B4%EC%A4%80%EC%84%9D&user=&site=donga.com&pos=reply',\n",
       " 'http://mlbpark.donga.com/mp/b.php?id=202106200056451207&p=1&b=bullpen&m=view&select=sct&query=%EC%9D%B4%EC%A4%80%EC%84%9D&user=&site=naver.com',\n",
       " 'http://mlbpark.donga.com/mp/b.php?id=202106200056451207&p=1&b=bullpen&m=view&select=sct&query=%EC%9D%B4%EC%A4%80%EC%84%9D&user=&site=naver.com&pos=reply',\n",
       " 'http://mlbpark.donga.com/mp/b.php?id=202106200056451018&p=1&b=bullpen&m=view&select=sct&query=%EC%9D%B4%EC%A4%80%EC%84%9D&user=&site=donga.com',\n",
       " 'http://mlbpark.donga.com/mp/b.php?id=202106200056451018&p=1&b=bullpen&m=view&select=sct&query=%EC%9D%B4%EC%A4%80%EC%84%9D&user=&site=donga.com&pos=reply',\n",
       " 'http://mlbpark.donga.com/mp/b.php?id=202106200056450556&p=1&b=bullpen&m=view&select=sct&query=%EC%9D%B4%EC%A4%80%EC%84%9D&user=&site=donga.com',\n",
       " 'http://mlbpark.donga.com/mp/b.php?id=202106200056450556&p=1&b=bullpen&m=view&select=sct&query=%EC%9D%B4%EC%A4%80%EC%84%9D&user=&site=donga.com&pos=reply',\n",
       " 'http://mlbpark.donga.com/mp/b.php?id=202106200056450295&p=1&b=bullpen&m=view&select=sct&query=%EC%9D%B4%EC%A4%80%EC%84%9D&user=&site=donga.com',\n",
       " 'http://mlbpark.donga.com/mp/b.php?id=202106200056450295&p=1&b=bullpen&m=view&select=sct&query=%EC%9D%B4%EC%A4%80%EC%84%9D&user=&site=donga.com&pos=reply',\n",
       " 'http://mlbpark.donga.com/mp/b.php?id=202106200056449203&p=1&b=bullpen&m=view&select=sct&query=%EC%9D%B4%EC%A4%80%EC%84%9D&user=&site=donga.com',\n",
       " 'http://mlbpark.donga.com/mp/b.php?id=202106200056449203&p=1&b=bullpen&m=view&select=sct&query=%EC%9D%B4%EC%A4%80%EC%84%9D&user=&site=donga.com&pos=reply',\n",
       " 'http://mlbpark.donga.com/mp/b.php?id=202106200056449140&p=1&b=bullpen&m=view&select=sct&query=%EC%9D%B4%EC%A4%80%EC%84%9D&user=&site=naver.com',\n",
       " 'http://mlbpark.donga.com/mp/b.php?id=202106200056449140&p=1&b=bullpen&m=view&select=sct&query=%EC%9D%B4%EC%A4%80%EC%84%9D&user=&site=naver.com&pos=reply',\n",
       " 'http://mlbpark.donga.com/mp/b.php?id=202106200056448090&p=1&b=bullpen&m=view&select=sct&query=%EC%9D%B4%EC%A4%80%EC%84%9D&user=&site=donga.com',\n",
       " 'http://mlbpark.donga.com/mp/b.php?id=202106200056448090&p=1&b=bullpen&m=view&select=sct&query=%EC%9D%B4%EC%A4%80%EC%84%9D&user=&site=donga.com&pos=reply',\n",
       " 'http://mlbpark.donga.com/mp/b.php?id=202106200056447994&p=1&b=bullpen&m=view&select=sct&query=%EC%9D%B4%EC%A4%80%EC%84%9D&user=&site=donga.com',\n",
       " 'http://mlbpark.donga.com/mp/b.php?id=202106200056447994&p=1&b=bullpen&m=view&select=sct&query=%EC%9D%B4%EC%A4%80%EC%84%9D&user=&site=donga.com&pos=reply',\n",
       " 'http://mlbpark.donga.com/mp/b.php?id=202106200056447844&p=1&b=bullpen&m=view&select=sct&query=%EC%9D%B4%EC%A4%80%EC%84%9D&user=&site=donga.com',\n",
       " 'http://mlbpark.donga.com/mp/b.php?id=202106200056447844&p=1&b=bullpen&m=view&select=sct&query=%EC%9D%B4%EC%A4%80%EC%84%9D&user=&site=donga.com&pos=reply',\n",
       " 'http://mlbpark.donga.com/mp/b.php?id=202106200056447502&p=1&b=bullpen&m=view&select=sct&query=%EC%9D%B4%EC%A4%80%EC%84%9D&user=&site=donga.com',\n",
       " 'http://mlbpark.donga.com/mp/b.php?id=202106200056447502&p=1&b=bullpen&m=view&select=sct&query=%EC%9D%B4%EC%A4%80%EC%84%9D&user=&site=donga.com&pos=reply',\n",
       " 'http://mlbpark.donga.com/mp/b.php?id=202106200056446776&p=1&b=bullpen&m=view&select=sct&query=%EC%9D%B4%EC%A4%80%EC%84%9D&user=&site=donga.com',\n",
       " 'http://mlbpark.donga.com/mp/b.php?id=202106200056446776&p=1&b=bullpen&m=view&select=sct&query=%EC%9D%B4%EC%A4%80%EC%84%9D&user=&site=donga.com&pos=reply',\n",
       " 'http://mlbpark.donga.com/mp/b.php?id=202106200056446104&p=1&b=bullpen&m=view&select=sct&query=%EC%9D%B4%EC%A4%80%EC%84%9D&user=&site=donga.com',\n",
       " 'http://mlbpark.donga.com/mp/b.php?id=202106200056446104&p=1&b=bullpen&m=view&select=sct&query=%EC%9D%B4%EC%A4%80%EC%84%9D&user=&site=donga.com&pos=reply',\n",
       " 'http://mlbpark.donga.com/mp/b.php?id=202106200056445843&p=1&b=bullpen&m=view&select=sct&query=%EC%9D%B4%EC%A4%80%EC%84%9D&user=&site=donga.com',\n",
       " 'http://mlbpark.donga.com/mp/b.php?id=202106200056445843&p=1&b=bullpen&m=view&select=sct&query=%EC%9D%B4%EC%A4%80%EC%84%9D&user=&site=donga.com&pos=reply',\n",
       " 'http://mlbpark.donga.com/mp/b.php?id=202106200056445543&p=1&b=bullpen&m=view&select=sct&query=%EC%9D%B4%EC%A4%80%EC%84%9D&user=&site=donga.com',\n",
       " 'http://mlbpark.donga.com/mp/b.php?id=202106200056445543&p=1&b=bullpen&m=view&select=sct&query=%EC%9D%B4%EC%A4%80%EC%84%9D&user=&site=donga.com&pos=reply',\n",
       " 'http://mlbpark.donga.com/mp/b.php?id=202106200056445480&p=1&b=bullpen&m=view&select=sct&query=%EC%9D%B4%EC%A4%80%EC%84%9D&user=&site=donga.com',\n",
       " 'http://mlbpark.donga.com/mp/b.php?id=202106200056445441&p=1&b=bullpen&m=view&select=sct&query=%EC%9D%B4%EC%A4%80%EC%84%9D&user=&site=donga.com',\n",
       " 'http://mlbpark.donga.com/mp/b.php?id=202106200056445441&p=1&b=bullpen&m=view&select=sct&query=%EC%9D%B4%EC%A4%80%EC%84%9D&user=&site=donga.com&pos=reply',\n",
       " 'http://mlbpark.donga.com/mp/b.php?id=202106200056445090&p=1&b=bullpen&m=view&select=sct&query=%EC%9D%B4%EC%A4%80%EC%84%9D&user=&site=donga.com',\n",
       " 'http://mlbpark.donga.com/mp/b.php?id=202106200056445090&p=1&b=bullpen&m=view&select=sct&query=%EC%9D%B4%EC%A4%80%EC%84%9D&user=&site=donga.com&pos=reply',\n",
       " 'http://mlbpark.donga.com/mp/b.php?id=202106200056444676&p=1&b=bullpen&m=view&select=sct&query=%EC%9D%B4%EC%A4%80%EC%84%9D&user=&site=donga.com',\n",
       " 'http://mlbpark.donga.com/mp/b.php?id=202106200056444676&p=1&b=bullpen&m=view&select=sct&query=%EC%9D%B4%EC%A4%80%EC%84%9D&user=&site=donga.com&pos=reply',\n",
       " 'http://mlbpark.donga.com/mp/b.php?id=202106200056444592&p=1&b=bullpen&m=view&select=sct&query=%EC%9D%B4%EC%A4%80%EC%84%9D&user=&site=donga.com',\n",
       " 'http://mlbpark.donga.com/mp/b.php?id=202106200056444592&p=1&b=bullpen&m=view&select=sct&query=%EC%9D%B4%EC%A4%80%EC%84%9D&user=&site=donga.com&pos=reply',\n",
       " 'http://mlbpark.donga.com/mp/b.php?id=202106200056443950&p=1&b=bullpen&m=view&select=sct&query=%EC%9D%B4%EC%A4%80%EC%84%9D&user=&site=donga.com',\n",
       " 'http://mlbpark.donga.com/mp/b.php?id=202106200056443950&p=1&b=bullpen&m=view&select=sct&query=%EC%9D%B4%EC%A4%80%EC%84%9D&user=&site=donga.com&pos=reply',\n",
       " 'http://mlbpark.donga.com/mp/b.php?id=202106200056443641&p=1&b=bullpen&m=view&select=sct&query=%EC%9D%B4%EC%A4%80%EC%84%9D&user=&site=donga.com',\n",
       " 'http://mlbpark.donga.com/mp/b.php?id=202106200056443641&p=1&b=bullpen&m=view&select=sct&query=%EC%9D%B4%EC%A4%80%EC%84%9D&user=&site=donga.com&pos=reply']"
      ]
     },
     "execution_count": 252,
     "metadata": {},
     "output_type": "execute_result"
    }
   ],
   "source": [
    "root.xpath('//table/tbody/tr/td/div[@class=\"tit\"]/a/@href')"
   ]
  },
  {
   "cell_type": "code",
   "execution_count": 251,
   "metadata": {},
   "outputs": [
    {
     "data": {
      "text/plain": [
       "['20:47:31',\n",
       " '20:34:19',\n",
       " '20:23:04',\n",
       " '20:21:55',\n",
       " '20:15:32',\n",
       " '20:07:44',\n",
       " '19:55:27',\n",
       " '19:44:42',\n",
       " '19:39:39',\n",
       " '19:35:00',\n",
       " '19:32:52',\n",
       " '19:28:18',\n",
       " '19:25:41',\n",
       " '19:14:53',\n",
       " '19:14:10',\n",
       " '19:03:35',\n",
       " '19:02:41',\n",
       " '19:00:46',\n",
       " '18:56:37',\n",
       " '18:50:49',\n",
       " '18:43:41',\n",
       " '18:40:53',\n",
       " '18:37:07',\n",
       " '18:36:22',\n",
       " '18:36:05',\n",
       " '18:31:04',\n",
       " '18:25:48',\n",
       " '18:24:40',\n",
       " '18:18:53',\n",
       " '18:15:38']"
      ]
     },
     "execution_count": 251,
     "metadata": {},
     "output_type": "execute_result"
    }
   ],
   "source": [
    "root.xpath('//table/tbody/tr/td/span[@class=\"date\"]/text()')"
   ]
  },
  {
   "cell_type": "code",
   "execution_count": 264,
   "metadata": {},
   "outputs": [],
   "source": [
    "url = 'http://mlbpark.donga.com/mp/b.php?m=search&p=1&b=bullpen&id=202106200056445543&select=sct&query=%EC%9D%B4%EC%A4%80%EC%84%9D&user=&site=donga.com&reply=&source=&pos=&sig=h4a9SgtYhhRRKfX2h6j9Sf-Akhlq'\n",
    "res = requests.get(url)"
   ]
  },
  {
   "cell_type": "code",
   "execution_count": 265,
   "metadata": {},
   "outputs": [],
   "source": [
    "root = html.fromstring(res.text)"
   ]
  },
  {
   "cell_type": "code",
   "execution_count": 266,
   "metadata": {},
   "outputs": [
    {
     "data": {
      "text/plain": [
       "'1. 재학생만 된다 => 졸업생 8명 지원\\n \\n 2.산업기능요원이나 취업자는 안된다 => 2012년 부터\\n \\n \\n 이미 어제 엠팍이나 펨코에서 다 논파된\\n 내용인데 그만 좀 가져오쇼\\n \\n 그리고 남국이 용태는 제대로 사과하고\\n'"
      ]
     },
     "execution_count": 266,
     "metadata": {},
     "output_type": "execute_result"
    }
   ],
   "source": [
    "' '.join(root.xpath('//div[@class=\"ar_txt\"]/text()'))"
   ]
  },
  {
   "cell_type": "code",
   "execution_count": 268,
   "metadata": {},
   "outputs": [
    {
     "data": {
      "text/plain": [
       "['0']"
      ]
     },
     "execution_count": 268,
     "metadata": {},
     "output_type": "execute_result"
    }
   ],
   "source": [
    "root.xpath('//span[@id=\"likeCnt\"]/text()')[0]"
   ]
  },
  {
   "cell_type": "code",
   "execution_count": null,
   "metadata": {},
   "outputs": [],
   "source": []
  },
  {
   "cell_type": "markdown",
   "metadata": {},
   "source": [
    "# 클리앙"
   ]
  },
  {
   "cell_type": "code",
   "execution_count": 31,
   "metadata": {},
   "outputs": [],
   "source": [
    "url = \"https://www.clien.net/service/search?q=이준석&sort=recency&p=0&boardCd=&isBoard=false\""
   ]
  },
  {
   "cell_type": "code",
   "execution_count": 32,
   "metadata": {},
   "outputs": [],
   "source": [
    "res= requests.get(url)"
   ]
  },
  {
   "cell_type": "code",
   "execution_count": 33,
   "metadata": {},
   "outputs": [
    {
     "data": {
      "text/plain": [
       "['연합뉴스 국고 연 300억 지급',\n",
       " '민주당과 대통령이 싫습니다. 국힘당으로 돌아섭니다.',\n",
       " '장성철로 옆동네싸이트마다 난리네요ㅎㅎ',\n",
       " '이준석 의혹 100%입니다.',\n",
       " '이준석은 시작 자체가 특혜였죠',\n",
       " '평범한 Sw 병특근무자가 보는 시점',\n",
       " '이번 선거는 집토끼 치킨 레이스일거 같아요',\n",
       " '현시각 난리 난 펨코.jpg',\n",
       " '이준석은 끝났네요 ㅋㅋㅋ',\n",
       " '오늘 조선일보의 기사',\n",
       " '“나는 중립적이다” 라는 사람을 경계하세요',\n",
       " '여성징병제가 그렇게 하고싶으면 이준석한테 국민의힘 대선 공약으로 하자고 하세요',\n",
       " '[딴지펌] 이준석의 병역법 위반 무혐의 내린 검사는 누구일까?',\n",
       " '추장관 아들 휴가, 조국교수 딸 표창장으로 공정 떠들던 놈들이..',\n",
       " '2010년 9월 정부문서 확인, 이준석 의혹 민주당 완패',\n",
       " '문준용님 이 이준석 대표와 같은 방법으로 군대를 대신했다면...',\n",
       " \"'이준잣대' 쭌썩이 병특의혹제기 이보다 깔끔할 수 없다!\",\n",
       " '이 정권에 자꾸만 실망하는 이유(조금 깁니다)',\n",
       " '하태경, 이준석의 언젠가 수순...']"
      ]
     },
     "execution_count": 33,
     "metadata": {},
     "output_type": "execute_result"
    }
   ],
   "source": [
    "root = html.fromstring(res.text)\n",
    "root.xpath('//div[@class=\"contents_jirum\"]/div[contains(@class,\"list_item\")]/div/span/a/@title')"
   ]
  },
  {
   "cell_type": "code",
   "execution_count": 34,
   "metadata": {},
   "outputs": [
    {
     "data": {
      "text/plain": [
       "[\"21.06.19 https://m.ytn.co.kr/news_view.php?s_mcd=0101&key=202106190428224433&pos= 이준석의 '직설적 영리함'...진보처럼 보\",\n",
       " '내준다고 해서 찍엇더니 이제는 못해준다고 합다 민주당이 싫습니다 그래서 전 윤석열을 지지하며 이준석을 지지하고 안철수 또 ',\n",
       " '나올거에요. 홍준표로 갈거임..아님 오세훈이나 유승민은 도저히 대구쪽에서 못받아들임 @rurujin님 이준석된거 보면 꼭 그렇지도',\n",
       " '근데 왜 기사가 안나오는건가요?? 기레기들 중국집 홍보전단 돌리느라 잣빠지게 바빠요^^ 활동기간 4천일...귀한 올드비시네요',\n",
       " '이준석을 세상에 알린 박근혜의 갑작스런 발탁도 사실 능력이 아니라 아빠 친구 찬스였다고 밖에 안보이죠 추천 근거라는 벤처업',\n",
       " '아직 20대로 이준석대표보다는 늦게 시작해서 현재는 복무만료상태입니다. 병특 지원자격이야 대학입시마냥 매년 바뀌는 면이 있',\n",
       " '당 대표 됬으니까 페미 풀 코인 밟는 이준석 배신의 정치 하면서 승승 장구하는 유승민계파 간철수의 매운맛 탄핵검사 윤석열과의',\n",
       " '@angleu님 한동훈 관련해서 해왔던짓 보고 공정 지껄이는거보면 뇌가 없는 개체들로 생각됩니다 이준석이 버스론 얘기하는 이유가',\n",
       " '공정? 의혹보니 너무 분명한 특혜라 빠져나오기 어려울듯~ 국킴당 대표에 딱 맞는 인간이었네요~ 너무나도 공정을 좋아하는 그 지',\n",
       " '저런 기사도 내는 거겠죠? 우석대 학생들... 창피해서 어쩌나요.. 누구누구 만세...는 조선의 전공분야...집도 생기고 돈도 생기',\n",
       " '조국교수 딸 표창장 문제도 지금 판결을 더 봐야겠지만 점점 최성해의 위증이 드러나고 있죠. (이준석 지지자들에 의하면 이것도',\n",
       " '이준석이라고 여성징병제 추진 할 수 있을거 같나요?? 이준석이 하나마나한 소리로 여성징병제 추진 피해가면 그건 또 착한반페미',\n",
       " \"김용민 의원이 이준석의 SW마에스트로 사업 지원 관련해서 (사실이라면) '사기죄'의 성립 가능성까지 언급을 한 가운데 이준석은\",\n",
       " '이준석에 대한 의혹 관련하여 피의 쉴드를 칩니다. 너무 노골적이라 안경 벗고 쏴리질렀네요. 그들의 “공정” 지렸습니다 이준잣대',\n",
       " '여기 분들은 아직 모르시는것 같아 올려봅니다 황보승희 임명화이팅~ 한기호임명 화이팅~ 펨ㅋ 화이팅~ 이준잣대 화이팅입니다~ 멍',\n",
       " '어찌 되었을까요?? 24시간 뉴스에 나오고 예전 동료를 찾아가고 공정에 대해서 묻고... 그런 와중에 10년전 한 검사가 무혐의 처',\n",
       " '행복님 고발도 했을걸요. @행복님 저거 지금 공소시효 안 지난 범죄인가요?아 고발됐군요. ??? : 김남국 이준석이 잘나가니까 질',\n",
       " '음.. 이글이 \"나 이제 국짐당 찍을레\"는 아닌듯 합니다. 저분이 국짐 찍을거였으면 아마 펨코가서 이준석 팬클럽 하고있지 않을까',\n",
       " '그런 불확실한 늬앙스를 느꼈습니다요... ㅇ 지금 돌아가는거 보아서는... 국민의 힘내에서.. 어차피 이준석은 그가 가진 철학의 ']"
      ]
     },
     "execution_count": 34,
     "metadata": {},
     "output_type": "execute_result"
    }
   ],
   "source": [
    "root.xpath('//div[@class=\"contents_jirum\"]/div[contains(@class,\"list_item\")]/div/div[@class=\"preview\"]/span/text()')"
   ]
  },
  {
   "cell_type": "code",
   "execution_count": 35,
   "metadata": {},
   "outputs": [
    {
     "data": {
      "text/plain": [
       "['2021-06-19 16:19:04',\n",
       " '2021-06-19 15:53:44',\n",
       " '2021-06-19 15:34:43',\n",
       " '2021-06-19 15:32:34',\n",
       " '2021-06-19 15:31:34',\n",
       " '2021-06-19 15:21:56',\n",
       " '2021-06-19 14:54:41',\n",
       " '2021-06-19 14:54:20',\n",
       " '2021-06-19 14:45:06',\n",
       " '2021-06-19 14:38:58',\n",
       " '2021-06-19 14:38:33',\n",
       " '2021-06-19 14:15:40',\n",
       " '2021-06-19 14:14:56',\n",
       " '2021-06-19 14:13:51',\n",
       " '2021-06-19 13:52:36',\n",
       " '2021-06-19 13:29:50',\n",
       " '2021-06-19 12:55:04',\n",
       " '2021-06-19 12:48:23',\n",
       " '2021-06-19 12:22:45']"
      ]
     },
     "execution_count": 35,
     "metadata": {},
     "output_type": "execute_result"
    }
   ],
   "source": [
    "root.xpath('//div[@class=\"contents_jirum\"]/div[contains(@class,\"list_item\")]/div[@class=\"list_time\"]/span/span[@class=\"timestamp\"]/text()')"
   ]
  },
  {
   "cell_type": "markdown",
   "metadata": {},
   "source": [
    "# 와이고수 -> 데이터 반환 못함"
   ]
  },
  {
   "cell_type": "code",
   "execution_count": 36,
   "metadata": {},
   "outputs": [],
   "source": [
    "url = \"https://www.ygosu.com/all_search/?type=&add_search_log=Y&keyword=이준석\""
   ]
  },
  {
   "cell_type": "code",
   "execution_count": 37,
   "metadata": {},
   "outputs": [],
   "source": [
    "res = requests.get(url)"
   ]
  },
  {
   "cell_type": "code",
   "execution_count": 38,
   "metadata": {},
   "outputs": [
    {
     "data": {
      "text/plain": [
       "<Response [200]>"
      ]
     },
     "execution_count": 38,
     "metadata": {},
     "output_type": "execute_result"
    }
   ],
   "source": [
    "res"
   ]
  },
  {
   "cell_type": "code",
   "execution_count": 39,
   "metadata": {},
   "outputs": [],
   "source": [
    "root = html.fromstring(res.text)"
   ]
  },
  {
   "cell_type": "code",
   "execution_count": 40,
   "metadata": {},
   "outputs": [],
   "source": [
    "tree = root.xpath('//ul[@id=\"board_search_result\"]/li/ul/li/dl')"
   ]
  },
  {
   "cell_type": "code",
   "execution_count": 41,
   "metadata": {},
   "outputs": [
    {
     "data": {
      "text/plain": [
       "[]"
      ]
     },
     "execution_count": 41,
     "metadata": {},
     "output_type": "execute_result"
    }
   ],
   "source": [
    "[''.join(i.xpath('.//dt/a/text()|.//a/strong/text()')) for i in tree]"
   ]
  },
  {
   "cell_type": "code",
   "execution_count": 42,
   "metadata": {},
   "outputs": [
    {
     "data": {
      "text/plain": [
       "[]"
      ]
     },
     "execution_count": 42,
     "metadata": {},
     "output_type": "execute_result"
    }
   ],
   "source": [
    "[''.join(i.xpath('.//dd[@class=\"content\"]/p/text()|.//dd[@class=\"content\"]/p/strong/text()')).strip() for i in tree]"
   ]
  },
  {
   "cell_type": "code",
   "execution_count": 43,
   "metadata": {},
   "outputs": [
    {
     "data": {
      "text/plain": [
       "[]"
      ]
     },
     "execution_count": 43,
     "metadata": {},
     "output_type": "execute_result"
    }
   ],
   "source": [
    "[''.join(i.xpath('.//dt/span[@class=\"date\"]/text()')) for i in tree]"
   ]
  },
  {
   "cell_type": "code",
   "execution_count": null,
   "metadata": {},
   "outputs": [],
   "source": []
  }
 ],
 "metadata": {
  "kernelspec": {
   "display_name": "Python 3",
   "language": "python",
   "name": "python3"
  },
  "language_info": {
   "codemirror_mode": {
    "name": "ipython",
    "version": 3
   },
   "file_extension": ".py",
   "mimetype": "text/x-python",
   "name": "python",
   "nbconvert_exporter": "python",
   "pygments_lexer": "ipython3",
   "version": "3.7.6"
  }
 },
 "nbformat": 4,
 "nbformat_minor": 4
}
